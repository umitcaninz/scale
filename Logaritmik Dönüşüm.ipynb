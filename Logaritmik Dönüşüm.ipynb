{
 "cells": [
  {
   "cell_type": "markdown",
   "id": "85d23556",
   "metadata": {},
   "source": [
    "<h1 style=\"color:purple;\">Logaritmik Dönüşüm</h1>"
   ]
  },
  {
   "cell_type": "markdown",
   "id": "7bf03d93",
   "metadata": {},
   "source": [
    "<p style=\"color:green; font-weight:bold; font-size:15px;\">Logaritmik dönüşüm, istatistik ve veri bilimi alanlarında veri kümelerinin dağılımını düzeltmek ve aykırı değerlerin etkisini azaltmak için kullanılan bir tekniktir. </p>\n",
    "<p style=\"color:green; font-weight:bold; font-size:15px;\">Bu işlem, her bir veri noktasının logaritmasını alarak gerçekleştirilir.</p>\n"
   ]
  },
  {
   "cell_type": "markdown",
   "id": "a1600c1c",
   "metadata": {},
   "source": [
    "<h3 style=\"color:purple;\">Logaritmik Dönüşümün Kullanımı:\n",
    "\n",
    "</h3>"
   ]
  },
  {
   "cell_type": "markdown",
   "id": "f1457af9",
   "metadata": {},
   "source": [
    "<h3 style=\"color:green;\"> 1- Sağa çarpık veri dağılımlarını düzeltmek için</h3>"
   ]
  },
  {
   "cell_type": "markdown",
   "id": "c210656e",
   "metadata": {},
   "source": [
    "<p style=\"color:green; font-weight:bold; font-size:15px;\">- Sağa çarpık veri dağılımlarında, veri noktalarının büyük bir kısmı düşük değerlerde yoğunlaşırken, az sayıda veri noktası yüksek değerlere ulaşabilir.  </p>\n",
    "<p style=\"color:green; font-weight:bold; font-size:15px;\"> - Logaritmik dönüşüm, bu yüksek değerleri küçülterek veri dağılımını daha normal hale getirir.</p>\n"
   ]
  },
  {
   "cell_type": "markdown",
   "id": "25ec740e",
   "metadata": {},
   "source": [
    "<h3 style=\"color:green;\">2- Aykırı değerlerin etkisini azaltmak için</h3>"
   ]
  },
  {
   "cell_type": "markdown",
   "id": "4ddea538",
   "metadata": {},
   "source": [
    "<p style=\"color:green; font-weight:bold; font-size:15px;\">- Aykırı değerler, veri kümesinin ortalama ve standart sapmasını önemli ölçüde etkileyebilir.</p>\n",
    "<p style=\"color:green; font-weight:bold; font-size:15px;\">- Logaritmik dönüşüm, aykırı değerlerin etkisini azaltarak veri kümesinin daha sağlam istatistiksel analizler için uygun hale gelmesini sağlar.</p>\n",
    "\n"
   ]
  },
  {
   "cell_type": "markdown",
   "id": "5adacbbc",
   "metadata": {},
   "source": [
    "<h3 style=\"color:green;\">3 - Veri kümelerindeki değişkenler arasındaki ilişkiyi doğrusallaştırmak için</h3>"
   ]
  },
  {
   "cell_type": "markdown",
   "id": "730149af",
   "metadata": {},
   "source": [
    "<p style=\"color:green; font-weight:bold; font-size:15px;\">- Bazen veri kümelerindeki değişkenler arasında logaritmik bir ilişki olabilir.</p> \n",
    "<p style=\"color:green; font-weight:bold; font-size:15px;\">- Bu durumda, logaritmik dönüşüm bu ilişkiyi doğrusallaştırarak regresyon analizleri gibi istatistiksel yöntemlerin daha kolay uygulanmasını sağlar.</p>\n"
   ]
  },
  {
   "cell_type": "markdown",
   "id": "908e9655",
   "metadata": {},
   "source": [
    "<h3 style=\"color:orange;\">Logaritmik Dönüşümün Avantajları:</h3>"
   ]
  },
  {
   "cell_type": "markdown",
   "id": "415043dc",
   "metadata": {},
   "source": [
    "<p style=\"color:green; font-weight:bold; font-size:15px;\">- Sağa çarpık veri dağılımlarını normalleştirir.\n",
    "</p>\n",
    "<p style=\"color:green; font-weight:bold; font-size:15px;\">- Aykırı değerlerin etkisini azaltır.</p>\n",
    "<p style=\"color:green; font-weight:bold; font-size:15px;\">- Değişkenler arasındaki ilişkiyi doğrusallaştırabilir.\n",
    "</p>\n",
    "<p style=\"color:green; font-weight:bold; font-size:15px;\">- Bazı istatistiksel yöntemlerin daha kolay uygulanmasını sağlar.\n",
    "</p>\n",
    "\n"
   ]
  },
  {
   "cell_type": "markdown",
   "id": "b72a7170",
   "metadata": {},
   "source": [
    "<h3 style=\"color:orange;\">Logaritmik Dönüşümün Dezavantajları:\n",
    "\n",
    "</h3>"
   ]
  },
  {
   "cell_type": "markdown",
   "id": "87c769d8",
   "metadata": {},
   "source": [
    "<p style=\"color:green; font-weight:bold; font-size:15px;\">- Verilerin orijinal ölçeğini ve birimlerini gizleyebilir.\n",
    "</p>\n",
    "<p style=\"color:green; font-weight:bold; font-size:15px;\">- Sıfır ve negatif değerlere sahip veriler üzerinde kullanılamaz.\n",
    "</p>\n",
    "<p style=\"color:green; font-weight:bold; font-size:15px;\">- Logaritmik dönüşüm her zaman gerekli değildir ve bazı durumlarda veri dağılımını bozabilir.\n",
    "</p>\n",
    "\n",
    "\n"
   ]
  },
  {
   "cell_type": "markdown",
   "id": "3574167c",
   "metadata": {},
   "source": [
    "\\begin{equation}\n",
    "\\text{Logaritmik Dönüşüm} = \\log(x + c)\n",
    "\\end{equation}"
   ]
  },
  {
   "cell_type": "markdown",
   "id": "7a0fbe8c",
   "metadata": {},
   "source": [
    "<p style=\"color:red; font-weight:bold; font-size:15px;\">x: Orijinal veri noktası\n",
    "\n",
    "</p>\n",
    "<p style=\"color:red; font-weight:bold; font-size:15px;\">c: Logaritmanın tabanına (örn. 10, 2, e) bağlı olarak seçilecek bir sabit (genellikle 1 veya 0 kullanılır)\n",
    "\n",
    "</p>"
   ]
  },
  {
   "cell_type": "markdown",
   "id": "e42c826e",
   "metadata": {},
   "source": [
    "<h1 style=\"color:red;\">__________________________________________________</h1>\n",
    "<h1 style=\"color:red;\">__________________________________________________</h1>\n",
    "<h1 style=\"color:red;\">__________________________________________________</h1>"
   ]
  },
  {
   "cell_type": "markdown",
   "id": "7acb8260",
   "metadata": {},
   "source": [
    "<h1 style=\"color:purple;\">Python İle Sağa Çarpık Veri Üzerinde Logaritma Dönüşümü</h1>"
   ]
  },
  {
   "cell_type": "code",
   "execution_count": 1,
   "id": "a97e399b",
   "metadata": {},
   "outputs": [],
   "source": [
    "import numpy as np\n",
    "import pandas as pd\n",
    "import matplotlib.pyplot as plt\n",
    "import warnings\n",
    "warnings.filterwarnings(\"ignore\")\n",
    "\n",
    "# Sağa çarpık (sağa çekik) bir dağılım oluşturmak için log-normal dağılım kullanacağız.\n",
    "\n",
    "mean = 10  # Ortalama\n",
    "sigma = 1  # Standart sapma\n",
    "\n",
    "data = np.random.lognormal(mean, sigma, 100000)\n",
    "\n",
    "# Aykırı değerler oluşturmak için, normal dağılım ile log-normal dağılımın birleşimi olacak şekilde bir veri seti oluşturacağız.\n",
    "\n",
    "# Normal dağılım parametreleri\n",
    "normal_mean = 30\n",
    "normal_sigma = 10\n",
    "\n",
    "normal_data = np.random.normal(normal_mean, normal_sigma, 5000)\n",
    "\n",
    "data_with_outliers = np.concatenate((data, normal_data))\n",
    "\n",
    "# Veriyi bir DataFrame'e dönüştür\n",
    "df = pd.DataFrame(data_with_outliers, columns=['Değerler'])\n"
   ]
  },
  {
   "cell_type": "code",
   "execution_count": 2,
   "id": "ff261bd1",
   "metadata": {},
   "outputs": [
    {
     "data": {
      "image/png": "[encoded data removed]",
      "text/plain": [
       "<Figure size 1000x600 with 1 Axes>"
      ]
     },
     "metadata": {},
     "output_type": "display_data"
    }
   ],
   "source": [
    "# Veriyi görselleştir\n",
    "plt.figure(figsize=(10, 6))\n",
    "plt.hist(data_with_outliers, color='skyblue', alpha=0.7)\n",
    "plt.title('Sağa Çarpık Dağılım', fontsize=16)\n",
    "plt.xlabel('Değerler', fontsize=14)\n",
    "plt.ylabel('Frekans', fontsize=14)\n",
    "plt.show()"
   ]
  },
  {
   "cell_type": "code",
   "execution_count": 3,
   "id": "fdd9d034",
   "metadata": {},
   "outputs": [
    {
     "data": {
      "text/html": [
       "<div>\n",
       "<style scoped>\n",
       "    .dataframe tbody tr th:only-of-type {\n",
       "        vertical-align: middle;\n",
       "    }\n",
       "\n",
       "    .dataframe tbody tr th {\n",
       "        vertical-align: top;\n",
       "    }\n",
       "\n",
       "    .dataframe thead th {\n",
       "        text-align: right;\n",
       "    }\n",
       "</style>\n",
       "<table border=\"1\" class=\"dataframe\">\n",
       "  <thead>\n",
       "    <tr style=\"text-align: right;\">\n",
       "      <th></th>\n",
       "      <th>Değerler</th>\n",
       "    </tr>\n",
       "  </thead>\n",
       "  <tbody>\n",
       "    <tr>\n",
       "      <th>0</th>\n",
       "      <td>59790.686543</td>\n",
       "    </tr>\n",
       "    <tr>\n",
       "      <th>1</th>\n",
       "      <td>13463.893531</td>\n",
       "    </tr>\n",
       "    <tr>\n",
       "      <th>2</th>\n",
       "      <td>27784.451509</td>\n",
       "    </tr>\n",
       "    <tr>\n",
       "      <th>3</th>\n",
       "      <td>53579.493037</td>\n",
       "    </tr>\n",
       "    <tr>\n",
       "      <th>4</th>\n",
       "      <td>22425.591146</td>\n",
       "    </tr>\n",
       "    <tr>\n",
       "      <th>...</th>\n",
       "      <td>...</td>\n",
       "    </tr>\n",
       "    <tr>\n",
       "      <th>104995</th>\n",
       "      <td>18.411761</td>\n",
       "    </tr>\n",
       "    <tr>\n",
       "      <th>104996</th>\n",
       "      <td>25.547106</td>\n",
       "    </tr>\n",
       "    <tr>\n",
       "      <th>104997</th>\n",
       "      <td>24.664985</td>\n",
       "    </tr>\n",
       "    <tr>\n",
       "      <th>104998</th>\n",
       "      <td>16.355198</td>\n",
       "    </tr>\n",
       "    <tr>\n",
       "      <th>104999</th>\n",
       "      <td>16.609658</td>\n",
       "    </tr>\n",
       "  </tbody>\n",
       "</table>\n",
       "<p>105000 rows × 1 columns</p>\n",
       "</div>"
      ],
      "text/plain": [
       "            Değerler\n",
       "0       59790.686543\n",
       "1       13463.893531\n",
       "2       27784.451509\n",
       "3       53579.493037\n",
       "4       22425.591146\n",
       "...              ...\n",
       "104995     18.411761\n",
       "104996     25.547106\n",
       "104997     24.664985\n",
       "104998     16.355198\n",
       "104999     16.609658\n",
       "\n",
       "[105000 rows x 1 columns]"
      ]
     },
     "execution_count": 3,
     "metadata": {},
     "output_type": "execute_result"
    }
   ],
   "source": [
    "df"
   ]
  },
  {
   "cell_type": "markdown",
   "id": "583d7e43",
   "metadata": {},
   "source": [
    "<h1 style=\"color:red;\">__________________________________________________</h1>\n",
    "<h1 style=\"color:red;\">__________________________________________________</h1>\n",
    "<h1 style=\"color:red;\">__________________________________________________</h1>"
   ]
  },
  {
   "cell_type": "markdown",
   "id": "7eb73bde",
   "metadata": {},
   "source": [
    "<h3 style=\"color:orange;\">c sabitini 1 alalım ;\n",
    "\n",
    "</h3>"
   ]
  },
  {
   "cell_type": "code",
   "execution_count": 4,
   "id": "ed7442b0",
   "metadata": {},
   "outputs": [],
   "source": [
    "c = 1\n",
    "\n",
    "df['Log_Değerler_c_1'] = np.log(df['Değerler'] + c)"
   ]
  },
  {
   "cell_type": "code",
   "execution_count": 5,
   "id": "d86c281d",
   "metadata": {},
   "outputs": [
    {
     "data": {
      "text/html": [
       "<div>\n",
       "<style scoped>\n",
       "    .dataframe tbody tr th:only-of-type {\n",
       "        vertical-align: middle;\n",
       "    }\n",
       "\n",
       "    .dataframe tbody tr th {\n",
       "        vertical-align: top;\n",
       "    }\n",
       "\n",
       "    .dataframe thead th {\n",
       "        text-align: right;\n",
       "    }\n",
       "</style>\n",
       "<table border=\"1\" class=\"dataframe\">\n",
       "  <thead>\n",
       "    <tr style=\"text-align: right;\">\n",
       "      <th></th>\n",
       "      <th>Değerler</th>\n",
       "      <th>Log_Değerler_c_1</th>\n",
       "    </tr>\n",
       "  </thead>\n",
       "  <tbody>\n",
       "    <tr>\n",
       "      <th>0</th>\n",
       "      <td>59790.686543</td>\n",
       "      <td>10.998622</td>\n",
       "    </tr>\n",
       "    <tr>\n",
       "      <th>1</th>\n",
       "      <td>13463.893531</td>\n",
       "      <td>9.507841</td>\n",
       "    </tr>\n",
       "    <tr>\n",
       "      <th>2</th>\n",
       "      <td>27784.451509</td>\n",
       "      <td>10.232268</td>\n",
       "    </tr>\n",
       "    <tr>\n",
       "      <th>3</th>\n",
       "      <td>53579.493037</td>\n",
       "      <td>10.888940</td>\n",
       "    </tr>\n",
       "    <tr>\n",
       "      <th>4</th>\n",
       "      <td>22425.591146</td>\n",
       "      <td>10.018003</td>\n",
       "    </tr>\n",
       "  </tbody>\n",
       "</table>\n",
       "</div>"
      ],
      "text/plain": [
       "       Değerler  Log_Değerler_c_1\n",
       "0  59790.686543         10.998622\n",
       "1  13463.893531          9.507841\n",
       "2  27784.451509         10.232268\n",
       "3  53579.493037         10.888940\n",
       "4  22425.591146         10.018003"
      ]
     },
     "execution_count": 5,
     "metadata": {},
     "output_type": "execute_result"
    }
   ],
   "source": [
    "df.head()"
   ]
  },
  {
   "cell_type": "code",
   "execution_count": 6,
   "id": "9847a35f",
   "metadata": {},
   "outputs": [
    {
     "data": {
      "image/png": "[encoded data removed]",
      "text/plain": [
       "<Figure size 1000x600 with 1 Axes>"
      ]
     },
     "metadata": {},
     "output_type": "display_data"
    }
   ],
   "source": [
    "# Veriyi görselleştir\n",
    "plt.figure(figsize=(10, 6))\n",
    "plt.hist(df['Log_Değerler_c_1'], color='skyblue', alpha=0.7)\n",
    "plt.title('Log_Değerler_c_1', fontsize=16)\n",
    "plt.xlabel('Değerler', fontsize=14)\n",
    "plt.ylabel('Frekans', fontsize=14)\n",
    "plt.show()"
   ]
  },
  {
   "cell_type": "code",
   "execution_count": 7,
   "id": "6a2ba6ad",
   "metadata": {
    "scrolled": true
   },
   "outputs": [
    {
     "name": "stdout",
     "output_type": "stream",
     "text": [
      "count    104997.000000\n",
      "mean          9.683756\n",
      "std           1.718524\n",
      "min          -4.393139\n",
      "25%           9.200726\n",
      "50%           9.937438\n",
      "75%          10.631972\n",
      "max          14.172661\n",
      "Name: Log_Değerler_c_1, dtype: float64\n"
     ]
    }
   ],
   "source": [
    "print(df['Log_Değerler_c_1'].describe())\n"
   ]
  },
  {
   "cell_type": "markdown",
   "id": "912ceae7",
   "metadata": {},
   "source": [
    "<h4 style=\"color:green;\"> Aykırı Değer Tespiti</h4>"
   ]
  },
  {
   "cell_type": "code",
   "execution_count": 8,
   "id": "3b1401ed",
   "metadata": {},
   "outputs": [
    {
     "data": {
      "text/plain": [
       "8091"
      ]
     },
     "execution_count": 8,
     "metadata": {},
     "output_type": "execute_result"
    }
   ],
   "source": [
    "Q1 = df['Değerler'].quantile(0.25)\n",
    "Q3 = df['Değerler'].quantile(0.75)\n",
    "IQR = Q3 - Q1\n",
    "lower_bound = Q1 - 1.5 * IQR\n",
    "upper_bound = Q3 + 1.5 * IQR\n",
    "outliers_before = df[(df['Değerler'] < lower_bound) | (df['Değerler'] > upper_bound)]\n",
    "len(outliers_before)"
   ]
  },
  {
   "cell_type": "code",
   "execution_count": 9,
   "id": "1ad40a8d",
   "metadata": {},
   "outputs": [
    {
     "data": {
      "text/plain": [
       "5419"
      ]
     },
     "execution_count": 9,
     "metadata": {},
     "output_type": "execute_result"
    }
   ],
   "source": [
    "Q1 = df[\"Log_Değerler_c_1\"].quantile(0.25)\n",
    "Q3 = df[\"Log_Değerler_c_1\"].quantile(0.75)\n",
    "IQR = Q3 - Q1\n",
    "lower_bound = Q1 - 1.5 * IQR\n",
    "upper_bound = Q3 + 1.5 * IQR\n",
    "outliers_after = df[(df[\"Log_Değerler_c_1\"] < lower_bound) | (df[\"Log_Değerler_c_1\"] > upper_bound)]\n",
    "len(outliers_after)"
   ]
  },
  {
   "cell_type": "code",
   "execution_count": 10,
   "id": "a777bada",
   "metadata": {},
   "outputs": [
    {
     "name": "stdout",
     "output_type": "stream",
     "text": [
      "c sabiti 1 alındığında düzeltilen aykırı değer sayısı : 2672\n"
     ]
    }
   ],
   "source": [
    "print(f\"c sabiti 1 alındığında düzeltilen aykırı değer sayısı : {len(outliers_before) - len(outliers_after)}\")"
   ]
  },
  {
   "cell_type": "markdown",
   "id": "f2aa592c",
   "metadata": {},
   "source": [
    "<h1 style=\"color:red;\">__________________________________________________</h1>\n",
    "<h1 style=\"color:red;\">__________________________________________________</h1>\n",
    "<h1 style=\"color:red;\">__________________________________________________</h1>"
   ]
  },
  {
   "cell_type": "markdown",
   "id": "e0961eb3",
   "metadata": {},
   "source": [
    "<h3 style=\"color:orange;\">c sabitini 0 alalım ;\n",
    "\n",
    "</h3>"
   ]
  },
  {
   "cell_type": "code",
   "execution_count": 11,
   "id": "672fe2bc",
   "metadata": {},
   "outputs": [],
   "source": [
    "c = 0\n",
    "\n",
    "df['Log_Değerler_c_0'] = np.log(df['Değerler'] + c)"
   ]
  },
  {
   "cell_type": "code",
   "execution_count": 12,
   "id": "7d96c5d7",
   "metadata": {},
   "outputs": [
    {
     "data": {
      "text/html": [
       "<div>\n",
       "<style scoped>\n",
       "    .dataframe tbody tr th:only-of-type {\n",
       "        vertical-align: middle;\n",
       "    }\n",
       "\n",
       "    .dataframe tbody tr th {\n",
       "        vertical-align: top;\n",
       "    }\n",
       "\n",
       "    .dataframe thead th {\n",
       "        text-align: right;\n",
       "    }\n",
       "</style>\n",
       "<table border=\"1\" class=\"dataframe\">\n",
       "  <thead>\n",
       "    <tr style=\"text-align: right;\">\n",
       "      <th></th>\n",
       "      <th>Değerler</th>\n",
       "      <th>Log_Değerler_c_1</th>\n",
       "      <th>Log_Değerler_c_0</th>\n",
       "    </tr>\n",
       "  </thead>\n",
       "  <tbody>\n",
       "    <tr>\n",
       "      <th>0</th>\n",
       "      <td>59790.686543</td>\n",
       "      <td>10.998622</td>\n",
       "      <td>10.998605</td>\n",
       "    </tr>\n",
       "    <tr>\n",
       "      <th>1</th>\n",
       "      <td>13463.893531</td>\n",
       "      <td>9.507841</td>\n",
       "      <td>9.507767</td>\n",
       "    </tr>\n",
       "    <tr>\n",
       "      <th>2</th>\n",
       "      <td>27784.451509</td>\n",
       "      <td>10.232268</td>\n",
       "      <td>10.232232</td>\n",
       "    </tr>\n",
       "    <tr>\n",
       "      <th>3</th>\n",
       "      <td>53579.493037</td>\n",
       "      <td>10.888940</td>\n",
       "      <td>10.888922</td>\n",
       "    </tr>\n",
       "    <tr>\n",
       "      <th>4</th>\n",
       "      <td>22425.591146</td>\n",
       "      <td>10.018003</td>\n",
       "      <td>10.017958</td>\n",
       "    </tr>\n",
       "  </tbody>\n",
       "</table>\n",
       "</div>"
      ],
      "text/plain": [
       "       Değerler  Log_Değerler_c_1  Log_Değerler_c_0\n",
       "0  59790.686543         10.998622         10.998605\n",
       "1  13463.893531          9.507841          9.507767\n",
       "2  27784.451509         10.232268         10.232232\n",
       "3  53579.493037         10.888940         10.888922\n",
       "4  22425.591146         10.018003         10.017958"
      ]
     },
     "execution_count": 12,
     "metadata": {},
     "output_type": "execute_result"
    }
   ],
   "source": [
    "df.head()"
   ]
  },
  {
   "cell_type": "code",
   "execution_count": 13,
   "id": "3bb76bf2",
   "metadata": {},
   "outputs": [
    {
     "data": {
      "image/png": "[encoded data removed]",
      "text/plain": [
       "<Figure size 1000x600 with 1 Axes>"
      ]
     },
     "metadata": {},
     "output_type": "display_data"
    }
   ],
   "source": [
    "plt.figure(figsize=(10, 6))\n",
    "plt.hist(df['Log_Değerler_c_0'], color='skyblue', alpha=0.7)\n",
    "plt.title('Log_Değerler_c_0', fontsize=16)\n",
    "plt.xlabel('Değerler', fontsize=14)\n",
    "plt.ylabel('Frekans', fontsize=14)\n",
    "plt.show()"
   ]
  },
  {
   "cell_type": "code",
   "execution_count": 14,
   "id": "a7fa8f7b",
   "metadata": {
    "scrolled": false
   },
   "outputs": [
    {
     "name": "stdout",
     "output_type": "stream",
     "text": [
      "count    104991.000000\n",
      "mean          9.682482\n",
      "std           1.723522\n",
      "min          -1.471428\n",
      "25%           9.200912\n",
      "50%           9.937405\n",
      "75%          10.631969\n",
      "max          14.172660\n",
      "Name: Log_Değerler_c_0, dtype: float64\n"
     ]
    }
   ],
   "source": [
    "print(df['Log_Değerler_c_0'].describe())\n"
   ]
  },
  {
   "cell_type": "markdown",
   "id": "c6847286",
   "metadata": {},
   "source": [
    "<h4 style=\"color:green;\"> Aykırı Değer Tespiti</h4>"
   ]
  },
  {
   "cell_type": "code",
   "execution_count": 15,
   "id": "69d027f6",
   "metadata": {},
   "outputs": [
    {
     "data": {
      "text/plain": [
       "8091"
      ]
     },
     "execution_count": 15,
     "metadata": {},
     "output_type": "execute_result"
    }
   ],
   "source": [
    "Q1 = df['Değerler'].quantile(0.25)\n",
    "Q3 = df['Değerler'].quantile(0.75)\n",
    "IQR = Q3 - Q1\n",
    "lower_bound = Q1 - 1.5 * IQR\n",
    "upper_bound = Q3 + 1.5 * IQR\n",
    "outliers_before = df[(df['Değerler'] < lower_bound) | (df['Değerler'] > upper_bound)]\n",
    "len(outliers_before)"
   ]
  },
  {
   "cell_type": "code",
   "execution_count": 16,
   "id": "65e748ee",
   "metadata": {},
   "outputs": [
    {
     "data": {
      "text/plain": [
       "5415"
      ]
     },
     "execution_count": 16,
     "metadata": {},
     "output_type": "execute_result"
    }
   ],
   "source": [
    "Q1 = df[\"Log_Değerler_c_0\"].quantile(0.25)\n",
    "Q3 = df[\"Log_Değerler_c_0\"].quantile(0.75)\n",
    "IQR = Q3 - Q1\n",
    "lower_bound = Q1 - 1.5 * IQR\n",
    "upper_bound = Q3 + 1.5 * IQR\n",
    "outliers_after = df[(df[\"Log_Değerler_c_0\"] < lower_bound) | (df[\"Log_Değerler_c_0\"] > upper_bound)]\n",
    "len(outliers_after)"
   ]
  },
  {
   "cell_type": "code",
   "execution_count": 17,
   "id": "3e67845f",
   "metadata": {},
   "outputs": [
    {
     "name": "stdout",
     "output_type": "stream",
     "text": [
      "c sabiti 0 alındığında düzeltilen aykırı değer sayısı : 2676\n"
     ]
    }
   ],
   "source": [
    "print(f\"c sabiti 0 alındığında düzeltilen aykırı değer sayısı : {len(outliers_before) - len(outliers_after)}\")"
   ]
  },
  {
   "cell_type": "markdown",
   "id": "115abe2b",
   "metadata": {},
   "source": [
    "<h1 style=\"color:red;\">__________________________________________________</h1>\n",
    "<h1 style=\"color:red;\">__________________________________________________</h1>\n",
    "<h1 style=\"color:red;\">__________________________________________________</h1>"
   ]
  },
  {
   "cell_type": "markdown",
   "id": "dee6edaa",
   "metadata": {},
   "source": [
    "<h3 style=\"color:orange;\">c sabitini 0.5 alalım ;\n",
    "</h3>"
   ]
  },
  {
   "cell_type": "code",
   "execution_count": 18,
   "id": "af739bee",
   "metadata": {},
   "outputs": [],
   "source": [
    "c = 0.5\n",
    "\n",
    "df['Log_Değerler_c_0.5'] = np.log(df['Değerler'] + c)"
   ]
  },
  {
   "cell_type": "code",
   "execution_count": 19,
   "id": "63b091ac",
   "metadata": {},
   "outputs": [
    {
     "data": {
      "text/html": [
       "<div>\n",
       "<style scoped>\n",
       "    .dataframe tbody tr th:only-of-type {\n",
       "        vertical-align: middle;\n",
       "    }\n",
       "\n",
       "    .dataframe tbody tr th {\n",
       "        vertical-align: top;\n",
       "    }\n",
       "\n",
       "    .dataframe thead th {\n",
       "        text-align: right;\n",
       "    }\n",
       "</style>\n",
       "<table border=\"1\" class=\"dataframe\">\n",
       "  <thead>\n",
       "    <tr style=\"text-align: right;\">\n",
       "      <th></th>\n",
       "      <th>Değerler</th>\n",
       "      <th>Log_Değerler_c_1</th>\n",
       "      <th>Log_Değerler_c_0</th>\n",
       "      <th>Log_Değerler_c_0.5</th>\n",
       "    </tr>\n",
       "  </thead>\n",
       "  <tbody>\n",
       "    <tr>\n",
       "      <th>0</th>\n",
       "      <td>59790.686543</td>\n",
       "      <td>10.998622</td>\n",
       "      <td>10.998605</td>\n",
       "      <td>10.998614</td>\n",
       "    </tr>\n",
       "    <tr>\n",
       "      <th>1</th>\n",
       "      <td>13463.893531</td>\n",
       "      <td>9.507841</td>\n",
       "      <td>9.507767</td>\n",
       "      <td>9.507804</td>\n",
       "    </tr>\n",
       "    <tr>\n",
       "      <th>2</th>\n",
       "      <td>27784.451509</td>\n",
       "      <td>10.232268</td>\n",
       "      <td>10.232232</td>\n",
       "      <td>10.232250</td>\n",
       "    </tr>\n",
       "    <tr>\n",
       "      <th>3</th>\n",
       "      <td>53579.493037</td>\n",
       "      <td>10.888940</td>\n",
       "      <td>10.888922</td>\n",
       "      <td>10.888931</td>\n",
       "    </tr>\n",
       "    <tr>\n",
       "      <th>4</th>\n",
       "      <td>22425.591146</td>\n",
       "      <td>10.018003</td>\n",
       "      <td>10.017958</td>\n",
       "      <td>10.017980</td>\n",
       "    </tr>\n",
       "  </tbody>\n",
       "</table>\n",
       "</div>"
      ],
      "text/plain": [
       "       Değerler  Log_Değerler_c_1  Log_Değerler_c_0  Log_Değerler_c_0.5\n",
       "0  59790.686543         10.998622         10.998605           10.998614\n",
       "1  13463.893531          9.507841          9.507767            9.507804\n",
       "2  27784.451509         10.232268         10.232232           10.232250\n",
       "3  53579.493037         10.888940         10.888922           10.888931\n",
       "4  22425.591146         10.018003         10.017958           10.017980"
      ]
     },
     "execution_count": 19,
     "metadata": {},
     "output_type": "execute_result"
    }
   ],
   "source": [
    "df.head()"
   ]
  },
  {
   "cell_type": "code",
   "execution_count": 20,
   "id": "bfedd3f7",
   "metadata": {},
   "outputs": [
    {
     "data": {
      "image/png": "[encoded data removed]",
      "text/plain": [
       "<Figure size 1000x600 with 1 Axes>"
      ]
     },
     "metadata": {},
     "output_type": "display_data"
    }
   ],
   "source": [
    "plt.figure(figsize=(10, 6))\n",
    "plt.hist(df['Log_Değerler_c_0.5'], color='skyblue', alpha=0.7)\n",
    "plt.title('Log_Değerler_c_0.5', fontsize=16)\n",
    "plt.xlabel('Değerler', fontsize=14)\n",
    "plt.ylabel('Frekans', fontsize=14)\n",
    "plt.show()"
   ]
  },
  {
   "cell_type": "code",
   "execution_count": 21,
   "id": "0131ca32",
   "metadata": {
    "scrolled": true
   },
   "outputs": [
    {
     "name": "stdout",
     "output_type": "stream",
     "text": [
      "count    104992.000000\n",
      "mean          9.683359\n",
      "std           1.720176\n",
      "min          -0.987651\n",
      "25%           9.200920\n",
      "50%           9.937426\n",
      "75%          10.631974\n",
      "max          14.172660\n",
      "Name: Log_Değerler_c_0.5, dtype: float64\n"
     ]
    }
   ],
   "source": [
    "print(df['Log_Değerler_c_0.5'].describe())\n"
   ]
  },
  {
   "cell_type": "markdown",
   "id": "300bf6e6",
   "metadata": {},
   "source": [
    "<h4 style=\"color:green;\"> Aykırı Değer Tespiti</h4>"
   ]
  },
  {
   "cell_type": "code",
   "execution_count": 22,
   "id": "908c84dd",
   "metadata": {},
   "outputs": [
    {
     "data": {
      "text/plain": [
       "8091"
      ]
     },
     "execution_count": 22,
     "metadata": {},
     "output_type": "execute_result"
    }
   ],
   "source": [
    "Q1 = df['Değerler'].quantile(0.25)\n",
    "Q3 = df['Değerler'].quantile(0.75)\n",
    "IQR = Q3 - Q1\n",
    "lower_bound = Q1 - 1.5 * IQR\n",
    "upper_bound = Q3 + 1.5 * IQR\n",
    "outliers_before = df[(df['Değerler'] < lower_bound) | (df['Değerler'] > upper_bound)]\n",
    "len(outliers_before)"
   ]
  },
  {
   "cell_type": "code",
   "execution_count": 23,
   "id": "9396db13",
   "metadata": {},
   "outputs": [
    {
     "data": {
      "text/plain": [
       "5416"
      ]
     },
     "execution_count": 23,
     "metadata": {},
     "output_type": "execute_result"
    }
   ],
   "source": [
    "Q1 = df[\"Log_Değerler_c_0.5\"].quantile(0.25)\n",
    "Q3 = df[\"Log_Değerler_c_0.5\"].quantile(0.75)\n",
    "IQR = Q3 - Q1\n",
    "lower_bound = Q1 - 1.5 * IQR\n",
    "upper_bound = Q3 + 1.5 * IQR\n",
    "outliers_after = df[(df[\"Log_Değerler_c_0.5\"] < lower_bound) | (df[\"Log_Değerler_c_0.5\"] > upper_bound)]\n",
    "len(outliers_after)"
   ]
  },
  {
   "cell_type": "code",
   "execution_count": 24,
   "id": "def09586",
   "metadata": {},
   "outputs": [
    {
     "name": "stdout",
     "output_type": "stream",
     "text": [
      "c sabiti 0.5 alındığında düzeltilen aykırı değer sayısı : 2675\n"
     ]
    }
   ],
   "source": [
    "print(f\"c sabiti 0.5 alındığında düzeltilen aykırı değer sayısı : {len(outliers_before) - len(outliers_after)}\")"
   ]
  },
  {
   "cell_type": "markdown",
   "id": "3f8436d1",
   "metadata": {},
   "source": [
    "<h1 style=\"color:red;\">__________________________________________________</h1>\n",
    "<h1 style=\"color:red;\">__________________________________________________</h1>\n",
    "<h1 style=\"color:red;\">__________________________________________________</h1>"
   ]
  },
  {
   "cell_type": "markdown",
   "id": "6dd0b246",
   "metadata": {},
   "source": [
    "<h3 style=\"color:orange;\">c sabitini 0.1 alalım ;\n",
    "</h3>"
   ]
  },
  {
   "cell_type": "code",
   "execution_count": 25,
   "id": "ffd8f916",
   "metadata": {},
   "outputs": [],
   "source": [
    "c = 0.1\n",
    "\n",
    "df['Log_Değerler_c_0.1'] = np.log(df['Değerler'] + c)"
   ]
  },
  {
   "cell_type": "code",
   "execution_count": 26,
   "id": "29e2ad97",
   "metadata": {},
   "outputs": [
    {
     "data": {
      "text/html": [
       "<div>\n",
       "<style scoped>\n",
       "    .dataframe tbody tr th:only-of-type {\n",
       "        vertical-align: middle;\n",
       "    }\n",
       "\n",
       "    .dataframe tbody tr th {\n",
       "        vertical-align: top;\n",
       "    }\n",
       "\n",
       "    .dataframe thead th {\n",
       "        text-align: right;\n",
       "    }\n",
       "</style>\n",
       "<table border=\"1\" class=\"dataframe\">\n",
       "  <thead>\n",
       "    <tr style=\"text-align: right;\">\n",
       "      <th></th>\n",
       "      <th>Değerler</th>\n",
       "      <th>Log_Değerler_c_1</th>\n",
       "      <th>Log_Değerler_c_0</th>\n",
       "      <th>Log_Değerler_c_0.5</th>\n",
       "      <th>Log_Değerler_c_0.1</th>\n",
       "    </tr>\n",
       "  </thead>\n",
       "  <tbody>\n",
       "    <tr>\n",
       "      <th>0</th>\n",
       "      <td>59790.686543</td>\n",
       "      <td>10.998622</td>\n",
       "      <td>10.998605</td>\n",
       "      <td>10.998614</td>\n",
       "      <td>10.998607</td>\n",
       "    </tr>\n",
       "    <tr>\n",
       "      <th>1</th>\n",
       "      <td>13463.893531</td>\n",
       "      <td>9.507841</td>\n",
       "      <td>9.507767</td>\n",
       "      <td>9.507804</td>\n",
       "      <td>9.507774</td>\n",
       "    </tr>\n",
       "    <tr>\n",
       "      <th>2</th>\n",
       "      <td>27784.451509</td>\n",
       "      <td>10.232268</td>\n",
       "      <td>10.232232</td>\n",
       "      <td>10.232250</td>\n",
       "      <td>10.232235</td>\n",
       "    </tr>\n",
       "    <tr>\n",
       "      <th>3</th>\n",
       "      <td>53579.493037</td>\n",
       "      <td>10.888940</td>\n",
       "      <td>10.888922</td>\n",
       "      <td>10.888931</td>\n",
       "      <td>10.888924</td>\n",
       "    </tr>\n",
       "    <tr>\n",
       "      <th>4</th>\n",
       "      <td>22425.591146</td>\n",
       "      <td>10.018003</td>\n",
       "      <td>10.017958</td>\n",
       "      <td>10.017980</td>\n",
       "      <td>10.017963</td>\n",
       "    </tr>\n",
       "  </tbody>\n",
       "</table>\n",
       "</div>"
      ],
      "text/plain": [
       "       Değerler  Log_Değerler_c_1  Log_Değerler_c_0  Log_Değerler_c_0.5  \\\n",
       "0  59790.686543         10.998622         10.998605           10.998614   \n",
       "1  13463.893531          9.507841          9.507767            9.507804   \n",
       "2  27784.451509         10.232268         10.232232           10.232250   \n",
       "3  53579.493037         10.888940         10.888922           10.888931   \n",
       "4  22425.591146         10.018003         10.017958           10.017980   \n",
       "\n",
       "   Log_Değerler_c_0.1  \n",
       "0           10.998607  \n",
       "1            9.507774  \n",
       "2           10.232235  \n",
       "3           10.888924  \n",
       "4           10.017963  "
      ]
     },
     "execution_count": 26,
     "metadata": {},
     "output_type": "execute_result"
    }
   ],
   "source": [
    "df.head()"
   ]
  },
  {
   "cell_type": "code",
   "execution_count": 27,
   "id": "24f7df42",
   "metadata": {},
   "outputs": [
    {
     "data": {
      "image/png": "[encoded data removed]",
      "text/plain": [
       "<Figure size 1000x600 with 1 Axes>"
      ]
     },
     "metadata": {},
     "output_type": "display_data"
    }
   ],
   "source": [
    "plt.figure(figsize=(10, 6))\n",
    "plt.hist(df['Log_Değerler_c_0.1'], color='skyblue', alpha=0.7)\n",
    "plt.title('Log_Değerler_c_0.1', fontsize=16)\n",
    "plt.xlabel('Değerler', fontsize=14)\n",
    "plt.ylabel('Frekans', fontsize=14)\n",
    "plt.show()"
   ]
  },
  {
   "cell_type": "code",
   "execution_count": 28,
   "id": "f1b8cffa",
   "metadata": {
    "scrolled": false
   },
   "outputs": [
    {
     "name": "stdout",
     "output_type": "stream",
     "text": [
      "count    104991.000000\n",
      "mean          9.682681\n",
      "std           1.722770\n",
      "min          -1.109883\n",
      "25%           9.200922\n",
      "50%           9.937410\n",
      "75%          10.631971\n",
      "max          14.172660\n",
      "Name: Log_Değerler_c_0.1, dtype: float64\n"
     ]
    }
   ],
   "source": [
    "print(df['Log_Değerler_c_0.1'].describe())\n"
   ]
  },
  {
   "cell_type": "markdown",
   "id": "a4771bee",
   "metadata": {},
   "source": [
    "<h4 style=\"color:green;\"> Aykırı Değer Tespiti</h4>"
   ]
  },
  {
   "cell_type": "code",
   "execution_count": 29,
   "id": "6a3ac5ef",
   "metadata": {},
   "outputs": [
    {
     "data": {
      "text/plain": [
       "8091"
      ]
     },
     "execution_count": 29,
     "metadata": {},
     "output_type": "execute_result"
    }
   ],
   "source": [
    "Q1 = df['Değerler'].quantile(0.25)\n",
    "Q3 = df['Değerler'].quantile(0.75)\n",
    "IQR = Q3 - Q1\n",
    "lower_bound = Q1 - 1.5 * IQR\n",
    "upper_bound = Q3 + 1.5 * IQR\n",
    "outliers_before = df[(df['Değerler'] < lower_bound) | (df['Değerler'] > upper_bound)]\n",
    "len(outliers_before)"
   ]
  },
  {
   "cell_type": "code",
   "execution_count": 30,
   "id": "0a6ad967",
   "metadata": {},
   "outputs": [
    {
     "data": {
      "text/plain": [
       "5415"
      ]
     },
     "execution_count": 30,
     "metadata": {},
     "output_type": "execute_result"
    }
   ],
   "source": [
    "Q1 = df[\"Log_Değerler_c_0.1\"].quantile(0.25)\n",
    "Q3 = df[\"Log_Değerler_c_0.1\"].quantile(0.75)\n",
    "IQR = Q3 - Q1\n",
    "lower_bound = Q1 - 1.5 * IQR\n",
    "upper_bound = Q3 + 1.5 * IQR\n",
    "outliers_after = df[(df[\"Log_Değerler_c_0.1\"] < lower_bound) | (df[\"Log_Değerler_c_0.1\"] > upper_bound)]\n",
    "len(outliers_after)"
   ]
  },
  {
   "cell_type": "code",
   "execution_count": 31,
   "id": "1de742a1",
   "metadata": {},
   "outputs": [
    {
     "name": "stdout",
     "output_type": "stream",
     "text": [
      "c sabiti 0.1 alındığında düzeltilen aykırı değer sayısı : 2676\n"
     ]
    }
   ],
   "source": [
    "print(f\"c sabiti 0.1 alındığında düzeltilen aykırı değer sayısı : {len(outliers_before) - len(outliers_after)}\")"
   ]
  },
  {
   "cell_type": "markdown",
   "id": "ebb81b3b",
   "metadata": {},
   "source": [
    "<h1 style=\"color:red;\">__________________________________________________</h1>\n",
    "<h1 style=\"color:red;\">__________________________________________________</h1>\n",
    "<h1 style=\"color:red;\">__________________________________________________</h1>"
   ]
  },
  {
   "cell_type": "markdown",
   "id": "e7e8d8a3",
   "metadata": {},
   "source": [
    "<h1 style=\"color:purple;\">En Optimal c Değerini MSE ile Bulma ;\n",
    "\n",
    "</h1>"
   ]
  },
  {
   "cell_type": "code",
   "execution_count": 32,
   "id": "b8e5162f",
   "metadata": {},
   "outputs": [
    {
     "name": "stdout",
     "output_type": "stream",
     "text": [
      "En optimal c değeri: 10.0\n"
     ]
    }
   ],
   "source": [
    "c_values = np.arange(0.1, 10.1, 0.1)\n",
    "mse_values = []\n",
    "\n",
    "for c in c_values:\n",
    "    df['Log_Değerler'] = np.log(df['Değerler'] + c)\n",
    "\n",
    "    mse = np.mean((df['Log_Değerler'] - df['Log_Değerler'].mean())**2)\n",
    "    mse_values.append(mse)\n",
    "\n",
    "min_mse_index = mse_values.index(min(mse_values))\n",
    "optimal_c = c_values[min_mse_index]\n",
    "df.drop(\"Log_Değerler\",axis=1,inplace=True)\n",
    "print(\"En optimal c değeri:\", optimal_c)"
   ]
  },
  {
   "cell_type": "code",
   "execution_count": 33,
   "id": "b50c7e30",
   "metadata": {},
   "outputs": [
    {
     "data": {
      "text/html": [
       "<div>\n",
       "<style scoped>\n",
       "    .dataframe tbody tr th:only-of-type {\n",
       "        vertical-align: middle;\n",
       "    }\n",
       "\n",
       "    .dataframe tbody tr th {\n",
       "        vertical-align: top;\n",
       "    }\n",
       "\n",
       "    .dataframe thead th {\n",
       "        text-align: right;\n",
       "    }\n",
       "</style>\n",
       "<table border=\"1\" class=\"dataframe\">\n",
       "  <thead>\n",
       "    <tr style=\"text-align: right;\">\n",
       "      <th></th>\n",
       "      <th>c_values</th>\n",
       "      <th>MSE</th>\n",
       "    </tr>\n",
       "  </thead>\n",
       "  <tbody>\n",
       "    <tr>\n",
       "      <th>99</th>\n",
       "      <td>10.0</td>\n",
       "      <td>2.779761</td>\n",
       "    </tr>\n",
       "    <tr>\n",
       "      <th>98</th>\n",
       "      <td>9.9</td>\n",
       "      <td>2.781363</td>\n",
       "    </tr>\n",
       "    <tr>\n",
       "      <th>97</th>\n",
       "      <td>9.8</td>\n",
       "      <td>2.782970</td>\n",
       "    </tr>\n",
       "    <tr>\n",
       "      <th>96</th>\n",
       "      <td>9.7</td>\n",
       "      <td>2.784583</td>\n",
       "    </tr>\n",
       "    <tr>\n",
       "      <th>95</th>\n",
       "      <td>9.6</td>\n",
       "      <td>2.786202</td>\n",
       "    </tr>\n",
       "    <tr>\n",
       "      <th>...</th>\n",
       "      <td>...</td>\n",
       "      <td>...</td>\n",
       "    </tr>\n",
       "    <tr>\n",
       "      <th>5</th>\n",
       "      <td>0.6</td>\n",
       "      <td>2.960178</td>\n",
       "    </tr>\n",
       "    <tr>\n",
       "      <th>3</th>\n",
       "      <td>0.4</td>\n",
       "      <td>2.961498</td>\n",
       "    </tr>\n",
       "    <tr>\n",
       "      <th>2</th>\n",
       "      <td>0.3</td>\n",
       "      <td>2.964076</td>\n",
       "    </tr>\n",
       "    <tr>\n",
       "      <th>1</th>\n",
       "      <td>0.2</td>\n",
       "      <td>2.966780</td>\n",
       "    </tr>\n",
       "    <tr>\n",
       "      <th>0</th>\n",
       "      <td>0.1</td>\n",
       "      <td>2.967909</td>\n",
       "    </tr>\n",
       "  </tbody>\n",
       "</table>\n",
       "<p>100 rows × 2 columns</p>\n",
       "</div>"
      ],
      "text/plain": [
       "    c_values       MSE\n",
       "99      10.0  2.779761\n",
       "98       9.9  2.781363\n",
       "97       9.8  2.782970\n",
       "96       9.7  2.784583\n",
       "95       9.6  2.786202\n",
       "..       ...       ...\n",
       "5        0.6  2.960178\n",
       "3        0.4  2.961498\n",
       "2        0.3  2.964076\n",
       "1        0.2  2.966780\n",
       "0        0.1  2.967909\n",
       "\n",
       "[100 rows x 2 columns]"
      ]
     },
     "execution_count": 33,
     "metadata": {},
     "output_type": "execute_result"
    }
   ],
   "source": [
    "df_mse = pd.DataFrame({'c_values': c_values, 'MSE': mse_values})\n",
    "df_mse.sort_values(ascending=True,by=\"MSE\")"
   ]
  },
  {
   "cell_type": "markdown",
   "id": "f44b0709",
   "metadata": {},
   "source": [
    "<h1 style=\"color:red;\">__________________________________________________</h1>\n",
    "<h1 style=\"color:red;\">__________________________________________________</h1>\n",
    "<h1 style=\"color:red;\">__________________________________________________</h1>"
   ]
  },
  {
   "cell_type": "code",
   "execution_count": 34,
   "id": "456614d7",
   "metadata": {},
   "outputs": [],
   "source": [
    "c = 10\n",
    "\n",
    "df['Log_Değerler_c_10'] = np.log(df['Değerler'] + c)"
   ]
  },
  {
   "cell_type": "code",
   "execution_count": 35,
   "id": "d9e9b6c5",
   "metadata": {
    "scrolled": true
   },
   "outputs": [
    {
     "data": {
      "image/png": "[encoded data removed]",
      "text/plain": [
       "<Figure size 1000x600 with 1 Axes>"
      ]
     },
     "metadata": {},
     "output_type": "display_data"
    }
   ],
   "source": [
    "plt.figure(figsize=(10, 6))\n",
    "plt.hist(df['Log_Değerler_c_10'], color='skyblue', alpha=0.7)\n",
    "plt.title('Log_Değerler_c_10', fontsize=16)\n",
    "plt.xlabel('Değerler', fontsize=14)\n",
    "plt.ylabel('Frekans', fontsize=14)\n",
    "plt.show()"
   ]
  },
  {
   "cell_type": "markdown",
   "id": "e7179a9b",
   "metadata": {},
   "source": [
    "<h4 style=\"color:green;\"> Aykırı Değer Tespiti</h4>"
   ]
  },
  {
   "cell_type": "code",
   "execution_count": 36,
   "id": "fac4a579",
   "metadata": {},
   "outputs": [
    {
     "data": {
      "text/plain": [
       "8091"
      ]
     },
     "execution_count": 36,
     "metadata": {},
     "output_type": "execute_result"
    }
   ],
   "source": [
    "Q1 = df['Değerler'].quantile(0.25)\n",
    "Q3 = df['Değerler'].quantile(0.75)\n",
    "IQR = Q3 - Q1\n",
    "lower_bound = Q1 - 1.5 * IQR\n",
    "upper_bound = Q3 + 1.5 * IQR\n",
    "outliers_before = df[(df['Değerler'] < lower_bound) | (df['Değerler'] > upper_bound)]\n",
    "len(outliers_before)"
   ]
  },
  {
   "cell_type": "code",
   "execution_count": 37,
   "id": "d1dfb35c",
   "metadata": {},
   "outputs": [
    {
     "data": {
      "text/plain": [
       "5422"
      ]
     },
     "execution_count": 37,
     "metadata": {},
     "output_type": "execute_result"
    }
   ],
   "source": [
    "Q1 = df[\"Log_Değerler_c_10\"].quantile(0.25)\n",
    "Q3 = df[\"Log_Değerler_c_10\"].quantile(0.75)\n",
    "IQR = Q3 - Q1\n",
    "lower_bound = Q1 - 1.5 * IQR\n",
    "upper_bound = Q3 + 1.5 * IQR\n",
    "outliers_after = df[(df[\"Log_Değerler_c_10\"] < lower_bound) | (df[\"Log_Değerler_c_10\"] > upper_bound)]\n",
    "len(outliers_after)"
   ]
  },
  {
   "cell_type": "code",
   "execution_count": 38,
   "id": "5f3d46fe",
   "metadata": {},
   "outputs": [
    {
     "name": "stdout",
     "output_type": "stream",
     "text": [
      "c sabiti 10 alındığında düzeltilen aykırı değer sayısı : 2669\n"
     ]
    }
   ],
   "source": [
    "print(f\"c sabiti 10 alındığında düzeltilen aykırı değer sayısı : {len(outliers_before) - len(outliers_after)}\")"
   ]
  },
  {
   "cell_type": "markdown",
   "id": "3b0293e4",
   "metadata": {},
   "source": [
    "<h1 style=\"color:red;\">__________________________________________________</h1>\n",
    "<h1 style=\"color:red;\">__________________________________________________</h1>\n",
    "<h1 style=\"color:red;\">__________________________________________________</h1>"
   ]
  },
  {
   "cell_type": "code",
   "execution_count": 39,
   "id": "f004c5f6",
   "metadata": {
    "scrolled": false
   },
   "outputs": [
    {
     "data": {
      "image/png": "[encoded data removed]",
      "text/plain": [
       "<Figure size 1200x600 with 5 Axes>"
      ]
     },
     "metadata": {},
     "output_type": "display_data"
    }
   ],
   "source": [
    "plt.figure(figsize=(12, 6))\n",
    "\n",
    "plt.subplot(2, 3, 1)\n",
    "plt.hist(df['Log_Değerler_c_1'], bins=30, color='blue', alpha=0.7)\n",
    "plt.title('Log_Değerler_c_1')\n",
    "\n",
    "plt.subplot(2, 3, 2)\n",
    "plt.hist(df['Log_Değerler_c_0'], bins=30, color='red', alpha=0.7)\n",
    "plt.title('Log_Değerler_c_0')\n",
    "\n",
    "plt.subplot(2, 3, 3)\n",
    "plt.hist(df['Log_Değerler_c_0.5'], bins=30, color='green', alpha=0.7)\n",
    "plt.title('Log_Değerler_c_0.5')\n",
    "\n",
    "plt.subplot(2, 3, 4)\n",
    "plt.hist(df['Log_Değerler_c_0.1'], bins=30, color='orange', alpha=0.7)\n",
    "plt.title('Log_Değerler_c_0.1')\n",
    "\n",
    "plt.subplot(2, 3, 5)\n",
    "plt.hist(df['Log_Değerler_c_10'], bins=30, color='purple', alpha=0.7)\n",
    "plt.title('Log_Değerler_c_10')\n",
    "\n",
    "plt.tight_layout()\n",
    "plt.show()"
   ]
  },
  {
   "cell_type": "code",
   "execution_count": null,
   "id": "27aee7f9",
   "metadata": {},
   "outputs": [],
   "source": []
  }
 ],
 "metadata": {
  "kernelspec": {
   "display_name": "Python 3 (ipykernel)",
   "language": "python",
   "name": "python3"
  },
  "language_info": {
   "codemirror_mode": {
    "name": "ipython",
    "version": 3
   },
   "file_extension": ".py",
   "mimetype": "text/x-python",
   "name": "python",
   "nbconvert_exporter": "python",
   "pygments_lexer": "ipython3",
   "version": "3.11.5"
  }
 },
 "nbformat": 4,
 "nbformat_minor": 5
}
