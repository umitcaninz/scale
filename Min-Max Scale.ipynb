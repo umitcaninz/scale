{
 "cells": [
  {
   "cell_type": "markdown",
   "id": "121da37f",
   "metadata": {},
   "source": [
    "<h1 style=\"color:purple;\">Min-Max Normalizasyonu</h1>"
   ]
  },
  {
   "cell_type": "markdown",
   "id": "f3a052fe",
   "metadata": {},
   "source": [
    "<p style=\"color:green; font-weight:bold; font-size:15px;\">Min-Max Normalizasyonu, genellikle veri ön işleme aşamasında kullanılan bir tekniktir.</p>\n",
    "<p style=\"color:green; font-weight:bold; font-size:15px;\">Bu teknik, farklı aralıklarda ifade edilen verileri 0 ile 1 arası bir aralığa dönüştürerek karşılaştırılabilir hale getirmeyi amaçlar.</p>\n"
   ]
  },
  {
   "cell_type": "markdown",
   "id": "5d44d2e1",
   "metadata": {},
   "source": [
    "<h3 style=\"color:purple;\">Çalışma Şekli:</h3>"
   ]
  },
  {
   "cell_type": "markdown",
   "id": "c36aeca1",
   "metadata": {},
   "source": [
    "<h4 style=\"color:green;\">Adım - 1 )  Minimum ve Maksimum Değerlerin Bulunması:</h4>"
   ]
  },
  {
   "cell_type": "markdown",
   "id": "e135e609",
   "metadata": {},
   "source": [
    "<p style=\"color:green; font-weight:bold; font-size:15px;\"> Veri setindeki her bir özellik (sütun) için en küçük (minimum) ve en büyük (maksimum) değerler bulunur.</p>"
   ]
  },
  {
   "cell_type": "markdown",
   "id": "a8d52e2e",
   "metadata": {},
   "source": [
    "<h4 style=\"color:green;\">Adım - 2 ) Yeni Değerlerin Hesaplanması:</h4>"
   ]
  },
  {
   "cell_type": "markdown",
   "id": "23f921f8",
   "metadata": {},
   "source": [
    "<p style=\"color:green; font-weight:bold; font-size:15px;\">  Her bir veri noktası için, o özellikteki değerden minimum değerin çıkarılıp, maksimum değer ile minimum değer arasındaki farka bölünür.</p>"
   ]
  },
  {
   "cell_type": "markdown",
   "id": "b77af4ab",
   "metadata": {},
   "source": [
    "\\begin{equation}\n",
    "\\text{Normalize Edilmiş Değer} = \\frac{x - \\min(X)}{\\max(X) - \\min(X)}\n",
    "\\end{equation}"
   ]
  },
  {
   "cell_type": "markdown",
   "id": "0aa7f3f5",
   "metadata": {},
   "source": [
    "<p style=\"color:red; font-weight:bold; font-size:15px;\">x: Normalleştirilecek değer</p>\n",
    "<p style=\"color:red; font-weight:bold; font-size:15px;\">min(X): Veri setindeki özelliğin minimum değeri</p>\n",
    "<p style=\"color:red; font-weight:bold; font-size:15px;\">max(X): Veri setindeki özelliğin maksimum değeri</p>"
   ]
  },
  {
   "cell_type": "markdown",
   "id": "b12cbc5b",
   "metadata": {},
   "source": [
    "<h3 style=\"color:purple;\">Dezavantajları</h3>\n",
    "<p style=\"color:green; font-weight:bold; font-size:15px;\">  Veri setindeki uç değerlere (outlier) duyarlıdır. Uç değerler normalizasyon işlemini etkileyebilir.</p>\n",
    "<p style=\"color:green; font-weight:bold; font-size:15px;\"> Veri sıralamasını korur, ancak mesafeleri korumaz. Yani, orijinal veride birbirine yakın olan iki nokta, normalleştirilmiş veride birbirinden çok uzak görünebilir. </p>"
   ]
  },
  {
   "cell_type": "markdown",
   "id": "d2be3b01",
   "metadata": {},
   "source": [
    "<h1 style=\"color:purple;\">Python İle Sağa Çarpık Veri Üzerinde Min-Max Normalizasyonu</h1>"
   ]
  },
  {
   "cell_type": "code",
   "execution_count": 1,
   "id": "085de3e1",
   "metadata": {},
   "outputs": [],
   "source": [
    "import numpy as np\n",
    "import pandas as pd\n",
    "import matplotlib.pyplot as plt\n",
    "\n",
    "# Sağa çarpık (sağa çekik) bir dağılım oluşturmak için log-normal dağılım kullanacağız.\n",
    "\n",
    "mean = 10  # Ortalama\n",
    "sigma = 1  # Standart sapma\n",
    "\n",
    "data = np.random.lognormal(mean, sigma, 100000)\n",
    "\n",
    "# Aykırı değerler oluşturmak için, normal dağılım ile log-normal dağılımın birleşimi olacak şekilde bir veri seti oluşturacağız.\n",
    "\n",
    "# Normal dağılım parametreleri\n",
    "normal_mean = 30\n",
    "normal_sigma = 10\n",
    "\n",
    "normal_data = np.random.normal(normal_mean, normal_sigma, 5000)\n",
    "\n",
    "data_with_outliers = np.concatenate((data, normal_data))\n",
    "\n",
    "# Veriyi bir DataFrame'e dönüştür\n",
    "df = pd.DataFrame(data_with_outliers, columns=['Değerler'])\n"
   ]
  },
  {
   "cell_type": "code",
   "execution_count": 2,
   "id": "b0648c1c",
   "metadata": {
    "scrolled": false
   },
   "outputs": [
    {
     "data": {
      "image/png": "[encoded data removed]",
      "text/plain": [
       "<Figure size 1000x600 with 1 Axes>"
      ]
     },
     "metadata": {},
     "output_type": "display_data"
    }
   ],
   "source": [
    "# Veriyi görselleştir\n",
    "plt.figure(figsize=(10, 6))\n",
    "plt.hist(data_with_outliers, bins=100, color='blue', alpha=0.7)\n",
    "plt.title('Sağa Çarpık Dağılım', fontsize=16)\n",
    "plt.xlabel('Değerler', fontsize=14)\n",
    "plt.ylabel('Frekans', fontsize=14)\n",
    "plt.show()"
   ]
  },
  {
   "cell_type": "code",
   "execution_count": 3,
   "id": "4bb49b8f",
   "metadata": {},
   "outputs": [
    {
     "data": {
      "text/html": [
       "<div>\n",
       "<style scoped>\n",
       "    .dataframe tbody tr th:only-of-type {\n",
       "        vertical-align: middle;\n",
       "    }\n",
       "\n",
       "    .dataframe tbody tr th {\n",
       "        vertical-align: top;\n",
       "    }\n",
       "\n",
       "    .dataframe thead th {\n",
       "        text-align: right;\n",
       "    }\n",
       "</style>\n",
       "<table border=\"1\" class=\"dataframe\">\n",
       "  <thead>\n",
       "    <tr style=\"text-align: right;\">\n",
       "      <th></th>\n",
       "      <th>Değerler</th>\n",
       "    </tr>\n",
       "  </thead>\n",
       "  <tbody>\n",
       "    <tr>\n",
       "      <th>0</th>\n",
       "      <td>32800.657904</td>\n",
       "    </tr>\n",
       "    <tr>\n",
       "      <th>1</th>\n",
       "      <td>86625.138457</td>\n",
       "    </tr>\n",
       "    <tr>\n",
       "      <th>2</th>\n",
       "      <td>33070.264185</td>\n",
       "    </tr>\n",
       "    <tr>\n",
       "      <th>3</th>\n",
       "      <td>3138.355166</td>\n",
       "    </tr>\n",
       "    <tr>\n",
       "      <th>4</th>\n",
       "      <td>13232.685292</td>\n",
       "    </tr>\n",
       "    <tr>\n",
       "      <th>...</th>\n",
       "      <td>...</td>\n",
       "    </tr>\n",
       "    <tr>\n",
       "      <th>104995</th>\n",
       "      <td>28.900162</td>\n",
       "    </tr>\n",
       "    <tr>\n",
       "      <th>104996</th>\n",
       "      <td>42.121206</td>\n",
       "    </tr>\n",
       "    <tr>\n",
       "      <th>104997</th>\n",
       "      <td>41.424378</td>\n",
       "    </tr>\n",
       "    <tr>\n",
       "      <th>104998</th>\n",
       "      <td>45.163400</td>\n",
       "    </tr>\n",
       "    <tr>\n",
       "      <th>104999</th>\n",
       "      <td>30.160155</td>\n",
       "    </tr>\n",
       "  </tbody>\n",
       "</table>\n",
       "<p>105000 rows × 1 columns</p>\n",
       "</div>"
      ],
      "text/plain": [
       "            Değerler\n",
       "0       32800.657904\n",
       "1       86625.138457\n",
       "2       33070.264185\n",
       "3        3138.355166\n",
       "4       13232.685292\n",
       "...              ...\n",
       "104995     28.900162\n",
       "104996     42.121206\n",
       "104997     41.424378\n",
       "104998     45.163400\n",
       "104999     30.160155\n",
       "\n",
       "[105000 rows x 1 columns]"
      ]
     },
     "execution_count": 3,
     "metadata": {},
     "output_type": "execute_result"
    }
   ],
   "source": [
    "df"
   ]
  },
  {
   "cell_type": "markdown",
   "id": "79278d57",
   "metadata": {},
   "source": [
    "<h4 style=\"color:green;\">Adım - 1 )  Minimum ve Maksimum Değerlerin Bulunması:</h4>"
   ]
  },
  {
   "cell_type": "code",
   "execution_count": 4,
   "id": "77140e20",
   "metadata": {},
   "outputs": [
    {
     "name": "stdout",
     "output_type": "stream",
     "text": [
      "-15.936145059711379 2051403.254146608\n"
     ]
    }
   ],
   "source": [
    "min_val = df['Değerler'].min()\n",
    "\n",
    "max_val = df['Değerler'].max()\n",
    "print(min_val,max_val)"
   ]
  },
  {
   "cell_type": "markdown",
   "id": "014e5de6",
   "metadata": {},
   "source": [
    "<h4 style=\"color:green;\">Adım - 2 ) Yeni Değerlerin Hesaplanması:</h4>"
   ]
  },
  {
   "cell_type": "code",
   "execution_count": 5,
   "id": "6fde52e7",
   "metadata": {},
   "outputs": [],
   "source": [
    "df['Normalize Edilmiş Değerler'] = (df['Değerler'] - min_val) / (max_val - min_val)\n"
   ]
  },
  {
   "cell_type": "code",
   "execution_count": 6,
   "id": "71777352",
   "metadata": {},
   "outputs": [
    {
     "data": {
      "text/html": [
       "<div>\n",
       "<style scoped>\n",
       "    .dataframe tbody tr th:only-of-type {\n",
       "        vertical-align: middle;\n",
       "    }\n",
       "\n",
       "    .dataframe tbody tr th {\n",
       "        vertical-align: top;\n",
       "    }\n",
       "\n",
       "    .dataframe thead th {\n",
       "        text-align: right;\n",
       "    }\n",
       "</style>\n",
       "<table border=\"1\" class=\"dataframe\">\n",
       "  <thead>\n",
       "    <tr style=\"text-align: right;\">\n",
       "      <th></th>\n",
       "      <th>Değerler</th>\n",
       "      <th>Normalize Edilmiş Değerler</th>\n",
       "    </tr>\n",
       "  </thead>\n",
       "  <tbody>\n",
       "    <tr>\n",
       "      <th>0</th>\n",
       "      <td>32800.657904</td>\n",
       "      <td>0.015997</td>\n",
       "    </tr>\n",
       "    <tr>\n",
       "      <th>1</th>\n",
       "      <td>86625.138457</td>\n",
       "      <td>0.042235</td>\n",
       "    </tr>\n",
       "    <tr>\n",
       "      <th>2</th>\n",
       "      <td>33070.264185</td>\n",
       "      <td>0.016128</td>\n",
       "    </tr>\n",
       "    <tr>\n",
       "      <th>3</th>\n",
       "      <td>3138.355166</td>\n",
       "      <td>0.001538</td>\n",
       "    </tr>\n",
       "    <tr>\n",
       "      <th>4</th>\n",
       "      <td>13232.685292</td>\n",
       "      <td>0.006458</td>\n",
       "    </tr>\n",
       "  </tbody>\n",
       "</table>\n",
       "</div>"
      ],
      "text/plain": [
       "       Değerler  Normalize Edilmiş Değerler\n",
       "0  32800.657904                    0.015997\n",
       "1  86625.138457                    0.042235\n",
       "2  33070.264185                    0.016128\n",
       "3   3138.355166                    0.001538\n",
       "4  13232.685292                    0.006458"
      ]
     },
     "execution_count": 6,
     "metadata": {},
     "output_type": "execute_result"
    }
   ],
   "source": [
    "df.head()"
   ]
  },
  {
   "cell_type": "code",
   "execution_count": 7,
   "id": "9a213b71",
   "metadata": {},
   "outputs": [
    {
     "data": {
      "text/html": [
       "<div>\n",
       "<style scoped>\n",
       "    .dataframe tbody tr th:only-of-type {\n",
       "        vertical-align: middle;\n",
       "    }\n",
       "\n",
       "    .dataframe tbody tr th {\n",
       "        vertical-align: top;\n",
       "    }\n",
       "\n",
       "    .dataframe thead th {\n",
       "        text-align: right;\n",
       "    }\n",
       "</style>\n",
       "<table border=\"1\" class=\"dataframe\">\n",
       "  <thead>\n",
       "    <tr style=\"text-align: right;\">\n",
       "      <th></th>\n",
       "      <th>Değerler</th>\n",
       "      <th>Normalize Edilmiş Değerler</th>\n",
       "    </tr>\n",
       "  </thead>\n",
       "  <tbody>\n",
       "    <tr>\n",
       "      <th>104995</th>\n",
       "      <td>28.900162</td>\n",
       "      <td>0.000022</td>\n",
       "    </tr>\n",
       "    <tr>\n",
       "      <th>104996</th>\n",
       "      <td>42.121206</td>\n",
       "      <td>0.000028</td>\n",
       "    </tr>\n",
       "    <tr>\n",
       "      <th>104997</th>\n",
       "      <td>41.424378</td>\n",
       "      <td>0.000028</td>\n",
       "    </tr>\n",
       "    <tr>\n",
       "      <th>104998</th>\n",
       "      <td>45.163400</td>\n",
       "      <td>0.000030</td>\n",
       "    </tr>\n",
       "    <tr>\n",
       "      <th>104999</th>\n",
       "      <td>30.160155</td>\n",
       "      <td>0.000022</td>\n",
       "    </tr>\n",
       "  </tbody>\n",
       "</table>\n",
       "</div>"
      ],
      "text/plain": [
       "         Değerler  Normalize Edilmiş Değerler\n",
       "104995  28.900162                    0.000022\n",
       "104996  42.121206                    0.000028\n",
       "104997  41.424378                    0.000028\n",
       "104998  45.163400                    0.000030\n",
       "104999  30.160155                    0.000022"
      ]
     },
     "execution_count": 7,
     "metadata": {},
     "output_type": "execute_result"
    }
   ],
   "source": [
    "df.tail()"
   ]
  },
  {
   "cell_type": "code",
   "execution_count": 8,
   "id": "efc26ccd",
   "metadata": {
    "scrolled": true
   },
   "outputs": [
    {
     "data": {
      "text/plain": [
       "count    1.050000e+05\n",
       "mean     3.449980e+04\n",
       "std      4.779612e+04\n",
       "min     -1.593615e+01\n",
       "25%      9.912655e+03\n",
       "50%      2.058817e+04\n",
       "75%      4.130030e+04\n",
       "max      2.051403e+06\n",
       "Name: Değerler, dtype: float64"
      ]
     },
     "execution_count": 8,
     "metadata": {},
     "output_type": "execute_result"
    }
   ],
   "source": [
    "df[\"Değerler\"].describe()"
   ]
  },
  {
   "cell_type": "code",
   "execution_count": 9,
   "id": "ea6bb90f",
   "metadata": {
    "scrolled": true
   },
   "outputs": [
    {
     "data": {
      "text/plain": [
       "count    105000.000000\n",
       "mean          0.016825\n",
       "std           0.023299\n",
       "min           0.000000\n",
       "25%           0.004840\n",
       "50%           0.010044\n",
       "75%           0.020140\n",
       "max           1.000000\n",
       "Name: Normalize Edilmiş Değerler, dtype: float64"
      ]
     },
     "execution_count": 9,
     "metadata": {},
     "output_type": "execute_result"
    }
   ],
   "source": [
    "df[\"Normalize Edilmiş Değerler\"].describe()"
   ]
  },
  {
   "cell_type": "code",
   "execution_count": 10,
   "id": "4f8a49c2",
   "metadata": {},
   "outputs": [
    {
     "data": {
      "image/png": "[encoded data removed]",
      "text/plain": [
       "<Figure size 1000x600 with 1 Axes>"
      ]
     },
     "metadata": {},
     "output_type": "display_data"
    }
   ],
   "source": [
    "# Veriyi görselleştir\n",
    "plt.figure(figsize=(10, 6))\n",
    "plt.hist(df[\"Normalize Edilmiş Değerler\"], bins=100, color='blue', alpha=0.7)\n",
    "plt.title('Sağa Çarpık Dağılım', fontsize=16)\n",
    "plt.xlabel('Değerler', fontsize=14)\n",
    "plt.ylabel('Frekans', fontsize=14)\n",
    "plt.show()"
   ]
  },
  {
   "cell_type": "markdown",
   "id": "034de3d4",
   "metadata": {},
   "source": [
    "<h4 style=\"color:green;\"> Aykırı Değer Tespiti</h4>"
   ]
  },
  {
   "cell_type": "code",
   "execution_count": 11,
   "id": "020fef7b",
   "metadata": {},
   "outputs": [
    {
     "data": {
      "text/plain": [
       "8179"
      ]
     },
     "execution_count": 11,
     "metadata": {},
     "output_type": "execute_result"
    }
   ],
   "source": [
    "Q1 = df['Değerler'].quantile(0.25)\n",
    "Q3 = df['Değerler'].quantile(0.75)\n",
    "IQR = Q3 - Q1\n",
    "lower_bound = Q1 - 1.5 * IQR\n",
    "upper_bound = Q3 + 1.5 * IQR\n",
    "outliers = df[(df['Değerler'] < lower_bound) | (df['Değerler'] > upper_bound)]\n",
    "len(outliers)"
   ]
  },
  {
   "cell_type": "code",
   "execution_count": 12,
   "id": "609edf51",
   "metadata": {
    "scrolled": true
   },
   "outputs": [
    {
     "data": {
      "text/plain": [
       "8179"
      ]
     },
     "execution_count": 12,
     "metadata": {},
     "output_type": "execute_result"
    }
   ],
   "source": [
    "Q1 = df[\"Normalize Edilmiş Değerler\"].quantile(0.25)\n",
    "Q3 = df[\"Normalize Edilmiş Değerler\"].quantile(0.75)\n",
    "IQR = Q3 - Q1\n",
    "lower_bound = Q1 - 1.5 * IQR\n",
    "upper_bound = Q3 + 1.5 * IQR\n",
    "outliers = df[(df[\"Normalize Edilmiş Değerler\"] < lower_bound) | (df[\"Normalize Edilmiş Değerler\"] > upper_bound)]\n",
    "len(outliers)"
   ]
  },
  {
   "cell_type": "markdown",
   "id": "ad92f4ce",
   "metadata": {},
   "source": [
    "<h1 style=\"color:red;\">__________________________________________________</h1>\n",
    "<h1 style=\"color:red;\">__________________________________________________</h1>\n",
    "<h1 style=\"color:red;\">__________________________________________________</h1>"
   ]
  },
  {
   "cell_type": "markdown",
   "id": "21a8316e",
   "metadata": {},
   "source": [
    "<h1 style=\"color:purple;\">Python İle Sola Çarpık Veri Üzerinde Min-Max Normalizasyonu</h1>"
   ]
  },
  {
   "cell_type": "code",
   "execution_count": 13,
   "id": "a4e85678",
   "metadata": {},
   "outputs": [],
   "source": [
    "import numpy as np\n",
    "import pandas as pd\n",
    "import matplotlib.pyplot as plt\n",
    "\n",
    "# Sola çarpık (sola çekik) bir dağılım oluşturmak için negatif log-normal dağılım kullanacağız.\n",
    "# Bu, normal bir dağılımı negatif logaritmik olarak dönüştürerek sola çarpık bir dağılım elde eder.\n",
    "# Negatif log-normal dağılımın parametreleri olan mean ve sigma'yı belirleyebiliriz.\n",
    "\n",
    "mean = 10  # Ortalama\n",
    "sigma = 1  # Standart sapma\n",
    "\n",
    "# Negatif log-normal dağılımı oluşturmak için numpy kütüphanesindeki random.lognormal fonksiyonunu kullanacağız.\n",
    "# Bu fonksiyon, belirtilen ortalama ve standart sapmaya sahip bir negatif log-normal dağılımı döndürür.\n",
    "\n",
    "data = np.random.lognormal(mean, sigma, 100000) * -1  # Negatif log-normal dağılımı elde etmek için sonucu -1 ile çarpıyoruz\n",
    "\n",
    "# Aykırı değerler oluşturmak için, normal dağılım ile negatif log-normal dağılımın birleşimi olacak şekilde bir veri seti oluşturacağız.\n",
    "# Bunu yapmak için, normal dağılımdan bazı rastgele değerler alıp bunları negatif log-normal dağılıma ekleyeceğiz.\n",
    "\n",
    "# Normal dağılım parametreleri\n",
    "normal_mean = -30\n",
    "normal_sigma = 10\n",
    "\n",
    "# Normal dağılımdan rastgele değerler oluştur\n",
    "normal_data = np.random.normal(normal_mean, normal_sigma, 5000)\n",
    "\n",
    "# Normal dağılım ile negatif log-normal dağılımın birleşimi\n",
    "data_with_outliers = np.concatenate((data, normal_data))\n",
    "\n",
    "\n",
    "df = pd.DataFrame(data_with_outliers, columns=['Değerler'])\n"
   ]
  },
  {
   "cell_type": "code",
   "execution_count": 14,
   "id": "fd21f2be",
   "metadata": {},
   "outputs": [
    {
     "data": {
      "text/html": [
       "<div>\n",
       "<style scoped>\n",
       "    .dataframe tbody tr th:only-of-type {\n",
       "        vertical-align: middle;\n",
       "    }\n",
       "\n",
       "    .dataframe tbody tr th {\n",
       "        vertical-align: top;\n",
       "    }\n",
       "\n",
       "    .dataframe thead th {\n",
       "        text-align: right;\n",
       "    }\n",
       "</style>\n",
       "<table border=\"1\" class=\"dataframe\">\n",
       "  <thead>\n",
       "    <tr style=\"text-align: right;\">\n",
       "      <th></th>\n",
       "      <th>Değerler</th>\n",
       "    </tr>\n",
       "  </thead>\n",
       "  <tbody>\n",
       "    <tr>\n",
       "      <th>0</th>\n",
       "      <td>-3960.749238</td>\n",
       "    </tr>\n",
       "    <tr>\n",
       "      <th>1</th>\n",
       "      <td>-12606.388077</td>\n",
       "    </tr>\n",
       "    <tr>\n",
       "      <th>2</th>\n",
       "      <td>-19740.738924</td>\n",
       "    </tr>\n",
       "    <tr>\n",
       "      <th>3</th>\n",
       "      <td>-5149.466653</td>\n",
       "    </tr>\n",
       "    <tr>\n",
       "      <th>4</th>\n",
       "      <td>-10568.296764</td>\n",
       "    </tr>\n",
       "  </tbody>\n",
       "</table>\n",
       "</div>"
      ],
      "text/plain": [
       "       Değerler\n",
       "0  -3960.749238\n",
       "1 -12606.388077\n",
       "2 -19740.738924\n",
       "3  -5149.466653\n",
       "4 -10568.296764"
      ]
     },
     "execution_count": 14,
     "metadata": {},
     "output_type": "execute_result"
    }
   ],
   "source": [
    "df.head()"
   ]
  },
  {
   "cell_type": "code",
   "execution_count": 15,
   "id": "acb77af5",
   "metadata": {
    "scrolled": false
   },
   "outputs": [
    {
     "data": {
      "image/png": "[encoded data removed]",
      "text/plain": [
       "<Figure size 1000x600 with 1 Axes>"
      ]
     },
     "metadata": {},
     "output_type": "display_data"
    }
   ],
   "source": [
    "# Veriyi görselleştir\n",
    "plt.figure(figsize=(10, 6))\n",
    "plt.hist(data_with_outliers, bins=50, color='green', alpha=0.7)\n",
    "plt.title('Sola Çarpık Dağılım', fontsize=16)\n",
    "plt.xlabel('Değerler', fontsize=14)\n",
    "plt.ylabel('Frekans', fontsize=14)\n",
    "plt.show()\n"
   ]
  },
  {
   "cell_type": "markdown",
   "id": "0b1b1329",
   "metadata": {},
   "source": [
    "<h4 style=\"color:green;\">Adım - 1 )  Minimum ve Maksimum Değerlerin Bulunması:</h4>"
   ]
  },
  {
   "cell_type": "code",
   "execution_count": 16,
   "id": "db8d0087",
   "metadata": {},
   "outputs": [
    {
     "name": "stdout",
     "output_type": "stream",
     "text": [
      "-1380106.3716938905 3.6115682605449067\n"
     ]
    }
   ],
   "source": [
    "min_val = df['Değerler'].min()\n",
    "\n",
    "max_val = df['Değerler'].max()\n",
    "print(min_val,max_val)"
   ]
  },
  {
   "cell_type": "markdown",
   "id": "6b192c4e",
   "metadata": {},
   "source": [
    "<h4 style=\"color:green;\">Adım - 2 ) Yeni Değerlerin Hesaplanması:</h4>"
   ]
  },
  {
   "cell_type": "code",
   "execution_count": 17,
   "id": "f6ead92f",
   "metadata": {},
   "outputs": [],
   "source": [
    "df['Normalize Edilmiş Değerler'] = (df['Değerler'] - min_val) / (max_val - min_val)\n"
   ]
  },
  {
   "cell_type": "code",
   "execution_count": 18,
   "id": "bd0d3cf3",
   "metadata": {},
   "outputs": [
    {
     "data": {
      "image/png": "[encoded data removed]",
      "text/plain": [
       "<Figure size 1000x600 with 1 Axes>"
      ]
     },
     "metadata": {},
     "output_type": "display_data"
    }
   ],
   "source": [
    "# Veriyi görselleştir\n",
    "plt.figure(figsize=(10, 6))\n",
    "plt.hist(df['Normalize Edilmiş Değerler'] , bins=50, color='green', alpha=0.7)\n",
    "plt.title('Sola Çarpık Dağılım', fontsize=16)\n",
    "plt.xlabel('Değerler', fontsize=14)\n",
    "plt.ylabel('Frekans', fontsize=14)\n",
    "plt.show()\n"
   ]
  },
  {
   "cell_type": "code",
   "execution_count": 19,
   "id": "d17dd2c5",
   "metadata": {
    "scrolled": true
   },
   "outputs": [
    {
     "data": {
      "text/html": [
       "<div>\n",
       "<style scoped>\n",
       "    .dataframe tbody tr th:only-of-type {\n",
       "        vertical-align: middle;\n",
       "    }\n",
       "\n",
       "    .dataframe tbody tr th {\n",
       "        vertical-align: top;\n",
       "    }\n",
       "\n",
       "    .dataframe thead th {\n",
       "        text-align: right;\n",
       "    }\n",
       "</style>\n",
       "<table border=\"1\" class=\"dataframe\">\n",
       "  <thead>\n",
       "    <tr style=\"text-align: right;\">\n",
       "      <th></th>\n",
       "      <th>Değerler</th>\n",
       "      <th>Normalize Edilmiş Değerler</th>\n",
       "    </tr>\n",
       "  </thead>\n",
       "  <tbody>\n",
       "    <tr>\n",
       "      <th>0</th>\n",
       "      <td>-3960.749238</td>\n",
       "      <td>0.997128</td>\n",
       "    </tr>\n",
       "    <tr>\n",
       "      <th>1</th>\n",
       "      <td>-12606.388077</td>\n",
       "      <td>0.990863</td>\n",
       "    </tr>\n",
       "    <tr>\n",
       "      <th>2</th>\n",
       "      <td>-19740.738924</td>\n",
       "      <td>0.985694</td>\n",
       "    </tr>\n",
       "    <tr>\n",
       "      <th>3</th>\n",
       "      <td>-5149.466653</td>\n",
       "      <td>0.996266</td>\n",
       "    </tr>\n",
       "    <tr>\n",
       "      <th>4</th>\n",
       "      <td>-10568.296764</td>\n",
       "      <td>0.992340</td>\n",
       "    </tr>\n",
       "  </tbody>\n",
       "</table>\n",
       "</div>"
      ],
      "text/plain": [
       "       Değerler  Normalize Edilmiş Değerler\n",
       "0  -3960.749238                    0.997128\n",
       "1 -12606.388077                    0.990863\n",
       "2 -19740.738924                    0.985694\n",
       "3  -5149.466653                    0.996266\n",
       "4 -10568.296764                    0.992340"
      ]
     },
     "execution_count": 19,
     "metadata": {},
     "output_type": "execute_result"
    }
   ],
   "source": [
    "df.head()"
   ]
  },
  {
   "cell_type": "code",
   "execution_count": 20,
   "id": "2f4824eb",
   "metadata": {},
   "outputs": [
    {
     "data": {
      "text/html": [
       "<div>\n",
       "<style scoped>\n",
       "    .dataframe tbody tr th:only-of-type {\n",
       "        vertical-align: middle;\n",
       "    }\n",
       "\n",
       "    .dataframe tbody tr th {\n",
       "        vertical-align: top;\n",
       "    }\n",
       "\n",
       "    .dataframe thead th {\n",
       "        text-align: right;\n",
       "    }\n",
       "</style>\n",
       "<table border=\"1\" class=\"dataframe\">\n",
       "  <thead>\n",
       "    <tr style=\"text-align: right;\">\n",
       "      <th></th>\n",
       "      <th>Değerler</th>\n",
       "      <th>Normalize Edilmiş Değerler</th>\n",
       "    </tr>\n",
       "  </thead>\n",
       "  <tbody>\n",
       "    <tr>\n",
       "      <th>104995</th>\n",
       "      <td>-35.378565</td>\n",
       "      <td>0.999972</td>\n",
       "    </tr>\n",
       "    <tr>\n",
       "      <th>104996</th>\n",
       "      <td>-33.725964</td>\n",
       "      <td>0.999973</td>\n",
       "    </tr>\n",
       "    <tr>\n",
       "      <th>104997</th>\n",
       "      <td>-26.100517</td>\n",
       "      <td>0.999978</td>\n",
       "    </tr>\n",
       "    <tr>\n",
       "      <th>104998</th>\n",
       "      <td>-36.978055</td>\n",
       "      <td>0.999971</td>\n",
       "    </tr>\n",
       "    <tr>\n",
       "      <th>104999</th>\n",
       "      <td>-31.981491</td>\n",
       "      <td>0.999974</td>\n",
       "    </tr>\n",
       "  </tbody>\n",
       "</table>\n",
       "</div>"
      ],
      "text/plain": [
       "         Değerler  Normalize Edilmiş Değerler\n",
       "104995 -35.378565                    0.999972\n",
       "104996 -33.725964                    0.999973\n",
       "104997 -26.100517                    0.999978\n",
       "104998 -36.978055                    0.999971\n",
       "104999 -31.981491                    0.999974"
      ]
     },
     "execution_count": 20,
     "metadata": {},
     "output_type": "execute_result"
    }
   ],
   "source": [
    "df.tail()"
   ]
  },
  {
   "cell_type": "code",
   "execution_count": 21,
   "id": "c50dc429",
   "metadata": {},
   "outputs": [
    {
     "data": {
      "text/plain": [
       "count    1.050000e+05\n",
       "mean    -3.458459e+04\n",
       "std      4.755425e+04\n",
       "min     -1.380106e+06\n",
       "25%     -4.125203e+04\n",
       "50%     -2.063782e+04\n",
       "75%     -9.966127e+03\n",
       "max      3.611568e+00\n",
       "Name: Değerler, dtype: float64"
      ]
     },
     "execution_count": 21,
     "metadata": {},
     "output_type": "execute_result"
    }
   ],
   "source": [
    "df[\"Değerler\"].describe()"
   ]
  },
  {
   "cell_type": "code",
   "execution_count": 22,
   "id": "3b91410d",
   "metadata": {},
   "outputs": [
    {
     "data": {
      "text/plain": [
       "count    105000.000000\n",
       "mean          0.974938\n",
       "std           0.034457\n",
       "min           0.000000\n",
       "25%           0.970107\n",
       "50%           0.985044\n",
       "75%           0.992776\n",
       "max           1.000000\n",
       "Name: Normalize Edilmiş Değerler, dtype: float64"
      ]
     },
     "execution_count": 22,
     "metadata": {},
     "output_type": "execute_result"
    }
   ],
   "source": [
    "df['Normalize Edilmiş Değerler'].describe()"
   ]
  },
  {
   "cell_type": "markdown",
   "id": "4c437056",
   "metadata": {},
   "source": [
    "<h4 style=\"color:green;\"> Aykırı Değer Tespiti</h4>"
   ]
  },
  {
   "cell_type": "code",
   "execution_count": 23,
   "id": "fdf14d99",
   "metadata": {},
   "outputs": [
    {
     "data": {
      "text/plain": [
       "8285"
      ]
     },
     "execution_count": 23,
     "metadata": {},
     "output_type": "execute_result"
    }
   ],
   "source": [
    "Q1 = df['Değerler'].quantile(0.25)\n",
    "Q3 = df['Değerler'].quantile(0.75)\n",
    "IQR = Q3 - Q1\n",
    "lower_bound = Q1 - 1.5 * IQR\n",
    "upper_bound = Q3 + 1.5 * IQR\n",
    "outliers = df[(df['Değerler'] < lower_bound) | (df['Değerler'] > upper_bound)]\n",
    "len(outliers)"
   ]
  },
  {
   "cell_type": "code",
   "execution_count": 24,
   "id": "a9951dea",
   "metadata": {},
   "outputs": [
    {
     "data": {
      "text/plain": [
       "8285"
      ]
     },
     "execution_count": 24,
     "metadata": {},
     "output_type": "execute_result"
    }
   ],
   "source": [
    "Q1 = df[\"Normalize Edilmiş Değerler\"].quantile(0.25)\n",
    "Q3 = df[\"Normalize Edilmiş Değerler\"].quantile(0.75)\n",
    "IQR = Q3 - Q1\n",
    "lower_bound = Q1 - 1.5 * IQR\n",
    "upper_bound = Q3 + 1.5 * IQR\n",
    "outliers = df[(df[\"Normalize Edilmiş Değerler\"] < lower_bound) | (df[\"Normalize Edilmiş Değerler\"] > upper_bound)]\n",
    "len(outliers)"
   ]
  },
  {
   "cell_type": "markdown",
   "id": "d8f1dc6e",
   "metadata": {},
   "source": [
    "<h1 style=\"color:red;\">__________________________________________________</h1>\n",
    "<h1 style=\"color:red;\">__________________________________________________</h1>\n",
    "<h1 style=\"color:red;\">__________________________________________________</h1>"
   ]
  },
  {
   "cell_type": "markdown",
   "id": "5aa1531b",
   "metadata": {},
   "source": [
    "<h1 style=\"color:purple;\">Python İle İki Modlu Veri Üzerinde Min-Max Normalizasyonu</h1>"
   ]
  },
  {
   "cell_type": "code",
   "execution_count": 25,
   "id": "697074b3",
   "metadata": {},
   "outputs": [
    {
     "data": {
      "image/png": "[encoded data removed]",
      "text/plain": [
       "<Figure size 1000x600 with 1 Axes>"
      ]
     },
     "metadata": {},
     "output_type": "display_data"
    }
   ],
   "source": [
    "import numpy as np\n",
    "import matplotlib.pyplot as plt\n",
    "\n",
    "# İki farklı normal dağılım oluştur\n",
    "mean1 = 5\n",
    "std1 = 1\n",
    "data1 = np.random.normal(mean1, std1, 100000)\n",
    "\n",
    "mean2 = 10\n",
    "std2 = 2\n",
    "data2 = np.random.normal(mean2, std2, 100000)\n",
    "\n",
    "# İki dağılımı birleştir\n",
    "bimodal_data = np.concatenate((data1, data2))\n",
    "\n",
    "# Veriyi görselleştir\n",
    "plt.figure(figsize=(10, 6))\n",
    "plt.hist(bimodal_data, bins=50, color='purple', alpha=0.7)\n",
    "plt.title('İki Tepeli (Bimodal) Veri Dağılımı', fontsize=16)\n",
    "plt.xlabel('Değerler', fontsize=14)\n",
    "plt.ylabel('Frekans', fontsize=14)\n",
    "plt.show()\n"
   ]
  },
  {
   "cell_type": "code",
   "execution_count": 26,
   "id": "8e9889cd",
   "metadata": {},
   "outputs": [
    {
     "data": {
      "text/html": [
       "<div>\n",
       "<style scoped>\n",
       "    .dataframe tbody tr th:only-of-type {\n",
       "        vertical-align: middle;\n",
       "    }\n",
       "\n",
       "    .dataframe tbody tr th {\n",
       "        vertical-align: top;\n",
       "    }\n",
       "\n",
       "    .dataframe thead th {\n",
       "        text-align: right;\n",
       "    }\n",
       "</style>\n",
       "<table border=\"1\" class=\"dataframe\">\n",
       "  <thead>\n",
       "    <tr style=\"text-align: right;\">\n",
       "      <th></th>\n",
       "      <th>Değerler</th>\n",
       "    </tr>\n",
       "  </thead>\n",
       "  <tbody>\n",
       "    <tr>\n",
       "      <th>0</th>\n",
       "      <td>5.205701</td>\n",
       "    </tr>\n",
       "    <tr>\n",
       "      <th>1</th>\n",
       "      <td>4.804299</td>\n",
       "    </tr>\n",
       "    <tr>\n",
       "      <th>2</th>\n",
       "      <td>5.049721</td>\n",
       "    </tr>\n",
       "    <tr>\n",
       "      <th>3</th>\n",
       "      <td>3.661589</td>\n",
       "    </tr>\n",
       "    <tr>\n",
       "      <th>4</th>\n",
       "      <td>5.486038</td>\n",
       "    </tr>\n",
       "    <tr>\n",
       "      <th>...</th>\n",
       "      <td>...</td>\n",
       "    </tr>\n",
       "    <tr>\n",
       "      <th>199995</th>\n",
       "      <td>11.803242</td>\n",
       "    </tr>\n",
       "    <tr>\n",
       "      <th>199996</th>\n",
       "      <td>11.658344</td>\n",
       "    </tr>\n",
       "    <tr>\n",
       "      <th>199997</th>\n",
       "      <td>8.773348</td>\n",
       "    </tr>\n",
       "    <tr>\n",
       "      <th>199998</th>\n",
       "      <td>14.692283</td>\n",
       "    </tr>\n",
       "    <tr>\n",
       "      <th>199999</th>\n",
       "      <td>7.897295</td>\n",
       "    </tr>\n",
       "  </tbody>\n",
       "</table>\n",
       "<p>200000 rows × 1 columns</p>\n",
       "</div>"
      ],
      "text/plain": [
       "         Değerler\n",
       "0        5.205701\n",
       "1        4.804299\n",
       "2        5.049721\n",
       "3        3.661589\n",
       "4        5.486038\n",
       "...           ...\n",
       "199995  11.803242\n",
       "199996  11.658344\n",
       "199997   8.773348\n",
       "199998  14.692283\n",
       "199999   7.897295\n",
       "\n",
       "[200000 rows x 1 columns]"
      ]
     },
     "execution_count": 26,
     "metadata": {},
     "output_type": "execute_result"
    }
   ],
   "source": [
    "df = pd.DataFrame(bimodal_data, columns=['Değerler'])\n",
    "df"
   ]
  },
  {
   "cell_type": "markdown",
   "id": "9a8d35f1",
   "metadata": {},
   "source": [
    "<h4 style=\"color:green;\">Adım - 1 )  Minimum ve Maksimum Değerlerin Bulunması:</h4>"
   ]
  },
  {
   "cell_type": "code",
   "execution_count": 27,
   "id": "e2602c1c",
   "metadata": {},
   "outputs": [
    {
     "name": "stdout",
     "output_type": "stream",
     "text": [
      "0.668674921842979 18.982551648390814\n"
     ]
    }
   ],
   "source": [
    "min_val = df['Değerler'].min()\n",
    "\n",
    "max_val = df['Değerler'].max()\n",
    "print(min_val,max_val)"
   ]
  },
  {
   "cell_type": "markdown",
   "id": "503786a4",
   "metadata": {},
   "source": [
    "<h4 style=\"color:green;\">Adım - 2 ) Yeni Değerlerin Hesaplanması:</h4>"
   ]
  },
  {
   "cell_type": "code",
   "execution_count": 28,
   "id": "5779fb02",
   "metadata": {},
   "outputs": [],
   "source": [
    "df['Normalize Edilmiş Değerler'] = (df['Değerler'] - min_val) / (max_val - min_val)\n"
   ]
  },
  {
   "cell_type": "code",
   "execution_count": 29,
   "id": "1af37051",
   "metadata": {},
   "outputs": [
    {
     "data": {
      "image/png": "[encoded data removed]",
      "text/plain": [
       "<Figure size 1000x600 with 1 Axes>"
      ]
     },
     "metadata": {},
     "output_type": "display_data"
    }
   ],
   "source": [
    "# Veriyi görselleştir\n",
    "plt.figure(figsize=(10, 6))\n",
    "plt.hist(df['Normalize Edilmiş Değerler'] , bins=50, color='green', alpha=0.7)\n",
    "plt.title('Sola Çarpık Dağılım', fontsize=16)\n",
    "plt.xlabel('Değerler', fontsize=14)\n",
    "plt.ylabel('Frekans', fontsize=14)\n",
    "plt.show()\n"
   ]
  },
  {
   "cell_type": "code",
   "execution_count": 30,
   "id": "3850b9fa",
   "metadata": {},
   "outputs": [
    {
     "data": {
      "text/html": [
       "<div>\n",
       "<style scoped>\n",
       "    .dataframe tbody tr th:only-of-type {\n",
       "        vertical-align: middle;\n",
       "    }\n",
       "\n",
       "    .dataframe tbody tr th {\n",
       "        vertical-align: top;\n",
       "    }\n",
       "\n",
       "    .dataframe thead th {\n",
       "        text-align: right;\n",
       "    }\n",
       "</style>\n",
       "<table border=\"1\" class=\"dataframe\">\n",
       "  <thead>\n",
       "    <tr style=\"text-align: right;\">\n",
       "      <th></th>\n",
       "      <th>Değerler</th>\n",
       "      <th>Normalize Edilmiş Değerler</th>\n",
       "    </tr>\n",
       "  </thead>\n",
       "  <tbody>\n",
       "    <tr>\n",
       "      <th>0</th>\n",
       "      <td>5.205701</td>\n",
       "      <td>0.247737</td>\n",
       "    </tr>\n",
       "    <tr>\n",
       "      <th>1</th>\n",
       "      <td>4.804299</td>\n",
       "      <td>0.225819</td>\n",
       "    </tr>\n",
       "    <tr>\n",
       "      <th>2</th>\n",
       "      <td>5.049721</td>\n",
       "      <td>0.239220</td>\n",
       "    </tr>\n",
       "    <tr>\n",
       "      <th>3</th>\n",
       "      <td>3.661589</td>\n",
       "      <td>0.163423</td>\n",
       "    </tr>\n",
       "    <tr>\n",
       "      <th>4</th>\n",
       "      <td>5.486038</td>\n",
       "      <td>0.263044</td>\n",
       "    </tr>\n",
       "  </tbody>\n",
       "</table>\n",
       "</div>"
      ],
      "text/plain": [
       "   Değerler  Normalize Edilmiş Değerler\n",
       "0  5.205701                    0.247737\n",
       "1  4.804299                    0.225819\n",
       "2  5.049721                    0.239220\n",
       "3  3.661589                    0.163423\n",
       "4  5.486038                    0.263044"
      ]
     },
     "execution_count": 30,
     "metadata": {},
     "output_type": "execute_result"
    }
   ],
   "source": [
    "df.head()"
   ]
  },
  {
   "cell_type": "code",
   "execution_count": 31,
   "id": "1ebdd0f5",
   "metadata": {},
   "outputs": [
    {
     "data": {
      "text/html": [
       "<div>\n",
       "<style scoped>\n",
       "    .dataframe tbody tr th:only-of-type {\n",
       "        vertical-align: middle;\n",
       "    }\n",
       "\n",
       "    .dataframe tbody tr th {\n",
       "        vertical-align: top;\n",
       "    }\n",
       "\n",
       "    .dataframe thead th {\n",
       "        text-align: right;\n",
       "    }\n",
       "</style>\n",
       "<table border=\"1\" class=\"dataframe\">\n",
       "  <thead>\n",
       "    <tr style=\"text-align: right;\">\n",
       "      <th></th>\n",
       "      <th>Değerler</th>\n",
       "      <th>Normalize Edilmiş Değerler</th>\n",
       "    </tr>\n",
       "  </thead>\n",
       "  <tbody>\n",
       "    <tr>\n",
       "      <th>199995</th>\n",
       "      <td>11.803242</td>\n",
       "      <td>0.607985</td>\n",
       "    </tr>\n",
       "    <tr>\n",
       "      <th>199996</th>\n",
       "      <td>11.658344</td>\n",
       "      <td>0.600073</td>\n",
       "    </tr>\n",
       "    <tr>\n",
       "      <th>199997</th>\n",
       "      <td>8.773348</td>\n",
       "      <td>0.442543</td>\n",
       "    </tr>\n",
       "    <tr>\n",
       "      <th>199998</th>\n",
       "      <td>14.692283</td>\n",
       "      <td>0.765737</td>\n",
       "    </tr>\n",
       "    <tr>\n",
       "      <th>199999</th>\n",
       "      <td>7.897295</td>\n",
       "      <td>0.394707</td>\n",
       "    </tr>\n",
       "  </tbody>\n",
       "</table>\n",
       "</div>"
      ],
      "text/plain": [
       "         Değerler  Normalize Edilmiş Değerler\n",
       "199995  11.803242                    0.607985\n",
       "199996  11.658344                    0.600073\n",
       "199997   8.773348                    0.442543\n",
       "199998  14.692283                    0.765737\n",
       "199999   7.897295                    0.394707"
      ]
     },
     "execution_count": 31,
     "metadata": {},
     "output_type": "execute_result"
    }
   ],
   "source": [
    "df.tail()"
   ]
  },
  {
   "cell_type": "code",
   "execution_count": 32,
   "id": "91730614",
   "metadata": {},
   "outputs": [
    {
     "data": {
      "text/plain": [
       "count    200000.000000\n",
       "mean          7.504056\n",
       "std           2.962811\n",
       "min           0.668675\n",
       "25%           4.986157\n",
       "50%           6.658985\n",
       "75%          10.003768\n",
       "max          18.982552\n",
       "Name: Değerler, dtype: float64"
      ]
     },
     "execution_count": 32,
     "metadata": {},
     "output_type": "execute_result"
    }
   ],
   "source": [
    "df['Değerler'].describe()"
   ]
  },
  {
   "cell_type": "code",
   "execution_count": 33,
   "id": "7f452fa5",
   "metadata": {},
   "outputs": [
    {
     "data": {
      "text/plain": [
       "count    200000.000000\n",
       "mean          0.373235\n",
       "std           0.161780\n",
       "min           0.000000\n",
       "25%           0.235749\n",
       "50%           0.327091\n",
       "75%           0.509728\n",
       "max           1.000000\n",
       "Name: Normalize Edilmiş Değerler, dtype: float64"
      ]
     },
     "execution_count": 33,
     "metadata": {},
     "output_type": "execute_result"
    }
   ],
   "source": [
    "df['Normalize Edilmiş Değerler'].describe()"
   ]
  },
  {
   "cell_type": "markdown",
   "id": "74a84f49",
   "metadata": {},
   "source": [
    "<h4 style=\"color:green;\"> Aykırı Değer Tespiti</h4>"
   ]
  },
  {
   "cell_type": "code",
   "execution_count": 34,
   "id": "efd5fbc5",
   "metadata": {},
   "outputs": [
    {
     "data": {
      "text/plain": [
       "9"
      ]
     },
     "execution_count": 34,
     "metadata": {},
     "output_type": "execute_result"
    }
   ],
   "source": [
    "Q1 = df['Değerler'].quantile(0.25)\n",
    "Q3 = df['Değerler'].quantile(0.75)\n",
    "IQR = Q3 - Q1\n",
    "lower_bound = Q1 - 1.5 * IQR\n",
    "upper_bound = Q3 + 1.5 * IQR\n",
    "outliers = df[(df['Değerler'] < lower_bound) | (df['Değerler'] > upper_bound)]\n",
    "len(outliers)"
   ]
  },
  {
   "cell_type": "code",
   "execution_count": 35,
   "id": "31e12d0b",
   "metadata": {
    "scrolled": true
   },
   "outputs": [
    {
     "data": {
      "text/plain": [
       "9"
      ]
     },
     "execution_count": 35,
     "metadata": {},
     "output_type": "execute_result"
    }
   ],
   "source": [
    "Q1 = df[\"Normalize Edilmiş Değerler\"].quantile(0.25)\n",
    "Q3 = df[\"Normalize Edilmiş Değerler\"].quantile(0.75)\n",
    "IQR = Q3 - Q1\n",
    "lower_bound = Q1 - 1.5 * IQR\n",
    "upper_bound = Q3 + 1.5 * IQR\n",
    "outliers = df[(df[\"Normalize Edilmiş Değerler\"] < lower_bound) | (df[\"Normalize Edilmiş Değerler\"] > upper_bound)]\n",
    "len(outliers)"
   ]
  },
  {
   "cell_type": "markdown",
   "id": "37006423",
   "metadata": {},
   "source": [
    "<h1 style=\"color:red;\">__________________________________________________</h1>\n",
    "<h1 style=\"color:red;\">__________________________________________________</h1>\n",
    "<h1 style=\"color:red;\">__________________________________________________</h1>"
   ]
  },
  {
   "cell_type": "markdown",
   "id": "2c38d5b7",
   "metadata": {},
   "source": [
    "<h1 style=\"color:purple;\">Python İle Log-Normal Dağılımlı Veri Üzerinde Min-Max Normalizasyonu</h1>"
   ]
  },
  {
   "cell_type": "code",
   "execution_count": 36,
   "id": "904e9ee0",
   "metadata": {},
   "outputs": [],
   "source": [
    "data = np.random.lognormal(mean=0, sigma=1, size=100000)\n",
    "df = pd.DataFrame(data, columns=['Değerler'])"
   ]
  },
  {
   "cell_type": "code",
   "execution_count": 37,
   "id": "8d5699d3",
   "metadata": {},
   "outputs": [
    {
     "data": {
      "image/png": "[encoded data removed]",
      "text/plain": [
       "<Figure size 1000x600 with 1 Axes>"
      ]
     },
     "metadata": {},
     "output_type": "display_data"
    }
   ],
   "source": [
    "# Veriyi görselleştir\n",
    "plt.figure(figsize=(10, 6))\n",
    "plt.hist(df, bins=50, color='purple', alpha=0.7)\n",
    "plt.title('Log-Normal Dağılımlı Veri Dağılımı', fontsize=16)\n",
    "plt.xlabel('Değerler', fontsize=14)\n",
    "plt.ylabel('Frekans', fontsize=14)\n",
    "plt.show()\n"
   ]
  },
  {
   "cell_type": "markdown",
   "id": "8c3ead25",
   "metadata": {},
   "source": [
    "<h4 style=\"color:green;\">Adım - 1 )  Minimum ve Maksimum Değerlerin Bulunması:</h4>"
   ]
  },
  {
   "cell_type": "code",
   "execution_count": 38,
   "id": "ab9c8ae6",
   "metadata": {},
   "outputs": [],
   "source": [
    "min_val = df['Değerler'].min()\n",
    "max_val = df['Değerler'].max()"
   ]
  },
  {
   "cell_type": "markdown",
   "id": "0a3e773f",
   "metadata": {},
   "source": [
    "<h4 style=\"color:green;\">Adım - 2 ) Yeni Değerlerin Hesaplanması:</h4>"
   ]
  },
  {
   "cell_type": "code",
   "execution_count": 39,
   "id": "f958a41b",
   "metadata": {},
   "outputs": [],
   "source": [
    "df['Normalize Edilmiş Değerler'] = (df['Değerler'] - min_val) / (max_val - min_val)\n"
   ]
  },
  {
   "cell_type": "code",
   "execution_count": 40,
   "id": "58dfe4b4",
   "metadata": {},
   "outputs": [
    {
     "data": {
      "image/png": "[encoded data removed]",
      "text/plain": [
       "<Figure size 1000x600 with 1 Axes>"
      ]
     },
     "metadata": {},
     "output_type": "display_data"
    }
   ],
   "source": [
    "# Veriyi görselleştir\n",
    "plt.figure(figsize=(10, 6))\n",
    "plt.hist(df['Normalize Edilmiş Değerler'], bins=50, color='green', alpha=0.7)\n",
    "plt.title('Log-Normal Dağılım', fontsize=16)\n",
    "plt.xlabel('Değerler', fontsize=14)\n",
    "plt.ylabel('Frekans', fontsize=14)\n",
    "plt.show()"
   ]
  },
  {
   "cell_type": "code",
   "execution_count": 41,
   "id": "e4971057",
   "metadata": {},
   "outputs": [
    {
     "data": {
      "text/html": [
       "<div>\n",
       "<style scoped>\n",
       "    .dataframe tbody tr th:only-of-type {\n",
       "        vertical-align: middle;\n",
       "    }\n",
       "\n",
       "    .dataframe tbody tr th {\n",
       "        vertical-align: top;\n",
       "    }\n",
       "\n",
       "    .dataframe thead th {\n",
       "        text-align: right;\n",
       "    }\n",
       "</style>\n",
       "<table border=\"1\" class=\"dataframe\">\n",
       "  <thead>\n",
       "    <tr style=\"text-align: right;\">\n",
       "      <th></th>\n",
       "      <th>Değerler</th>\n",
       "      <th>Normalize Edilmiş Değerler</th>\n",
       "    </tr>\n",
       "  </thead>\n",
       "  <tbody>\n",
       "    <tr>\n",
       "      <th>0</th>\n",
       "      <td>8.859305</td>\n",
       "      <td>0.098395</td>\n",
       "    </tr>\n",
       "    <tr>\n",
       "      <th>1</th>\n",
       "      <td>1.225447</td>\n",
       "      <td>0.013498</td>\n",
       "    </tr>\n",
       "    <tr>\n",
       "      <th>2</th>\n",
       "      <td>0.391165</td>\n",
       "      <td>0.004220</td>\n",
       "    </tr>\n",
       "    <tr>\n",
       "      <th>3</th>\n",
       "      <td>0.837729</td>\n",
       "      <td>0.009186</td>\n",
       "    </tr>\n",
       "    <tr>\n",
       "      <th>4</th>\n",
       "      <td>0.626115</td>\n",
       "      <td>0.006833</td>\n",
       "    </tr>\n",
       "  </tbody>\n",
       "</table>\n",
       "</div>"
      ],
      "text/plain": [
       "   Değerler  Normalize Edilmiş Değerler\n",
       "0  8.859305                    0.098395\n",
       "1  1.225447                    0.013498\n",
       "2  0.391165                    0.004220\n",
       "3  0.837729                    0.009186\n",
       "4  0.626115                    0.006833"
      ]
     },
     "execution_count": 41,
     "metadata": {},
     "output_type": "execute_result"
    }
   ],
   "source": [
    "df.head()"
   ]
  },
  {
   "cell_type": "code",
   "execution_count": 42,
   "id": "a24f929d",
   "metadata": {},
   "outputs": [
    {
     "data": {
      "text/html": [
       "<div>\n",
       "<style scoped>\n",
       "    .dataframe tbody tr th:only-of-type {\n",
       "        vertical-align: middle;\n",
       "    }\n",
       "\n",
       "    .dataframe tbody tr th {\n",
       "        vertical-align: top;\n",
       "    }\n",
       "\n",
       "    .dataframe thead th {\n",
       "        text-align: right;\n",
       "    }\n",
       "</style>\n",
       "<table border=\"1\" class=\"dataframe\">\n",
       "  <thead>\n",
       "    <tr style=\"text-align: right;\">\n",
       "      <th></th>\n",
       "      <th>Değerler</th>\n",
       "      <th>Normalize Edilmiş Değerler</th>\n",
       "    </tr>\n",
       "  </thead>\n",
       "  <tbody>\n",
       "    <tr>\n",
       "      <th>99995</th>\n",
       "      <td>0.776104</td>\n",
       "      <td>0.008501</td>\n",
       "    </tr>\n",
       "    <tr>\n",
       "      <th>99996</th>\n",
       "      <td>7.657156</td>\n",
       "      <td>0.085026</td>\n",
       "    </tr>\n",
       "    <tr>\n",
       "      <th>99997</th>\n",
       "      <td>1.653418</td>\n",
       "      <td>0.018258</td>\n",
       "    </tr>\n",
       "    <tr>\n",
       "      <th>99998</th>\n",
       "      <td>2.493085</td>\n",
       "      <td>0.027596</td>\n",
       "    </tr>\n",
       "    <tr>\n",
       "      <th>99999</th>\n",
       "      <td>0.753476</td>\n",
       "      <td>0.008249</td>\n",
       "    </tr>\n",
       "  </tbody>\n",
       "</table>\n",
       "</div>"
      ],
      "text/plain": [
       "       Değerler  Normalize Edilmiş Değerler\n",
       "99995  0.776104                    0.008501\n",
       "99996  7.657156                    0.085026\n",
       "99997  1.653418                    0.018258\n",
       "99998  2.493085                    0.027596\n",
       "99999  0.753476                    0.008249"
      ]
     },
     "execution_count": 42,
     "metadata": {},
     "output_type": "execute_result"
    }
   ],
   "source": [
    "df.tail()"
   ]
  },
  {
   "cell_type": "code",
   "execution_count": 43,
   "id": "48a28562",
   "metadata": {},
   "outputs": [
    {
     "data": {
      "text/plain": [
       "count    100000.000000\n",
       "mean          1.640730\n",
       "std           2.141862\n",
       "min           0.011689\n",
       "25%           0.508816\n",
       "50%           0.997454\n",
       "75%           1.959970\n",
       "max          89.930803\n",
       "Name: Değerler, dtype: float64"
      ]
     },
     "execution_count": 43,
     "metadata": {},
     "output_type": "execute_result"
    }
   ],
   "source": [
    "df['Değerler'].describe()"
   ]
  },
  {
   "cell_type": "code",
   "execution_count": 44,
   "id": "51872da4",
   "metadata": {},
   "outputs": [
    {
     "data": {
      "text/plain": [
       "count    100000.000000\n",
       "mean          0.018117\n",
       "std           0.023820\n",
       "min           0.000000\n",
       "25%           0.005529\n",
       "50%           0.010963\n",
       "75%           0.021667\n",
       "max           1.000000\n",
       "Name: Normalize Edilmiş Değerler, dtype: float64"
      ]
     },
     "execution_count": 44,
     "metadata": {},
     "output_type": "execute_result"
    }
   ],
   "source": [
    "df['Normalize Edilmiş Değerler'].describe()"
   ]
  },
  {
   "cell_type": "markdown",
   "id": "4e148b23",
   "metadata": {},
   "source": [
    "<h4 style=\"color:green;\"> Aykırı Değer Tespiti</h4>\n"
   ]
  },
  {
   "cell_type": "code",
   "execution_count": 45,
   "id": "590d510c",
   "metadata": {},
   "outputs": [
    {
     "data": {
      "text/plain": [
       "7717"
      ]
     },
     "execution_count": 45,
     "metadata": {},
     "output_type": "execute_result"
    }
   ],
   "source": [
    "Q1 = df['Değerler'].quantile(0.25)\n",
    "Q3 = df['Değerler'].quantile(0.75)\n",
    "IQR = Q3 - Q1\n",
    "lower_bound = Q1 - 1.5 * IQR\n",
    "upper_bound = Q3 + 1.5 * IQR\n",
    "outliers = df[(df['Değerler'] < lower_bound) | (df['Değerler'] > upper_bound)]\n",
    "len(outliers)"
   ]
  },
  {
   "cell_type": "code",
   "execution_count": 46,
   "id": "9217a103",
   "metadata": {},
   "outputs": [
    {
     "data": {
      "text/plain": [
       "7717"
      ]
     },
     "execution_count": 46,
     "metadata": {},
     "output_type": "execute_result"
    }
   ],
   "source": [
    "Q1 = df[\"Normalize Edilmiş Değerler\"].quantile(0.25)\n",
    "Q3 = df[\"Normalize Edilmiş Değerler\"].quantile(0.75)\n",
    "IQR = Q3 - Q1\n",
    "lower_bound = Q1 - 1.5 * IQR\n",
    "upper_bound = Q3 + 1.5 * IQR\n",
    "outliers = df[(df[\"Normalize Edilmiş Değerler\"] < lower_bound) | (df[\"Normalize Edilmiş Değerler\"] > upper_bound)]\n",
    "len(outliers)"
   ]
  },
  {
   "cell_type": "markdown",
   "id": "adbcb092",
   "metadata": {},
   "source": [
    "<h1 style=\"color:red;\">__________________________________________________</h1>\n",
    "<h1 style=\"color:red;\">__________________________________________________</h1>\n",
    "<h1 style=\"color:red;\">__________________________________________________</h1>"
   ]
  },
  {
   "cell_type": "markdown",
   "id": "40a6a393",
   "metadata": {},
   "source": [
    "<h1 style=\"color:purple;\">Python İle Beta Dağılımlı Veri Üzerinde Min-Max Normalizasyonu</h1>"
   ]
  },
  {
   "cell_type": "code",
   "execution_count": 47,
   "id": "3e9dea18",
   "metadata": {},
   "outputs": [],
   "source": [
    "data = np.random.beta(a=2, b=5, size=100000)\n",
    "df = pd.DataFrame(data, columns=['Değerler'])\n"
   ]
  },
  {
   "cell_type": "code",
   "execution_count": 48,
   "id": "9c7ed16a",
   "metadata": {},
   "outputs": [
    {
     "data": {
      "image/png": "[encoded data removed]",
      "text/plain": [
       "<Figure size 1000x600 with 1 Axes>"
      ]
     },
     "metadata": {},
     "output_type": "display_data"
    }
   ],
   "source": [
    "# Veriyi görselleştir\n",
    "plt.figure(figsize=(10, 6))\n",
    "plt.hist(df, bins=50, color='green', alpha=0.7)\n",
    "plt.title('Beta Dağılımı', fontsize=16)\n",
    "plt.xlabel('Değerler', fontsize=14)\n",
    "plt.ylabel('Frekans', fontsize=14)\n",
    "plt.show()"
   ]
  },
  {
   "cell_type": "markdown",
   "id": "8b5a98d9",
   "metadata": {},
   "source": [
    "<h4 style=\"color:green;\">Adım - 1 )  Minimum ve Maksimum Değerlerin Bulunması:</h4>"
   ]
  },
  {
   "cell_type": "code",
   "execution_count": 49,
   "id": "e6a49aee",
   "metadata": {},
   "outputs": [],
   "source": [
    "min_val = df['Değerler'].min()\n",
    "max_val = df['Değerler'].max()"
   ]
  },
  {
   "cell_type": "markdown",
   "id": "c899a09e",
   "metadata": {},
   "source": [
    "<h4 style=\"color:green;\">Adım - 2 ) Yeni Değerlerin Hesaplanması:</h4>"
   ]
  },
  {
   "cell_type": "code",
   "execution_count": 50,
   "id": "b2f81f7e",
   "metadata": {},
   "outputs": [],
   "source": [
    "df['Normalize Edilmiş Değerler'] = (df['Değerler'] - min_val) / (max_val - min_val)\n"
   ]
  },
  {
   "cell_type": "code",
   "execution_count": 51,
   "id": "2f0e6367",
   "metadata": {},
   "outputs": [
    {
     "data": {
      "image/png": "[encoded data removed]",
      "text/plain": [
       "<Figure size 1000x600 with 1 Axes>"
      ]
     },
     "metadata": {},
     "output_type": "display_data"
    }
   ],
   "source": [
    "# Veriyi görselleştir\n",
    "plt.figure(figsize=(10, 6))\n",
    "plt.hist(df['Normalize Edilmiş Değerler'], bins=50, color='green', alpha=0.7)\n",
    "plt.title('Beta Dağılımı', fontsize=16)\n",
    "plt.xlabel('Değerler', fontsize=14)\n",
    "plt.ylabel('Frekans', fontsize=14)\n",
    "plt.show()"
   ]
  },
  {
   "cell_type": "code",
   "execution_count": 52,
   "id": "f01e6018",
   "metadata": {},
   "outputs": [
    {
     "data": {
      "text/html": [
       "<div>\n",
       "<style scoped>\n",
       "    .dataframe tbody tr th:only-of-type {\n",
       "        vertical-align: middle;\n",
       "    }\n",
       "\n",
       "    .dataframe tbody tr th {\n",
       "        vertical-align: top;\n",
       "    }\n",
       "\n",
       "    .dataframe thead th {\n",
       "        text-align: right;\n",
       "    }\n",
       "</style>\n",
       "<table border=\"1\" class=\"dataframe\">\n",
       "  <thead>\n",
       "    <tr style=\"text-align: right;\">\n",
       "      <th></th>\n",
       "      <th>Değerler</th>\n",
       "      <th>Normalize Edilmiş Değerler</th>\n",
       "    </tr>\n",
       "  </thead>\n",
       "  <tbody>\n",
       "    <tr>\n",
       "      <th>0</th>\n",
       "      <td>0.720649</td>\n",
       "      <td>0.782727</td>\n",
       "    </tr>\n",
       "    <tr>\n",
       "      <th>1</th>\n",
       "      <td>0.197263</td>\n",
       "      <td>0.213224</td>\n",
       "    </tr>\n",
       "    <tr>\n",
       "      <th>2</th>\n",
       "      <td>0.387273</td>\n",
       "      <td>0.419977</td>\n",
       "    </tr>\n",
       "    <tr>\n",
       "      <th>3</th>\n",
       "      <td>0.219980</td>\n",
       "      <td>0.237943</td>\n",
       "    </tr>\n",
       "    <tr>\n",
       "      <th>4</th>\n",
       "      <td>0.029931</td>\n",
       "      <td>0.031148</td>\n",
       "    </tr>\n",
       "  </tbody>\n",
       "</table>\n",
       "</div>"
      ],
      "text/plain": [
       "   Değerler  Normalize Edilmiş Değerler\n",
       "0  0.720649                    0.782727\n",
       "1  0.197263                    0.213224\n",
       "2  0.387273                    0.419977\n",
       "3  0.219980                    0.237943\n",
       "4  0.029931                    0.031148"
      ]
     },
     "execution_count": 52,
     "metadata": {},
     "output_type": "execute_result"
    }
   ],
   "source": [
    "df.head()"
   ]
  },
  {
   "cell_type": "code",
   "execution_count": 53,
   "id": "29e18da8",
   "metadata": {},
   "outputs": [
    {
     "data": {
      "text/html": [
       "<div>\n",
       "<style scoped>\n",
       "    .dataframe tbody tr th:only-of-type {\n",
       "        vertical-align: middle;\n",
       "    }\n",
       "\n",
       "    .dataframe tbody tr th {\n",
       "        vertical-align: top;\n",
       "    }\n",
       "\n",
       "    .dataframe thead th {\n",
       "        text-align: right;\n",
       "    }\n",
       "</style>\n",
       "<table border=\"1\" class=\"dataframe\">\n",
       "  <thead>\n",
       "    <tr style=\"text-align: right;\">\n",
       "      <th></th>\n",
       "      <th>Değerler</th>\n",
       "      <th>Normalize Edilmiş Değerler</th>\n",
       "    </tr>\n",
       "  </thead>\n",
       "  <tbody>\n",
       "    <tr>\n",
       "      <th>99995</th>\n",
       "      <td>0.293281</td>\n",
       "      <td>0.317702</td>\n",
       "    </tr>\n",
       "    <tr>\n",
       "      <th>99996</th>\n",
       "      <td>0.232682</td>\n",
       "      <td>0.251764</td>\n",
       "    </tr>\n",
       "    <tr>\n",
       "      <th>99997</th>\n",
       "      <td>0.234382</td>\n",
       "      <td>0.253613</td>\n",
       "    </tr>\n",
       "    <tr>\n",
       "      <th>99998</th>\n",
       "      <td>0.135726</td>\n",
       "      <td>0.146264</td>\n",
       "    </tr>\n",
       "    <tr>\n",
       "      <th>99999</th>\n",
       "      <td>0.265306</td>\n",
       "      <td>0.287262</td>\n",
       "    </tr>\n",
       "  </tbody>\n",
       "</table>\n",
       "</div>"
      ],
      "text/plain": [
       "       Değerler  Normalize Edilmiş Değerler\n",
       "99995  0.293281                    0.317702\n",
       "99996  0.232682                    0.251764\n",
       "99997  0.234382                    0.253613\n",
       "99998  0.135726                    0.146264\n",
       "99999  0.265306                    0.287262"
      ]
     },
     "execution_count": 53,
     "metadata": {},
     "output_type": "execute_result"
    }
   ],
   "source": [
    "df.tail()"
   ]
  },
  {
   "cell_type": "code",
   "execution_count": 54,
   "id": "699e02eb",
   "metadata": {},
   "outputs": [
    {
     "data": {
      "text/plain": [
       "count    100000.000000\n",
       "mean          0.285345\n",
       "std           0.159623\n",
       "min           0.001306\n",
       "25%           0.160786\n",
       "50%           0.264124\n",
       "75%           0.389136\n",
       "max           0.920328\n",
       "Name: Değerler, dtype: float64"
      ]
     },
     "execution_count": 54,
     "metadata": {},
     "output_type": "execute_result"
    }
   ],
   "source": [
    "df['Değerler'].describe()"
   ]
  },
  {
   "cell_type": "code",
   "execution_count": 55,
   "id": "b7c974a5",
   "metadata": {},
   "outputs": [
    {
     "data": {
      "text/plain": [
       "count    100000.000000\n",
       "mean          0.309067\n",
       "std           0.173688\n",
       "min           0.000000\n",
       "25%           0.173532\n",
       "50%           0.285976\n",
       "75%           0.422004\n",
       "max           1.000000\n",
       "Name: Normalize Edilmiş Değerler, dtype: float64"
      ]
     },
     "execution_count": 55,
     "metadata": {},
     "output_type": "execute_result"
    }
   ],
   "source": [
    "df['Normalize Edilmiş Değerler'].describe()"
   ]
  },
  {
   "cell_type": "markdown",
   "id": "6a99c0d8",
   "metadata": {},
   "source": [
    "<h4 style=\"color:green;\"> Aykırı Değer Tespiti</h4>\n"
   ]
  },
  {
   "cell_type": "code",
   "execution_count": 56,
   "id": "201544c6",
   "metadata": {},
   "outputs": [
    {
     "data": {
      "text/plain": [
       "649"
      ]
     },
     "execution_count": 56,
     "metadata": {},
     "output_type": "execute_result"
    }
   ],
   "source": [
    "Q1 = df['Değerler'].quantile(0.25)\n",
    "Q3 = df['Değerler'].quantile(0.75)\n",
    "IQR = Q3 - Q1\n",
    "lower_bound = Q1 - 1.5 * IQR\n",
    "upper_bound = Q3 + 1.5 * IQR\n",
    "outliers = df[(df['Değerler'] < lower_bound) | (df['Değerler'] > upper_bound)]\n",
    "len(outliers)\n"
   ]
  },
  {
   "cell_type": "code",
   "execution_count": 57,
   "id": "a4c1aefe",
   "metadata": {},
   "outputs": [
    {
     "data": {
      "text/plain": [
       "649"
      ]
     },
     "execution_count": 57,
     "metadata": {},
     "output_type": "execute_result"
    }
   ],
   "source": [
    "Q1 = df[\"Normalize Edilmiş Değerler\"].quantile(0.25)\n",
    "Q3 = df[\"Normalize Edilmiş Değerler\"].quantile(0.75)\n",
    "IQR = Q3 - Q1\n",
    "lower_bound = Q1 - 1.5 * IQR\n",
    "upper_bound = Q3 + 1.5 * IQR\n",
    "outliers = df[(df[\"Normalize Edilmiş Değerler\"] < lower_bound) | (df[\"Normalize Edilmiş Değerler\"] > upper_bound)]\n",
    "len(outliers)"
   ]
  },
  {
   "cell_type": "markdown",
   "id": "428ce701",
   "metadata": {},
   "source": [
    "<h1 style=\"color:red;\">__________________________________________________</h1>\n",
    "<h1 style=\"color:red;\">__________________________________________________</h1>\n",
    "<h1 style=\"color:red;\">__________________________________________________</h1>"
   ]
  },
  {
   "cell_type": "markdown",
   "id": "01a6473d",
   "metadata": {},
   "source": [
    "<h1 style=\"color:purple;\">Python İle Uniform Dağılımlı Veri Üzerinde Min-Max Normalizasyonu</h1>"
   ]
  },
  {
   "cell_type": "code",
   "execution_count": 58,
   "id": "8930f0a2",
   "metadata": {},
   "outputs": [],
   "source": [
    "data = np.random.uniform(low=0, high=10, size=100000)\n",
    "df = pd.DataFrame(data, columns=['Değerler'])\n"
   ]
  },
  {
   "cell_type": "code",
   "execution_count": 59,
   "id": "31e31310",
   "metadata": {},
   "outputs": [
    {
     "data": {
      "image/png": "[encoded data removed]",
      "text/plain": [
       "<Figure size 1000x600 with 1 Axes>"
      ]
     },
     "metadata": {},
     "output_type": "display_data"
    }
   ],
   "source": [
    "# Veriyi görselleştir\n",
    "plt.figure(figsize=(10, 6))\n",
    "plt.hist(df, bins=50, color='green', alpha=0.7)\n",
    "plt.title('Uniform Dağılımı', fontsize=16)\n",
    "plt.xlabel('Değerler', fontsize=14)\n",
    "plt.ylabel('Frekans', fontsize=14)\n",
    "plt.show()"
   ]
  },
  {
   "cell_type": "markdown",
   "id": "94e7b0fc",
   "metadata": {},
   "source": [
    "<h4 style=\"color:green;\">Adım - 1 )  Minimum ve Maksimum Değerlerin Bulunması:</h4>"
   ]
  },
  {
   "cell_type": "code",
   "execution_count": 60,
   "id": "b6a147c2",
   "metadata": {},
   "outputs": [],
   "source": [
    "min_val = df['Değerler'].min()\n",
    "max_val = df['Değerler'].max()"
   ]
  },
  {
   "cell_type": "markdown",
   "id": "05f52e70",
   "metadata": {},
   "source": [
    "<h4 style=\"color:green;\">Adım - 2 ) Yeni Değerlerin Hesaplanması:</h4>"
   ]
  },
  {
   "cell_type": "code",
   "execution_count": 61,
   "id": "e55ef9f8",
   "metadata": {},
   "outputs": [],
   "source": [
    "df['Normalize Edilmiş Değerler'] = (df['Değerler'] - min_val) / (max_val - min_val)"
   ]
  },
  {
   "cell_type": "code",
   "execution_count": 62,
   "id": "93683183",
   "metadata": {},
   "outputs": [
    {
     "data": {
      "image/png": "[encoded data removed]",
      "text/plain": [
       "<Figure size 1000x600 with 1 Axes>"
      ]
     },
     "metadata": {},
     "output_type": "display_data"
    }
   ],
   "source": [
    "plt.figure(figsize=(10, 6))\n",
    "plt.hist(df['Normalize Edilmiş Değerler'], bins=50, color='green', alpha=0.7)\n",
    "plt.title('Uniform Dağılım', fontsize=16)\n",
    "plt.xlabel('Değerler', fontsize=14)\n",
    "plt.ylabel('Frekans', fontsize=14)\n",
    "plt.show()"
   ]
  },
  {
   "cell_type": "code",
   "execution_count": 63,
   "id": "aea6efea",
   "metadata": {},
   "outputs": [
    {
     "data": {
      "text/html": [
       "<div>\n",
       "<style scoped>\n",
       "    .dataframe tbody tr th:only-of-type {\n",
       "        vertical-align: middle;\n",
       "    }\n",
       "\n",
       "    .dataframe tbody tr th {\n",
       "        vertical-align: top;\n",
       "    }\n",
       "\n",
       "    .dataframe thead th {\n",
       "        text-align: right;\n",
       "    }\n",
       "</style>\n",
       "<table border=\"1\" class=\"dataframe\">\n",
       "  <thead>\n",
       "    <tr style=\"text-align: right;\">\n",
       "      <th></th>\n",
       "      <th>Değerler</th>\n",
       "      <th>Normalize Edilmiş Değerler</th>\n",
       "    </tr>\n",
       "  </thead>\n",
       "  <tbody>\n",
       "    <tr>\n",
       "      <th>0</th>\n",
       "      <td>4.919658</td>\n",
       "      <td>0.491970</td>\n",
       "    </tr>\n",
       "    <tr>\n",
       "      <th>1</th>\n",
       "      <td>5.437361</td>\n",
       "      <td>0.543740</td>\n",
       "    </tr>\n",
       "    <tr>\n",
       "      <th>2</th>\n",
       "      <td>9.110332</td>\n",
       "      <td>0.911041</td>\n",
       "    </tr>\n",
       "    <tr>\n",
       "      <th>3</th>\n",
       "      <td>1.697467</td>\n",
       "      <td>0.169747</td>\n",
       "    </tr>\n",
       "    <tr>\n",
       "      <th>4</th>\n",
       "      <td>6.387932</td>\n",
       "      <td>0.638799</td>\n",
       "    </tr>\n",
       "  </tbody>\n",
       "</table>\n",
       "</div>"
      ],
      "text/plain": [
       "   Değerler  Normalize Edilmiş Değerler\n",
       "0  4.919658                    0.491970\n",
       "1  5.437361                    0.543740\n",
       "2  9.110332                    0.911041\n",
       "3  1.697467                    0.169747\n",
       "4  6.387932                    0.638799"
      ]
     },
     "execution_count": 63,
     "metadata": {},
     "output_type": "execute_result"
    }
   ],
   "source": [
    "df.head()"
   ]
  },
  {
   "cell_type": "code",
   "execution_count": 64,
   "id": "990503d5",
   "metadata": {},
   "outputs": [
    {
     "data": {
      "text/html": [
       "<div>\n",
       "<style scoped>\n",
       "    .dataframe tbody tr th:only-of-type {\n",
       "        vertical-align: middle;\n",
       "    }\n",
       "\n",
       "    .dataframe tbody tr th {\n",
       "        vertical-align: top;\n",
       "    }\n",
       "\n",
       "    .dataframe thead th {\n",
       "        text-align: right;\n",
       "    }\n",
       "</style>\n",
       "<table border=\"1\" class=\"dataframe\">\n",
       "  <thead>\n",
       "    <tr style=\"text-align: right;\">\n",
       "      <th></th>\n",
       "      <th>Değerler</th>\n",
       "      <th>Normalize Edilmiş Değerler</th>\n",
       "    </tr>\n",
       "  </thead>\n",
       "  <tbody>\n",
       "    <tr>\n",
       "      <th>99995</th>\n",
       "      <td>0.600409</td>\n",
       "      <td>0.060040</td>\n",
       "    </tr>\n",
       "    <tr>\n",
       "      <th>99996</th>\n",
       "      <td>3.121997</td>\n",
       "      <td>0.312202</td>\n",
       "    </tr>\n",
       "    <tr>\n",
       "      <th>99997</th>\n",
       "      <td>1.414683</td>\n",
       "      <td>0.141469</td>\n",
       "    </tr>\n",
       "    <tr>\n",
       "      <th>99998</th>\n",
       "      <td>8.009223</td>\n",
       "      <td>0.800929</td>\n",
       "    </tr>\n",
       "    <tr>\n",
       "      <th>99999</th>\n",
       "      <td>0.339440</td>\n",
       "      <td>0.033943</td>\n",
       "    </tr>\n",
       "  </tbody>\n",
       "</table>\n",
       "</div>"
      ],
      "text/plain": [
       "       Değerler  Normalize Edilmiş Değerler\n",
       "99995  0.600409                    0.060040\n",
       "99996  3.121997                    0.312202\n",
       "99997  1.414683                    0.141469\n",
       "99998  8.009223                    0.800929\n",
       "99999  0.339440                    0.033943"
      ]
     },
     "execution_count": 64,
     "metadata": {},
     "output_type": "execute_result"
    }
   ],
   "source": [
    "df.tail()"
   ]
  },
  {
   "cell_type": "code",
   "execution_count": 65,
   "id": "afa3cbc0",
   "metadata": {},
   "outputs": [
    {
     "data": {
      "text/plain": [
       "count    100000.000000\n",
       "mean          4.995829\n",
       "std           2.888141\n",
       "min           0.000012\n",
       "25%           2.491231\n",
       "50%           4.998146\n",
       "75%           7.496414\n",
       "max           9.999909\n",
       "Name: Değerler, dtype: float64"
      ]
     },
     "execution_count": 65,
     "metadata": {},
     "output_type": "execute_result"
    }
   ],
   "source": [
    "df['Değerler'].describe()"
   ]
  },
  {
   "cell_type": "code",
   "execution_count": 66,
   "id": "2ba7a5c5",
   "metadata": {},
   "outputs": [
    {
     "data": {
      "text/plain": [
       "count    100000.000000\n",
       "mean          0.499587\n",
       "std           0.288817\n",
       "min           0.000000\n",
       "25%           0.249124\n",
       "50%           0.499819\n",
       "75%           0.749648\n",
       "max           1.000000\n",
       "Name: Normalize Edilmiş Değerler, dtype: float64"
      ]
     },
     "execution_count": 66,
     "metadata": {},
     "output_type": "execute_result"
    }
   ],
   "source": [
    "df['Normalize Edilmiş Değerler'].describe()"
   ]
  },
  {
   "cell_type": "markdown",
   "id": "0b11e2fc",
   "metadata": {},
   "source": [
    "<h4 style=\"color:green;\"> Aykırı Değer Tespiti</h4>\n"
   ]
  },
  {
   "cell_type": "code",
   "execution_count": 67,
   "id": "8d46bbc0",
   "metadata": {},
   "outputs": [
    {
     "data": {
      "text/plain": [
       "0"
      ]
     },
     "execution_count": 67,
     "metadata": {},
     "output_type": "execute_result"
    }
   ],
   "source": [
    "Q1 = df['Değerler'].quantile(0.25)\n",
    "Q3 = df['Değerler'].quantile(0.75)\n",
    "IQR = Q3 - Q1\n",
    "lower_bound = Q1 - 1.5 * IQR\n",
    "upper_bound = Q3 + 1.5 * IQR\n",
    "outliers = df[(df['Değerler'] < lower_bound) | (df['Değerler'] > upper_bound)]\n",
    "len(outliers)"
   ]
  },
  {
   "cell_type": "code",
   "execution_count": 68,
   "id": "6f70594f",
   "metadata": {},
   "outputs": [
    {
     "data": {
      "text/plain": [
       "0"
      ]
     },
     "execution_count": 68,
     "metadata": {},
     "output_type": "execute_result"
    }
   ],
   "source": [
    "Q1 = df[\"Normalize Edilmiş Değerler\"].quantile(0.25)\n",
    "Q3 = df[\"Normalize Edilmiş Değerler\"].quantile(0.75)\n",
    "IQR = Q3 - Q1\n",
    "lower_bound = Q1 - 1.5 * IQR\n",
    "upper_bound = Q3 + 1.5 * IQR\n",
    "outliers = df[(df[\"Normalize Edilmiş Değerler\"] < lower_bound) | (df[\"Normalize Edilmiş Değerler\"] > upper_bound)]\n",
    "len(outliers)"
   ]
  },
  {
   "cell_type": "markdown",
   "id": "e5c94e3e",
   "metadata": {},
   "source": [
    "<h1 style=\"color:red;\">__________________________________________________</h1>\n",
    "<h1 style=\"color:red;\">__________________________________________________</h1>\n",
    "<h1 style=\"color:red;\">__________________________________________________</h1>"
   ]
  },
  {
   "cell_type": "markdown",
   "id": "bec977d7",
   "metadata": {},
   "source": [
    "<h1 style=\"color:purple;\">Python İle T Student Dağılımlı Veri Üzerinde Min-Max Normalizasyonu</h1>"
   ]
  },
  {
   "cell_type": "code",
   "execution_count": 69,
   "id": "ad1905ad",
   "metadata": {},
   "outputs": [],
   "source": [
    "data = np.random.standard_t(df=5, size=100000)\n",
    "df = pd.DataFrame(data, columns=['Değerler'])"
   ]
  },
  {
   "cell_type": "code",
   "execution_count": 70,
   "id": "ca6ecea5",
   "metadata": {},
   "outputs": [
    {
     "data": {
      "image/png": "[encoded data removed]",
      "text/plain": [
       "<Figure size 1000x600 with 1 Axes>"
      ]
     },
     "metadata": {},
     "output_type": "display_data"
    }
   ],
   "source": [
    "# Veriyi görselleştir\n",
    "plt.figure(figsize=(10, 6))\n",
    "plt.hist(df,bins=50, color='green', alpha=0.7)\n",
    "plt.title('T Student Dağılımı', fontsize=16)\n",
    "plt.xlabel('Değerler', fontsize=14)\n",
    "plt.ylabel('Frekans', fontsize=14)\n",
    "plt.show()"
   ]
  },
  {
   "cell_type": "markdown",
   "id": "8f4d8b06",
   "metadata": {},
   "source": [
    "<h4 style=\"color:green;\">Adım - 1 )  Minimum ve Maksimum Değerlerin Bulunması:</h4>"
   ]
  },
  {
   "cell_type": "code",
   "execution_count": 71,
   "id": "1a347b6a",
   "metadata": {},
   "outputs": [],
   "source": [
    "min_val = df['Değerler'].min()\n",
    "max_val = df['Değerler'].max()"
   ]
  },
  {
   "cell_type": "markdown",
   "id": "151c9632",
   "metadata": {},
   "source": [
    "<h4 style=\"color:green;\">Adım - 2 ) Yeni Değerlerin Hesaplanması:</h4>"
   ]
  },
  {
   "cell_type": "code",
   "execution_count": 72,
   "id": "9f576503",
   "metadata": {},
   "outputs": [],
   "source": [
    "df['Normalize Edilmiş Değerler'] = (df['Değerler'] - min_val) / (max_val - min_val)\n"
   ]
  },
  {
   "cell_type": "code",
   "execution_count": 73,
   "id": "b99a3535",
   "metadata": {
    "scrolled": false
   },
   "outputs": [
    {
     "data": {
      "image/png": "[encoded data removed]",
      "text/plain": [
       "<Figure size 1000x600 with 1 Axes>"
      ]
     },
     "metadata": {},
     "output_type": "display_data"
    }
   ],
   "source": [
    "# Veriyi görselleştir\n",
    "plt.figure(figsize=(10, 6))\n",
    "plt.hist(df['Normalize Edilmiş Değerler'], bins=50, color='green', alpha=0.7)\n",
    "plt.title('T Student Dağılımı', fontsize=16)\n",
    "plt.xlabel('Değerler', fontsize=14)\n",
    "plt.ylabel('Frekans', fontsize=14)\n",
    "plt.show()"
   ]
  },
  {
   "cell_type": "markdown",
   "id": "86be52ba",
   "metadata": {},
   "source": [
    "<h4 style=\"color:green;\"> Aykırı Değer Tespiti</h4>\n"
   ]
  },
  {
   "cell_type": "code",
   "execution_count": 74,
   "id": "e3e49b97",
   "metadata": {},
   "outputs": [
    {
     "data": {
      "text/plain": [
       "3385"
      ]
     },
     "execution_count": 74,
     "metadata": {},
     "output_type": "execute_result"
    }
   ],
   "source": [
    "Q1 = df['Değerler'].quantile(0.25)\n",
    "Q3 = df['Değerler'].quantile(0.75)\n",
    "IQR = Q3 - Q1\n",
    "lower_bound = Q1 - 1.5 * IQR\n",
    "upper_bound = Q3 + 1.5 * IQR\n",
    "outliers = df[(df['Değerler'] < lower_bound) | (df['Değerler'] > upper_bound)]\n",
    "len(outliers)"
   ]
  },
  {
   "cell_type": "code",
   "execution_count": 75,
   "id": "706bc850",
   "metadata": {},
   "outputs": [
    {
     "data": {
      "text/plain": [
       "3385"
      ]
     },
     "execution_count": 75,
     "metadata": {},
     "output_type": "execute_result"
    }
   ],
   "source": [
    "Q1 = df[\"Normalize Edilmiş Değerler\"].quantile(0.25)\n",
    "Q3 = df[\"Normalize Edilmiş Değerler\"].quantile(0.75)\n",
    "IQR = Q3 - Q1\n",
    "lower_bound = Q1 - 1.5 * IQR\n",
    "upper_bound = Q3 + 1.5 * IQR\n",
    "outliers = df[(df[\"Normalize Edilmiş Değerler\"] < lower_bound) | (df[\"Normalize Edilmiş Değerler\"] > upper_bound)]\n",
    "len(outliers)"
   ]
  }
 ],
 "metadata": {
  "kernelspec": {
   "display_name": "Python 3 (ipykernel)",
   "language": "python",
   "name": "python3"
  },
  "language_info": {
   "codemirror_mode": {
    "name": "ipython",
    "version": 3
   },
   "file_extension": ".py",
   "mimetype": "text/x-python",
   "name": "python",
   "nbconvert_exporter": "python",
   "pygments_lexer": "ipython3",
   "version": "3.11.5"
  }
 },
 "nbformat": 4,
 "nbformat_minor": 5
}
