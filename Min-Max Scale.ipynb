{
 "cells": [
  {
   "cell_type": "markdown",
   "id": "5e075bf6",
   "metadata": {},
   "source": [
    "<h1 style=\"color:purple;\">Min-Max Normalizasyonu</h1>"
   ]
  },
  {
   "cell_type": "markdown",
   "id": "ff12d26e",
   "metadata": {},
   "source": [
    "<p style=\"color:green; font-weight:bold; font-size:15px;\">Min-Max Normalizasyonu, genellikle veri ön işleme aşamasında kullanılan bir tekniktir.</p>\n",
    "<p style=\"color:green; font-weight:bold; font-size:15px;\">Bu teknik, farklı aralıklarda ifade edilen verileri 0 ile 1 arası bir aralığa dönüştürerek karşılaştırılabilir hale getirmeyi amaçlar.</p>\n"
   ]
  },
  {
   "cell_type": "markdown",
   "id": "87623b69",
   "metadata": {},
   "source": [
    "<h3 style=\"color:purple;\">Çalışma Şekli:</h3>"
   ]
  },
  {
   "cell_type": "markdown",
   "id": "d8589693",
   "metadata": {},
   "source": [
    "<h4 style=\"color:green;\">Adım - 1 )  Minimum ve Maksimum Değerlerin Bulunması:</h4>"
   ]
  },
  {
   "cell_type": "markdown",
   "id": "e86d0a8c",
   "metadata": {},
   "source": [
    "<p style=\"color:green; font-weight:bold; font-size:15px;\"> Veri setindeki her bir özellik (sütun) için en küçük (minimum) ve en büyük (maksimum) değerler bulunur.</p>"
   ]
  },
  {
   "cell_type": "markdown",
   "id": "2251ddf3",
   "metadata": {},
   "source": [
    "<h4 style=\"color:green;\">Adım - 2 ) Yeni Değerlerin Hesaplanması:</h4>"
   ]
  },
  {
   "cell_type": "markdown",
   "id": "378d0db9",
   "metadata": {},
   "source": [
    "<p style=\"color:green; font-weight:bold; font-size:15px;\">  Her bir veri noktası için, o özellikteki değerden minimum değerin çıkarılıp, maksimum değer ile minimum değer arasındaki farka bölünür.</p>"
   ]
  },
  {
   "cell_type": "markdown",
   "id": "0237db6d",
   "metadata": {},
   "source": [
    "\\begin{equation}\n",
    "\\text{Normalize Edilmiş Değer} = \\frac{x - \\min(X)}{\\max(X) - \\min(X)}\n",
    "\\end{equation}"
   ]
  },
  {
   "cell_type": "markdown",
   "id": "300c1bdd",
   "metadata": {},
   "source": [
    "<p style=\"color:red; font-weight:bold; font-size:15px;\">x: Normalleştirilecek değer</p>\n",
    "<p style=\"color:red; font-weight:bold; font-size:15px;\">min(X): Veri setindeki özelliğin minimum değeri</p>\n",
    "<p style=\"color:red; font-weight:bold; font-size:15px;\">max(X): Veri setindeki özelliğin maksimum değeri</p>"
   ]
  },
  {
   "cell_type": "markdown",
   "id": "1004f89a",
   "metadata": {},
   "source": [
    "<h3 style=\"color:purple;\">Dezavantajları</h3>\n",
    "<p style=\"color:green; font-weight:bold; font-size:15px;\">  Veri setindeki uç değerlere (outlier) duyarlıdır. Uç değerler normalizasyon işlemini etkileyebilir.</p>\n",
    "<p style=\"color:green; font-weight:bold; font-size:15px;\"> Veri sıralamasını korur, ancak mesafeleri korumaz. Yani, orijinal veride birbirine yakın olan iki nokta, normalleştirilmiş veride birbirinden çok uzak görünebilir. </p>"
   ]
  },
  {
   "cell_type": "markdown",
   "id": "59bd48b6",
   "metadata": {},
   "source": [
    "<h1 style=\"color:purple;\">Python İle Sağa Çarpık Veri Üzerinde Min-Max Normalizasyonu</h1>"
   ]
  },
  {
   "cell_type": "code",
   "execution_count": 1,
   "id": "f0e5b843",
   "metadata": {},
   "outputs": [],
   "source": [
    "import numpy as np\n",
    "import pandas as pd\n",
    "import matplotlib.pyplot as plt\n",
    "\n",
    "# Sağa çarpık (sağa çekik) bir dağılım oluşturmak için log-normal dağılım kullanacağız.\n",
    "\n",
    "mean = 10  # Ortalama\n",
    "sigma = 1  # Standart sapma\n",
    "\n",
    "data = np.random.lognormal(mean, sigma, 100000)\n",
    "\n",
    "# Aykırı değerler oluşturmak için, normal dağılım ile log-normal dağılımın birleşimi olacak şekilde bir veri seti oluşturacağız.\n",
    "\n",
    "# Normal dağılım parametreleri\n",
    "normal_mean = 30\n",
    "normal_sigma = 10\n",
    "\n",
    "normal_data = np.random.normal(normal_mean, normal_sigma, 5000)\n",
    "\n",
    "data_with_outliers = np.concatenate((data, normal_data))\n",
    "\n",
    "# Veriyi bir DataFrame'e dönüştür\n",
    "df = pd.DataFrame(data_with_outliers, columns=['Değerler'])\n"
   ]
  },
  {
   "cell_type": "code",
   "execution_count": 2,
   "id": "90afa1b6",
   "metadata": {
    "scrolled": false
   },
   "outputs": [
    {
     "data": {
      "image/png": "[encoded data removed]",
      "text/plain": [
       "<Figure size 1000x600 with 1 Axes>"
      ]
     },
     "metadata": {},
     "output_type": "display_data"
    }
   ],
   "source": [
    "# Veriyi görselleştir\n",
    "plt.figure(figsize=(10, 6))\n",
    "plt.hist(data_with_outliers, bins=100, color='blue', alpha=0.7)\n",
    "plt.title('Sağa Çarpık Dağılım', fontsize=16)\n",
    "plt.xlabel('Değerler', fontsize=14)\n",
    "plt.ylabel('Frekans', fontsize=14)\n",
    "plt.show()"
   ]
  },
  {
   "cell_type": "code",
   "execution_count": 3,
   "id": "7bbd1820",
   "metadata": {},
   "outputs": [
    {
     "data": {
      "text/html": [
       "<div>\n",
       "<style scoped>\n",
       "    .dataframe tbody tr th:only-of-type {\n",
       "        vertical-align: middle;\n",
       "    }\n",
       "\n",
       "    .dataframe tbody tr th {\n",
       "        vertical-align: top;\n",
       "    }\n",
       "\n",
       "    .dataframe thead th {\n",
       "        text-align: right;\n",
       "    }\n",
       "</style>\n",
       "<table border=\"1\" class=\"dataframe\">\n",
       "  <thead>\n",
       "    <tr style=\"text-align: right;\">\n",
       "      <th></th>\n",
       "      <th>Değerler</th>\n",
       "    </tr>\n",
       "  </thead>\n",
       "  <tbody>\n",
       "    <tr>\n",
       "      <th>0</th>\n",
       "      <td>143715.146201</td>\n",
       "    </tr>\n",
       "    <tr>\n",
       "      <th>1</th>\n",
       "      <td>94417.634886</td>\n",
       "    </tr>\n",
       "    <tr>\n",
       "      <th>2</th>\n",
       "      <td>19991.594458</td>\n",
       "    </tr>\n",
       "    <tr>\n",
       "      <th>3</th>\n",
       "      <td>21823.142135</td>\n",
       "    </tr>\n",
       "    <tr>\n",
       "      <th>4</th>\n",
       "      <td>22713.983938</td>\n",
       "    </tr>\n",
       "    <tr>\n",
       "      <th>...</th>\n",
       "      <td>...</td>\n",
       "    </tr>\n",
       "    <tr>\n",
       "      <th>104995</th>\n",
       "      <td>10.786417</td>\n",
       "    </tr>\n",
       "    <tr>\n",
       "      <th>104996</th>\n",
       "      <td>35.185826</td>\n",
       "    </tr>\n",
       "    <tr>\n",
       "      <th>104997</th>\n",
       "      <td>38.863558</td>\n",
       "    </tr>\n",
       "    <tr>\n",
       "      <th>104998</th>\n",
       "      <td>40.760832</td>\n",
       "    </tr>\n",
       "    <tr>\n",
       "      <th>104999</th>\n",
       "      <td>25.508797</td>\n",
       "    </tr>\n",
       "  </tbody>\n",
       "</table>\n",
       "<p>105000 rows × 1 columns</p>\n",
       "</div>"
      ],
      "text/plain": [
       "             Değerler\n",
       "0       143715.146201\n",
       "1        94417.634886\n",
       "2        19991.594458\n",
       "3        21823.142135\n",
       "4        22713.983938\n",
       "...               ...\n",
       "104995      10.786417\n",
       "104996      35.185826\n",
       "104997      38.863558\n",
       "104998      40.760832\n",
       "104999      25.508797\n",
       "\n",
       "[105000 rows x 1 columns]"
      ]
     },
     "execution_count": 3,
     "metadata": {},
     "output_type": "execute_result"
    }
   ],
   "source": [
    "df"
   ]
  },
  {
   "cell_type": "markdown",
   "id": "15a065b1",
   "metadata": {},
   "source": [
    "<h4 style=\"color:green;\">Adım - 1 )  Minimum ve Maksimum Değerlerin Bulunması:</h4>"
   ]
  },
  {
   "cell_type": "code",
   "execution_count": 4,
   "id": "bab46adb",
   "metadata": {},
   "outputs": [
    {
     "name": "stdout",
     "output_type": "stream",
     "text": [
      "-8.36165712899146 1706132.144446778\n"
     ]
    }
   ],
   "source": [
    "min_val = df['Değerler'].min()\n",
    "\n",
    "max_val = df['Değerler'].max()\n",
    "print(min_val,max_val)"
   ]
  },
  {
   "cell_type": "markdown",
   "id": "06026383",
   "metadata": {},
   "source": [
    "<h4 style=\"color:green;\">Adım - 2 ) Yeni Değerlerin Hesaplanması:</h4>"
   ]
  },
  {
   "cell_type": "code",
   "execution_count": 5,
   "id": "e63f9725",
   "metadata": {},
   "outputs": [],
   "source": [
    "df['Normalize Edilmiş Değerler'] = (df['Değerler'] - min_val) / (max_val - min_val)\n"
   ]
  },
  {
   "cell_type": "code",
   "execution_count": 6,
   "id": "853bb983",
   "metadata": {},
   "outputs": [
    {
     "data": {
      "text/html": [
       "<div>\n",
       "<style scoped>\n",
       "    .dataframe tbody tr th:only-of-type {\n",
       "        vertical-align: middle;\n",
       "    }\n",
       "\n",
       "    .dataframe tbody tr th {\n",
       "        vertical-align: top;\n",
       "    }\n",
       "\n",
       "    .dataframe thead th {\n",
       "        text-align: right;\n",
       "    }\n",
       "</style>\n",
       "<table border=\"1\" class=\"dataframe\">\n",
       "  <thead>\n",
       "    <tr style=\"text-align: right;\">\n",
       "      <th></th>\n",
       "      <th>Değerler</th>\n",
       "      <th>Normalize Edilmiş Değerler</th>\n",
       "    </tr>\n",
       "  </thead>\n",
       "  <tbody>\n",
       "    <tr>\n",
       "      <th>0</th>\n",
       "      <td>143715.146201</td>\n",
       "      <td>0.084239</td>\n",
       "    </tr>\n",
       "    <tr>\n",
       "      <th>1</th>\n",
       "      <td>94417.634886</td>\n",
       "      <td>0.055345</td>\n",
       "    </tr>\n",
       "    <tr>\n",
       "      <th>2</th>\n",
       "      <td>19991.594458</td>\n",
       "      <td>0.011722</td>\n",
       "    </tr>\n",
       "    <tr>\n",
       "      <th>3</th>\n",
       "      <td>21823.142135</td>\n",
       "      <td>0.012796</td>\n",
       "    </tr>\n",
       "    <tr>\n",
       "      <th>4</th>\n",
       "      <td>22713.983938</td>\n",
       "      <td>0.013318</td>\n",
       "    </tr>\n",
       "  </tbody>\n",
       "</table>\n",
       "</div>"
      ],
      "text/plain": [
       "        Değerler  Normalize Edilmiş Değerler\n",
       "0  143715.146201                    0.084239\n",
       "1   94417.634886                    0.055345\n",
       "2   19991.594458                    0.011722\n",
       "3   21823.142135                    0.012796\n",
       "4   22713.983938                    0.013318"
      ]
     },
     "execution_count": 6,
     "metadata": {},
     "output_type": "execute_result"
    }
   ],
   "source": [
    "df.head()"
   ]
  },
  {
   "cell_type": "code",
   "execution_count": 7,
   "id": "c2c04a94",
   "metadata": {},
   "outputs": [
    {
     "data": {
      "text/html": [
       "<div>\n",
       "<style scoped>\n",
       "    .dataframe tbody tr th:only-of-type {\n",
       "        vertical-align: middle;\n",
       "    }\n",
       "\n",
       "    .dataframe tbody tr th {\n",
       "        vertical-align: top;\n",
       "    }\n",
       "\n",
       "    .dataframe thead th {\n",
       "        text-align: right;\n",
       "    }\n",
       "</style>\n",
       "<table border=\"1\" class=\"dataframe\">\n",
       "  <thead>\n",
       "    <tr style=\"text-align: right;\">\n",
       "      <th></th>\n",
       "      <th>Değerler</th>\n",
       "      <th>Normalize Edilmiş Değerler</th>\n",
       "    </tr>\n",
       "  </thead>\n",
       "  <tbody>\n",
       "    <tr>\n",
       "      <th>104995</th>\n",
       "      <td>10.786417</td>\n",
       "      <td>0.000011</td>\n",
       "    </tr>\n",
       "    <tr>\n",
       "      <th>104996</th>\n",
       "      <td>35.185826</td>\n",
       "      <td>0.000026</td>\n",
       "    </tr>\n",
       "    <tr>\n",
       "      <th>104997</th>\n",
       "      <td>38.863558</td>\n",
       "      <td>0.000028</td>\n",
       "    </tr>\n",
       "    <tr>\n",
       "      <th>104998</th>\n",
       "      <td>40.760832</td>\n",
       "      <td>0.000029</td>\n",
       "    </tr>\n",
       "    <tr>\n",
       "      <th>104999</th>\n",
       "      <td>25.508797</td>\n",
       "      <td>0.000020</td>\n",
       "    </tr>\n",
       "  </tbody>\n",
       "</table>\n",
       "</div>"
      ],
      "text/plain": [
       "         Değerler  Normalize Edilmiş Değerler\n",
       "104995  10.786417                    0.000011\n",
       "104996  35.185826                    0.000026\n",
       "104997  38.863558                    0.000028\n",
       "104998  40.760832                    0.000029\n",
       "104999  25.508797                    0.000020"
      ]
     },
     "execution_count": 7,
     "metadata": {},
     "output_type": "execute_result"
    }
   ],
   "source": [
    "df.tail()"
   ]
  },
  {
   "cell_type": "code",
   "execution_count": 8,
   "id": "73324e79",
   "metadata": {
    "scrolled": true
   },
   "outputs": [
    {
     "data": {
      "text/plain": [
       "count    1.050000e+05\n",
       "mean     3.478343e+04\n",
       "std      4.750053e+04\n",
       "min     -8.361657e+00\n",
       "25%      9.944181e+03\n",
       "50%      2.071449e+04\n",
       "75%      4.178742e+04\n",
       "max      1.706132e+06\n",
       "Name: Değerler, dtype: float64"
      ]
     },
     "execution_count": 8,
     "metadata": {},
     "output_type": "execute_result"
    }
   ],
   "source": [
    "df[\"Değerler\"].describe()"
   ]
  },
  {
   "cell_type": "code",
   "execution_count": 9,
   "id": "c3fd8344",
   "metadata": {
    "scrolled": true
   },
   "outputs": [
    {
     "data": {
      "text/plain": [
       "count    105000.000000\n",
       "mean          0.020392\n",
       "std           0.027841\n",
       "min           0.000000\n",
       "25%           0.005833\n",
       "50%           0.012146\n",
       "75%           0.024497\n",
       "max           1.000000\n",
       "Name: Normalize Edilmiş Değerler, dtype: float64"
      ]
     },
     "execution_count": 9,
     "metadata": {},
     "output_type": "execute_result"
    }
   ],
   "source": [
    "df[\"Normalize Edilmiş Değerler\"].describe()"
   ]
  },
  {
   "cell_type": "code",
   "execution_count": 10,
   "id": "5e4a2ea4",
   "metadata": {},
   "outputs": [
    {
     "data": {
      "image/png": "[encoded data removed]",
      "text/plain": [
       "<Figure size 1000x600 with 1 Axes>"
      ]
     },
     "metadata": {},
     "output_type": "display_data"
    }
   ],
   "source": [
    "# Veriyi görselleştir\n",
    "plt.figure(figsize=(10, 6))\n",
    "plt.hist(df[\"Normalize Edilmiş Değerler\"], bins=100, color='blue', alpha=0.7)\n",
    "plt.title('Sağa Çarpık Normalize Edilmiş Değerler', fontsize=16)\n",
    "plt.xlabel('Değerler', fontsize=14)\n",
    "plt.ylabel('Frekans', fontsize=14)\n",
    "plt.show()"
   ]
  },
  {
   "cell_type": "markdown",
   "id": "2d565c87",
   "metadata": {},
   "source": [
    "<h4 style=\"color:green;\"> Aykırı Değer Tespiti</h4>"
   ]
  },
  {
   "cell_type": "code",
   "execution_count": 11,
   "id": "00b90244",
   "metadata": {},
   "outputs": [
    {
     "data": {
      "text/plain": [
       "8151"
      ]
     },
     "execution_count": 11,
     "metadata": {},
     "output_type": "execute_result"
    }
   ],
   "source": [
    "Q1 = df['Değerler'].quantile(0.25)\n",
    "Q3 = df['Değerler'].quantile(0.75)\n",
    "IQR = Q3 - Q1\n",
    "lower_bound = Q1 - 1.5 * IQR\n",
    "upper_bound = Q3 + 1.5 * IQR\n",
    "outliers = df[(df['Değerler'] < lower_bound) | (df['Değerler'] > upper_bound)]\n",
    "len(outliers)"
   ]
  },
  {
   "cell_type": "code",
   "execution_count": 12,
   "id": "058a36b8",
   "metadata": {
    "scrolled": true
   },
   "outputs": [
    {
     "data": {
      "text/plain": [
       "8151"
      ]
     },
     "execution_count": 12,
     "metadata": {},
     "output_type": "execute_result"
    }
   ],
   "source": [
    "Q1 = df[\"Normalize Edilmiş Değerler\"].quantile(0.25)\n",
    "Q3 = df[\"Normalize Edilmiş Değerler\"].quantile(0.75)\n",
    "IQR = Q3 - Q1\n",
    "lower_bound = Q1 - 1.5 * IQR\n",
    "upper_bound = Q3 + 1.5 * IQR\n",
    "outliers = df[(df[\"Normalize Edilmiş Değerler\"] < lower_bound) | (df[\"Normalize Edilmiş Değerler\"] > upper_bound)]\n",
    "len(outliers)"
   ]
  },
  {
   "cell_type": "markdown",
   "id": "605f3673",
   "metadata": {},
   "source": [
    "<h1 style=\"color:red;\">__________________________________________________</h1>\n",
    "<h1 style=\"color:red;\">__________________________________________________</h1>\n",
    "<h1 style=\"color:red;\">__________________________________________________</h1>"
   ]
  },
  {
   "cell_type": "markdown",
   "id": "d0a45662",
   "metadata": {},
   "source": [
    "<h1 style=\"color:purple;\">Python İle Sola Çarpık Veri Üzerinde Min-Max Normalizasyonu</h1>"
   ]
  },
  {
   "cell_type": "code",
   "execution_count": 13,
   "id": "b0f16913",
   "metadata": {},
   "outputs": [],
   "source": [
    "import numpy as np\n",
    "import pandas as pd\n",
    "import matplotlib.pyplot as plt\n",
    "\n",
    "# Sola çarpık (sola çekik) bir dağılım oluşturmak için negatif log-normal dağılım kullanacağız.\n",
    "# Bu, normal bir dağılımı negatif logaritmik olarak dönüştürerek sola çarpık bir dağılım elde eder.\n",
    "# Negatif log-normal dağılımın parametreleri olan mean ve sigma'yı belirleyebiliriz.\n",
    "\n",
    "mean = 10  # Ortalama\n",
    "sigma = 1  # Standart sapma\n",
    "\n",
    "# Negatif log-normal dağılımı oluşturmak için numpy kütüphanesindeki random.lognormal fonksiyonunu kullanacağız.\n",
    "# Bu fonksiyon, belirtilen ortalama ve standart sapmaya sahip bir negatif log-normal dağılımı döndürür.\n",
    "\n",
    "data = np.random.lognormal(mean, sigma, 100000) * -1  # Negatif log-normal dağılımı elde etmek için sonucu -1 ile çarpıyoruz\n",
    "\n",
    "# Aykırı değerler oluşturmak için, normal dağılım ile negatif log-normal dağılımın birleşimi olacak şekilde bir veri seti oluşturacağız.\n",
    "# Bunu yapmak için, normal dağılımdan bazı rastgele değerler alıp bunları negatif log-normal dağılıma ekleyeceğiz.\n",
    "\n",
    "# Normal dağılım parametreleri\n",
    "normal_mean = -30\n",
    "normal_sigma = 10\n",
    "\n",
    "# Normal dağılımdan rastgele değerler oluştur\n",
    "normal_data = np.random.normal(normal_mean, normal_sigma, 5000)\n",
    "\n",
    "# Normal dağılım ile negatif log-normal dağılımın birleşimi\n",
    "data_with_outliers = np.concatenate((data, normal_data))\n",
    "\n",
    "\n",
    "df = pd.DataFrame(data_with_outliers, columns=['Değerler'])\n"
   ]
  },
  {
   "cell_type": "code",
   "execution_count": 14,
   "id": "359bbdea",
   "metadata": {},
   "outputs": [
    {
     "data": {
      "text/html": [
       "<div>\n",
       "<style scoped>\n",
       "    .dataframe tbody tr th:only-of-type {\n",
       "        vertical-align: middle;\n",
       "    }\n",
       "\n",
       "    .dataframe tbody tr th {\n",
       "        vertical-align: top;\n",
       "    }\n",
       "\n",
       "    .dataframe thead th {\n",
       "        text-align: right;\n",
       "    }\n",
       "</style>\n",
       "<table border=\"1\" class=\"dataframe\">\n",
       "  <thead>\n",
       "    <tr style=\"text-align: right;\">\n",
       "      <th></th>\n",
       "      <th>Değerler</th>\n",
       "    </tr>\n",
       "  </thead>\n",
       "  <tbody>\n",
       "    <tr>\n",
       "      <th>0</th>\n",
       "      <td>-20947.727178</td>\n",
       "    </tr>\n",
       "    <tr>\n",
       "      <th>1</th>\n",
       "      <td>-9303.685108</td>\n",
       "    </tr>\n",
       "    <tr>\n",
       "      <th>2</th>\n",
       "      <td>-32378.701583</td>\n",
       "    </tr>\n",
       "    <tr>\n",
       "      <th>3</th>\n",
       "      <td>-1910.695639</td>\n",
       "    </tr>\n",
       "    <tr>\n",
       "      <th>4</th>\n",
       "      <td>-23056.624365</td>\n",
       "    </tr>\n",
       "  </tbody>\n",
       "</table>\n",
       "</div>"
      ],
      "text/plain": [
       "       Değerler\n",
       "0 -20947.727178\n",
       "1  -9303.685108\n",
       "2 -32378.701583\n",
       "3  -1910.695639\n",
       "4 -23056.624365"
      ]
     },
     "execution_count": 14,
     "metadata": {},
     "output_type": "execute_result"
    }
   ],
   "source": [
    "df.head()"
   ]
  },
  {
   "cell_type": "code",
   "execution_count": 15,
   "id": "655f4828",
   "metadata": {
    "scrolled": false
   },
   "outputs": [
    {
     "data": {
      "image/png": "[encoded data removed]",
      "text/plain": [
       "<Figure size 1000x600 with 1 Axes>"
      ]
     },
     "metadata": {},
     "output_type": "display_data"
    }
   ],
   "source": [
    "# Veriyi görselleştir\n",
    "plt.figure(figsize=(10, 6))\n",
    "plt.hist(data_with_outliers, bins=50, color='green', alpha=0.7)\n",
    "plt.title('Sola Çarpık Dağılım', fontsize=16)\n",
    "plt.xlabel('Değerler', fontsize=14)\n",
    "plt.ylabel('Frekans', fontsize=14)\n",
    "plt.show()\n"
   ]
  },
  {
   "cell_type": "markdown",
   "id": "c89bf95c",
   "metadata": {},
   "source": [
    "<h4 style=\"color:green;\">Adım - 1 )  Minimum ve Maksimum Değerlerin Bulunması:</h4>"
   ]
  },
  {
   "cell_type": "code",
   "execution_count": 16,
   "id": "1453f2c3",
   "metadata": {},
   "outputs": [
    {
     "name": "stdout",
     "output_type": "stream",
     "text": [
      "-1381780.3480072594 4.629884715639868\n"
     ]
    }
   ],
   "source": [
    "min_val = df['Değerler'].min()\n",
    "\n",
    "max_val = df['Değerler'].max()\n",
    "print(min_val,max_val)"
   ]
  },
  {
   "cell_type": "markdown",
   "id": "6ac89ead",
   "metadata": {},
   "source": [
    "<h4 style=\"color:green;\">Adım - 2 ) Yeni Değerlerin Hesaplanması:</h4>"
   ]
  },
  {
   "cell_type": "code",
   "execution_count": 17,
   "id": "ab768f61",
   "metadata": {},
   "outputs": [],
   "source": [
    "df['Normalize Edilmiş Değerler'] = (df['Değerler'] - min_val) / (max_val - min_val)\n"
   ]
  },
  {
   "cell_type": "code",
   "execution_count": 18,
   "id": "24f3096b",
   "metadata": {},
   "outputs": [
    {
     "data": {
      "image/png": "[encoded data removed]",
      "text/plain": [
       "<Figure size 1000x600 with 1 Axes>"
      ]
     },
     "metadata": {},
     "output_type": "display_data"
    }
   ],
   "source": [
    "# Veriyi görselleştir\n",
    "plt.figure(figsize=(10, 6))\n",
    "plt.hist(df['Normalize Edilmiş Değerler'] , bins=50, color='green', alpha=0.7)\n",
    "plt.title('Sola Çarpık Normalize Edilmiş Değerler', fontsize=16)\n",
    "plt.xlabel('Değerler', fontsize=14)\n",
    "plt.ylabel('Frekans', fontsize=14)\n",
    "plt.show()\n"
   ]
  },
  {
   "cell_type": "code",
   "execution_count": 19,
   "id": "d0aa6c19",
   "metadata": {
    "scrolled": true
   },
   "outputs": [
    {
     "data": {
      "text/html": [
       "<div>\n",
       "<style scoped>\n",
       "    .dataframe tbody tr th:only-of-type {\n",
       "        vertical-align: middle;\n",
       "    }\n",
       "\n",
       "    .dataframe tbody tr th {\n",
       "        vertical-align: top;\n",
       "    }\n",
       "\n",
       "    .dataframe thead th {\n",
       "        text-align: right;\n",
       "    }\n",
       "</style>\n",
       "<table border=\"1\" class=\"dataframe\">\n",
       "  <thead>\n",
       "    <tr style=\"text-align: right;\">\n",
       "      <th></th>\n",
       "      <th>Değerler</th>\n",
       "      <th>Normalize Edilmiş Değerler</th>\n",
       "    </tr>\n",
       "  </thead>\n",
       "  <tbody>\n",
       "    <tr>\n",
       "      <th>0</th>\n",
       "      <td>-20947.727178</td>\n",
       "      <td>0.984837</td>\n",
       "    </tr>\n",
       "    <tr>\n",
       "      <th>1</th>\n",
       "      <td>-9303.685108</td>\n",
       "      <td>0.993264</td>\n",
       "    </tr>\n",
       "    <tr>\n",
       "      <th>2</th>\n",
       "      <td>-32378.701583</td>\n",
       "      <td>0.976564</td>\n",
       "    </tr>\n",
       "    <tr>\n",
       "      <th>3</th>\n",
       "      <td>-1910.695639</td>\n",
       "      <td>0.998614</td>\n",
       "    </tr>\n",
       "    <tr>\n",
       "      <th>4</th>\n",
       "      <td>-23056.624365</td>\n",
       "      <td>0.983311</td>\n",
       "    </tr>\n",
       "  </tbody>\n",
       "</table>\n",
       "</div>"
      ],
      "text/plain": [
       "       Değerler  Normalize Edilmiş Değerler\n",
       "0 -20947.727178                    0.984837\n",
       "1  -9303.685108                    0.993264\n",
       "2 -32378.701583                    0.976564\n",
       "3  -1910.695639                    0.998614\n",
       "4 -23056.624365                    0.983311"
      ]
     },
     "execution_count": 19,
     "metadata": {},
     "output_type": "execute_result"
    }
   ],
   "source": [
    "df.head()"
   ]
  },
  {
   "cell_type": "code",
   "execution_count": 20,
   "id": "e3a5a0d4",
   "metadata": {},
   "outputs": [
    {
     "data": {
      "text/html": [
       "<div>\n",
       "<style scoped>\n",
       "    .dataframe tbody tr th:only-of-type {\n",
       "        vertical-align: middle;\n",
       "    }\n",
       "\n",
       "    .dataframe tbody tr th {\n",
       "        vertical-align: top;\n",
       "    }\n",
       "\n",
       "    .dataframe thead th {\n",
       "        text-align: right;\n",
       "    }\n",
       "</style>\n",
       "<table border=\"1\" class=\"dataframe\">\n",
       "  <thead>\n",
       "    <tr style=\"text-align: right;\">\n",
       "      <th></th>\n",
       "      <th>Değerler</th>\n",
       "      <th>Normalize Edilmiş Değerler</th>\n",
       "    </tr>\n",
       "  </thead>\n",
       "  <tbody>\n",
       "    <tr>\n",
       "      <th>104995</th>\n",
       "      <td>-22.784909</td>\n",
       "      <td>0.999980</td>\n",
       "    </tr>\n",
       "    <tr>\n",
       "      <th>104996</th>\n",
       "      <td>-31.772194</td>\n",
       "      <td>0.999974</td>\n",
       "    </tr>\n",
       "    <tr>\n",
       "      <th>104997</th>\n",
       "      <td>-37.437157</td>\n",
       "      <td>0.999970</td>\n",
       "    </tr>\n",
       "    <tr>\n",
       "      <th>104998</th>\n",
       "      <td>-32.527892</td>\n",
       "      <td>0.999973</td>\n",
       "    </tr>\n",
       "    <tr>\n",
       "      <th>104999</th>\n",
       "      <td>-14.938241</td>\n",
       "      <td>0.999986</td>\n",
       "    </tr>\n",
       "  </tbody>\n",
       "</table>\n",
       "</div>"
      ],
      "text/plain": [
       "         Değerler  Normalize Edilmiş Değerler\n",
       "104995 -22.784909                    0.999980\n",
       "104996 -31.772194                    0.999974\n",
       "104997 -37.437157                    0.999970\n",
       "104998 -32.527892                    0.999973\n",
       "104999 -14.938241                    0.999986"
      ]
     },
     "execution_count": 20,
     "metadata": {},
     "output_type": "execute_result"
    }
   ],
   "source": [
    "df.tail()"
   ]
  },
  {
   "cell_type": "code",
   "execution_count": 21,
   "id": "4dbaed50",
   "metadata": {},
   "outputs": [
    {
     "data": {
      "text/plain": [
       "count    1.050000e+05\n",
       "mean    -3.464722e+04\n",
       "std      4.687734e+04\n",
       "min     -1.381780e+06\n",
       "25%     -4.166733e+04\n",
       "50%     -2.073766e+04\n",
       "75%     -9.898261e+03\n",
       "max      4.629885e+00\n",
       "Name: Değerler, dtype: float64"
      ]
     },
     "execution_count": 21,
     "metadata": {},
     "output_type": "execute_result"
    }
   ],
   "source": [
    "df[\"Değerler\"].describe()"
   ]
  },
  {
   "cell_type": "code",
   "execution_count": 22,
   "id": "c200e36e",
   "metadata": {},
   "outputs": [
    {
     "data": {
      "text/plain": [
       "count    105000.000000\n",
       "mean          0.974922\n",
       "std           0.033925\n",
       "min           0.000000\n",
       "25%           0.969842\n",
       "50%           0.984989\n",
       "75%           0.992833\n",
       "max           1.000000\n",
       "Name: Normalize Edilmiş Değerler, dtype: float64"
      ]
     },
     "execution_count": 22,
     "metadata": {},
     "output_type": "execute_result"
    }
   ],
   "source": [
    "df['Normalize Edilmiş Değerler'].describe()"
   ]
  },
  {
   "cell_type": "markdown",
   "id": "70970e60",
   "metadata": {},
   "source": [
    "<h4 style=\"color:green;\"> Aykırı Değer Tespiti</h4>"
   ]
  },
  {
   "cell_type": "code",
   "execution_count": 23,
   "id": "387b144e",
   "metadata": {},
   "outputs": [
    {
     "data": {
      "text/plain": [
       "8053"
      ]
     },
     "execution_count": 23,
     "metadata": {},
     "output_type": "execute_result"
    }
   ],
   "source": [
    "Q1 = df['Değerler'].quantile(0.25)\n",
    "Q3 = df['Değerler'].quantile(0.75)\n",
    "IQR = Q3 - Q1\n",
    "lower_bound = Q1 - 1.5 * IQR\n",
    "upper_bound = Q3 + 1.5 * IQR\n",
    "outliers = df[(df['Değerler'] < lower_bound) | (df['Değerler'] > upper_bound)]\n",
    "len(outliers)"
   ]
  },
  {
   "cell_type": "code",
   "execution_count": 24,
   "id": "e993ce75",
   "metadata": {},
   "outputs": [
    {
     "data": {
      "text/plain": [
       "8053"
      ]
     },
     "execution_count": 24,
     "metadata": {},
     "output_type": "execute_result"
    }
   ],
   "source": [
    "Q1 = df[\"Normalize Edilmiş Değerler\"].quantile(0.25)\n",
    "Q3 = df[\"Normalize Edilmiş Değerler\"].quantile(0.75)\n",
    "IQR = Q3 - Q1\n",
    "lower_bound = Q1 - 1.5 * IQR\n",
    "upper_bound = Q3 + 1.5 * IQR\n",
    "outliers = df[(df[\"Normalize Edilmiş Değerler\"] < lower_bound) | (df[\"Normalize Edilmiş Değerler\"] > upper_bound)]\n",
    "len(outliers)"
   ]
  },
  {
   "cell_type": "markdown",
   "id": "c0fa02f9",
   "metadata": {},
   "source": [
    "<h1 style=\"color:red;\">__________________________________________________</h1>\n",
    "<h1 style=\"color:red;\">__________________________________________________</h1>\n",
    "<h1 style=\"color:red;\">__________________________________________________</h1>"
   ]
  },
  {
   "cell_type": "markdown",
   "id": "3fcb3b04",
   "metadata": {},
   "source": [
    "<h1 style=\"color:purple;\">Python İle İki Modlu Veri Üzerinde Min-Max Normalizasyonu</h1>"
   ]
  },
  {
   "cell_type": "code",
   "execution_count": 25,
   "id": "95f12de1",
   "metadata": {},
   "outputs": [
    {
     "data": {
      "image/png": "[encoded data removed]",
      "text/plain": [
       "<Figure size 1000x600 with 1 Axes>"
      ]
     },
     "metadata": {},
     "output_type": "display_data"
    }
   ],
   "source": [
    "import numpy as np\n",
    "import matplotlib.pyplot as plt\n",
    "\n",
    "# İki farklı normal dağılım oluştur\n",
    "mean1 = 5\n",
    "std1 = 1\n",
    "data1 = np.random.normal(mean1, std1, 100000)\n",
    "\n",
    "mean2 = 10\n",
    "std2 = 2\n",
    "data2 = np.random.normal(mean2, std2, 100000)\n",
    "\n",
    "# İki dağılımı birleştir\n",
    "bimodal_data = np.concatenate((data1, data2))\n",
    "\n",
    "# Veriyi görselleştir\n",
    "plt.figure(figsize=(10, 6))\n",
    "plt.hist(bimodal_data, bins=50, color='purple', alpha=0.7)\n",
    "plt.title('İki Tepeli (Bimodal) Veri Dağılımı', fontsize=16)\n",
    "plt.xlabel('Değerler', fontsize=14)\n",
    "plt.ylabel('Frekans', fontsize=14)\n",
    "plt.show()\n"
   ]
  },
  {
   "cell_type": "code",
   "execution_count": 26,
   "id": "c2d0ab65",
   "metadata": {},
   "outputs": [
    {
     "data": {
      "text/html": [
       "<div>\n",
       "<style scoped>\n",
       "    .dataframe tbody tr th:only-of-type {\n",
       "        vertical-align: middle;\n",
       "    }\n",
       "\n",
       "    .dataframe tbody tr th {\n",
       "        vertical-align: top;\n",
       "    }\n",
       "\n",
       "    .dataframe thead th {\n",
       "        text-align: right;\n",
       "    }\n",
       "</style>\n",
       "<table border=\"1\" class=\"dataframe\">\n",
       "  <thead>\n",
       "    <tr style=\"text-align: right;\">\n",
       "      <th></th>\n",
       "      <th>Değerler</th>\n",
       "    </tr>\n",
       "  </thead>\n",
       "  <tbody>\n",
       "    <tr>\n",
       "      <th>0</th>\n",
       "      <td>4.640789</td>\n",
       "    </tr>\n",
       "    <tr>\n",
       "      <th>1</th>\n",
       "      <td>5.436898</td>\n",
       "    </tr>\n",
       "    <tr>\n",
       "      <th>2</th>\n",
       "      <td>5.524195</td>\n",
       "    </tr>\n",
       "    <tr>\n",
       "      <th>3</th>\n",
       "      <td>4.590156</td>\n",
       "    </tr>\n",
       "    <tr>\n",
       "      <th>4</th>\n",
       "      <td>3.694375</td>\n",
       "    </tr>\n",
       "    <tr>\n",
       "      <th>...</th>\n",
       "      <td>...</td>\n",
       "    </tr>\n",
       "    <tr>\n",
       "      <th>199995</th>\n",
       "      <td>13.953205</td>\n",
       "    </tr>\n",
       "    <tr>\n",
       "      <th>199996</th>\n",
       "      <td>10.791066</td>\n",
       "    </tr>\n",
       "    <tr>\n",
       "      <th>199997</th>\n",
       "      <td>10.784214</td>\n",
       "    </tr>\n",
       "    <tr>\n",
       "      <th>199998</th>\n",
       "      <td>10.626326</td>\n",
       "    </tr>\n",
       "    <tr>\n",
       "      <th>199999</th>\n",
       "      <td>10.693077</td>\n",
       "    </tr>\n",
       "  </tbody>\n",
       "</table>\n",
       "<p>200000 rows × 1 columns</p>\n",
       "</div>"
      ],
      "text/plain": [
       "         Değerler\n",
       "0        4.640789\n",
       "1        5.436898\n",
       "2        5.524195\n",
       "3        4.590156\n",
       "4        3.694375\n",
       "...           ...\n",
       "199995  13.953205\n",
       "199996  10.791066\n",
       "199997  10.784214\n",
       "199998  10.626326\n",
       "199999  10.693077\n",
       "\n",
       "[200000 rows x 1 columns]"
      ]
     },
     "execution_count": 26,
     "metadata": {},
     "output_type": "execute_result"
    }
   ],
   "source": [
    "df = pd.DataFrame(bimodal_data, columns=['Değerler'])\n",
    "df"
   ]
  },
  {
   "cell_type": "markdown",
   "id": "ac40f3f4",
   "metadata": {},
   "source": [
    "<h4 style=\"color:green;\">Adım - 1 )  Minimum ve Maksimum Değerlerin Bulunması:</h4>"
   ]
  },
  {
   "cell_type": "code",
   "execution_count": 27,
   "id": "f58c82d7",
   "metadata": {},
   "outputs": [
    {
     "name": "stdout",
     "output_type": "stream",
     "text": [
      "0.7947096910248224 18.823971547256015\n"
     ]
    }
   ],
   "source": [
    "min_val = df['Değerler'].min()\n",
    "\n",
    "max_val = df['Değerler'].max()\n",
    "print(min_val,max_val)"
   ]
  },
  {
   "cell_type": "markdown",
   "id": "dfd3223e",
   "metadata": {},
   "source": [
    "<h4 style=\"color:green;\">Adım - 2 ) Yeni Değerlerin Hesaplanması:</h4>"
   ]
  },
  {
   "cell_type": "code",
   "execution_count": 28,
   "id": "7c69f45f",
   "metadata": {},
   "outputs": [],
   "source": [
    "df['Normalize Edilmiş Değerler'] = (df['Değerler'] - min_val) / (max_val - min_val)\n"
   ]
  },
  {
   "cell_type": "code",
   "execution_count": 29,
   "id": "4a059f0d",
   "metadata": {},
   "outputs": [
    {
     "data": {
      "image/png": "[encoded data removed]",
      "text/plain": [
       "<Figure size 1000x600 with 1 Axes>"
      ]
     },
     "metadata": {},
     "output_type": "display_data"
    }
   ],
   "source": [
    "# Veriyi görselleştir\n",
    "plt.figure(figsize=(10, 6))\n",
    "plt.hist(df['Normalize Edilmiş Değerler'] , bins=50, color='green', alpha=0.7)\n",
    "plt.title('İki Tepeli (Bimodal) Normalize Edilmiş Değerler ', fontsize=16)\n",
    "plt.xlabel('Değerler', fontsize=14)\n",
    "plt.ylabel('Frekans', fontsize=14)\n",
    "plt.show()\n"
   ]
  },
  {
   "cell_type": "code",
   "execution_count": 30,
   "id": "2353c820",
   "metadata": {},
   "outputs": [
    {
     "data": {
      "text/html": [
       "<div>\n",
       "<style scoped>\n",
       "    .dataframe tbody tr th:only-of-type {\n",
       "        vertical-align: middle;\n",
       "    }\n",
       "\n",
       "    .dataframe tbody tr th {\n",
       "        vertical-align: top;\n",
       "    }\n",
       "\n",
       "    .dataframe thead th {\n",
       "        text-align: right;\n",
       "    }\n",
       "</style>\n",
       "<table border=\"1\" class=\"dataframe\">\n",
       "  <thead>\n",
       "    <tr style=\"text-align: right;\">\n",
       "      <th></th>\n",
       "      <th>Değerler</th>\n",
       "      <th>Normalize Edilmiş Değerler</th>\n",
       "    </tr>\n",
       "  </thead>\n",
       "  <tbody>\n",
       "    <tr>\n",
       "      <th>0</th>\n",
       "      <td>4.640789</td>\n",
       "      <td>0.213324</td>\n",
       "    </tr>\n",
       "    <tr>\n",
       "      <th>1</th>\n",
       "      <td>5.436898</td>\n",
       "      <td>0.257481</td>\n",
       "    </tr>\n",
       "    <tr>\n",
       "      <th>2</th>\n",
       "      <td>5.524195</td>\n",
       "      <td>0.262323</td>\n",
       "    </tr>\n",
       "    <tr>\n",
       "      <th>3</th>\n",
       "      <td>4.590156</td>\n",
       "      <td>0.210516</td>\n",
       "    </tr>\n",
       "    <tr>\n",
       "      <th>4</th>\n",
       "      <td>3.694375</td>\n",
       "      <td>0.160831</td>\n",
       "    </tr>\n",
       "  </tbody>\n",
       "</table>\n",
       "</div>"
      ],
      "text/plain": [
       "   Değerler  Normalize Edilmiş Değerler\n",
       "0  4.640789                    0.213324\n",
       "1  5.436898                    0.257481\n",
       "2  5.524195                    0.262323\n",
       "3  4.590156                    0.210516\n",
       "4  3.694375                    0.160831"
      ]
     },
     "execution_count": 30,
     "metadata": {},
     "output_type": "execute_result"
    }
   ],
   "source": [
    "df.head()"
   ]
  },
  {
   "cell_type": "code",
   "execution_count": 31,
   "id": "9a22cd9b",
   "metadata": {},
   "outputs": [
    {
     "data": {
      "text/html": [
       "<div>\n",
       "<style scoped>\n",
       "    .dataframe tbody tr th:only-of-type {\n",
       "        vertical-align: middle;\n",
       "    }\n",
       "\n",
       "    .dataframe tbody tr th {\n",
       "        vertical-align: top;\n",
       "    }\n",
       "\n",
       "    .dataframe thead th {\n",
       "        text-align: right;\n",
       "    }\n",
       "</style>\n",
       "<table border=\"1\" class=\"dataframe\">\n",
       "  <thead>\n",
       "    <tr style=\"text-align: right;\">\n",
       "      <th></th>\n",
       "      <th>Değerler</th>\n",
       "      <th>Normalize Edilmiş Değerler</th>\n",
       "    </tr>\n",
       "  </thead>\n",
       "  <tbody>\n",
       "    <tr>\n",
       "      <th>199995</th>\n",
       "      <td>13.953205</td>\n",
       "      <td>0.729841</td>\n",
       "    </tr>\n",
       "    <tr>\n",
       "      <th>199996</th>\n",
       "      <td>10.791066</td>\n",
       "      <td>0.554452</td>\n",
       "    </tr>\n",
       "    <tr>\n",
       "      <th>199997</th>\n",
       "      <td>10.784214</td>\n",
       "      <td>0.554072</td>\n",
       "    </tr>\n",
       "    <tr>\n",
       "      <th>199998</th>\n",
       "      <td>10.626326</td>\n",
       "      <td>0.545314</td>\n",
       "    </tr>\n",
       "    <tr>\n",
       "      <th>199999</th>\n",
       "      <td>10.693077</td>\n",
       "      <td>0.549017</td>\n",
       "    </tr>\n",
       "  </tbody>\n",
       "</table>\n",
       "</div>"
      ],
      "text/plain": [
       "         Değerler  Normalize Edilmiş Değerler\n",
       "199995  13.953205                    0.729841\n",
       "199996  10.791066                    0.554452\n",
       "199997  10.784214                    0.554072\n",
       "199998  10.626326                    0.545314\n",
       "199999  10.693077                    0.549017"
      ]
     },
     "execution_count": 31,
     "metadata": {},
     "output_type": "execute_result"
    }
   ],
   "source": [
    "df.tail()"
   ]
  },
  {
   "cell_type": "code",
   "execution_count": 32,
   "id": "920cbe00",
   "metadata": {},
   "outputs": [
    {
     "data": {
      "text/plain": [
       "count    200000.000000\n",
       "mean          7.497749\n",
       "std           2.958151\n",
       "min           0.794710\n",
       "25%           4.986151\n",
       "50%           6.666779\n",
       "75%           9.997121\n",
       "max          18.823972\n",
       "Name: Değerler, dtype: float64"
      ]
     },
     "execution_count": 32,
     "metadata": {},
     "output_type": "execute_result"
    }
   ],
   "source": [
    "df['Değerler'].describe()"
   ]
  },
  {
   "cell_type": "code",
   "execution_count": 33,
   "id": "311be28f",
   "metadata": {},
   "outputs": [
    {
     "data": {
      "text/plain": [
       "count    200000.000000\n",
       "mean          0.371787\n",
       "std           0.164075\n",
       "min           0.000000\n",
       "25%           0.232480\n",
       "50%           0.325697\n",
       "75%           0.510415\n",
       "max           1.000000\n",
       "Name: Normalize Edilmiş Değerler, dtype: float64"
      ]
     },
     "execution_count": 33,
     "metadata": {},
     "output_type": "execute_result"
    }
   ],
   "source": [
    "df['Normalize Edilmiş Değerler'].describe()"
   ]
  },
  {
   "cell_type": "markdown",
   "id": "201b69b0",
   "metadata": {},
   "source": [
    "<h4 style=\"color:green;\"> Aykırı Değer Tespiti</h4>"
   ]
  },
  {
   "cell_type": "code",
   "execution_count": 34,
   "id": "3765a076",
   "metadata": {},
   "outputs": [
    {
     "data": {
      "text/plain": [
       "10"
      ]
     },
     "execution_count": 34,
     "metadata": {},
     "output_type": "execute_result"
    }
   ],
   "source": [
    "Q1 = df['Değerler'].quantile(0.25)\n",
    "Q3 = df['Değerler'].quantile(0.75)\n",
    "IQR = Q3 - Q1\n",
    "lower_bound = Q1 - 1.5 * IQR\n",
    "upper_bound = Q3 + 1.5 * IQR\n",
    "outliers = df[(df['Değerler'] < lower_bound) | (df['Değerler'] > upper_bound)]\n",
    "len(outliers)"
   ]
  },
  {
   "cell_type": "code",
   "execution_count": 35,
   "id": "64c1e229",
   "metadata": {
    "scrolled": true
   },
   "outputs": [
    {
     "data": {
      "text/plain": [
       "10"
      ]
     },
     "execution_count": 35,
     "metadata": {},
     "output_type": "execute_result"
    }
   ],
   "source": [
    "Q1 = df[\"Normalize Edilmiş Değerler\"].quantile(0.25)\n",
    "Q3 = df[\"Normalize Edilmiş Değerler\"].quantile(0.75)\n",
    "IQR = Q3 - Q1\n",
    "lower_bound = Q1 - 1.5 * IQR\n",
    "upper_bound = Q3 + 1.5 * IQR\n",
    "outliers = df[(df[\"Normalize Edilmiş Değerler\"] < lower_bound) | (df[\"Normalize Edilmiş Değerler\"] > upper_bound)]\n",
    "len(outliers)"
   ]
  },
  {
   "cell_type": "markdown",
   "id": "9ce2bf13",
   "metadata": {},
   "source": [
    "<h1 style=\"color:red;\">__________________________________________________</h1>\n",
    "<h1 style=\"color:red;\">__________________________________________________</h1>\n",
    "<h1 style=\"color:red;\">__________________________________________________</h1>"
   ]
  },
  {
   "cell_type": "markdown",
   "id": "f5343035",
   "metadata": {},
   "source": [
    "<h1 style=\"color:purple;\">Python İle Log-Normal Dağılımlı Veri Üzerinde Min-Max Normalizasyonu</h1>"
   ]
  },
  {
   "cell_type": "code",
   "execution_count": 36,
   "id": "d27367ed",
   "metadata": {},
   "outputs": [],
   "source": [
    "data = np.random.lognormal(mean=0, sigma=1, size=100000)\n",
    "df = pd.DataFrame(data, columns=['Değerler'])"
   ]
  },
  {
   "cell_type": "code",
   "execution_count": 37,
   "id": "de4faaf6",
   "metadata": {},
   "outputs": [
    {
     "data": {
      "image/png": "[encoded data removed]",
      "text/plain": [
       "<Figure size 1000x600 with 1 Axes>"
      ]
     },
     "metadata": {},
     "output_type": "display_data"
    }
   ],
   "source": [
    "# Veriyi görselleştir\n",
    "plt.figure(figsize=(10, 6))\n",
    "plt.hist(df, bins=50, color='purple', alpha=0.7)\n",
    "plt.title('Log-Normal Dağılımlı Veri Dağılımı', fontsize=16)\n",
    "plt.xlabel('Değerler', fontsize=14)\n",
    "plt.ylabel('Frekans', fontsize=14)\n",
    "plt.show()\n"
   ]
  },
  {
   "cell_type": "markdown",
   "id": "582c8112",
   "metadata": {},
   "source": [
    "<h4 style=\"color:green;\">Adım - 1 )  Minimum ve Maksimum Değerlerin Bulunması:</h4>"
   ]
  },
  {
   "cell_type": "code",
   "execution_count": 38,
   "id": "4076266c",
   "metadata": {},
   "outputs": [],
   "source": [
    "min_val = df['Değerler'].min()\n",
    "max_val = df['Değerler'].max()"
   ]
  },
  {
   "cell_type": "markdown",
   "id": "4850a777",
   "metadata": {},
   "source": [
    "<h4 style=\"color:green;\">Adım - 2 ) Yeni Değerlerin Hesaplanması:</h4>"
   ]
  },
  {
   "cell_type": "code",
   "execution_count": 39,
   "id": "1f1f838c",
   "metadata": {},
   "outputs": [],
   "source": [
    "df['Normalize Edilmiş Değerler'] = (df['Değerler'] - min_val) / (max_val - min_val)\n"
   ]
  },
  {
   "cell_type": "code",
   "execution_count": 40,
   "id": "ce03033e",
   "metadata": {},
   "outputs": [
    {
     "data": {
      "image/png": "[encoded data removed]",
      "text/plain": [
       "<Figure size 1000x600 with 1 Axes>"
      ]
     },
     "metadata": {},
     "output_type": "display_data"
    }
   ],
   "source": [
    "# Veriyi görselleştir\n",
    "plt.figure(figsize=(10, 6))\n",
    "plt.hist(df['Normalize Edilmiş Değerler'], bins=50, color='green', alpha=0.7)\n",
    "plt.title('Log-Normal Normalize Edilmiş Değerler', fontsize=16)\n",
    "plt.xlabel('Değerler', fontsize=14)\n",
    "plt.ylabel('Frekans', fontsize=14)\n",
    "plt.show()"
   ]
  },
  {
   "cell_type": "code",
   "execution_count": 41,
   "id": "c0d8e017",
   "metadata": {},
   "outputs": [
    {
     "data": {
      "text/html": [
       "<div>\n",
       "<style scoped>\n",
       "    .dataframe tbody tr th:only-of-type {\n",
       "        vertical-align: middle;\n",
       "    }\n",
       "\n",
       "    .dataframe tbody tr th {\n",
       "        vertical-align: top;\n",
       "    }\n",
       "\n",
       "    .dataframe thead th {\n",
       "        text-align: right;\n",
       "    }\n",
       "</style>\n",
       "<table border=\"1\" class=\"dataframe\">\n",
       "  <thead>\n",
       "    <tr style=\"text-align: right;\">\n",
       "      <th></th>\n",
       "      <th>Değerler</th>\n",
       "      <th>Normalize Edilmiş Değerler</th>\n",
       "    </tr>\n",
       "  </thead>\n",
       "  <tbody>\n",
       "    <tr>\n",
       "      <th>0</th>\n",
       "      <td>1.178843</td>\n",
       "      <td>0.020249</td>\n",
       "    </tr>\n",
       "    <tr>\n",
       "      <th>1</th>\n",
       "      <td>1.541936</td>\n",
       "      <td>0.026539</td>\n",
       "    </tr>\n",
       "    <tr>\n",
       "      <th>2</th>\n",
       "      <td>0.432799</td>\n",
       "      <td>0.007323</td>\n",
       "    </tr>\n",
       "    <tr>\n",
       "      <th>3</th>\n",
       "      <td>2.399279</td>\n",
       "      <td>0.041393</td>\n",
       "    </tr>\n",
       "    <tr>\n",
       "      <th>4</th>\n",
       "      <td>0.717334</td>\n",
       "      <td>0.012253</td>\n",
       "    </tr>\n",
       "  </tbody>\n",
       "</table>\n",
       "</div>"
      ],
      "text/plain": [
       "   Değerler  Normalize Edilmiş Değerler\n",
       "0  1.178843                    0.020249\n",
       "1  1.541936                    0.026539\n",
       "2  0.432799                    0.007323\n",
       "3  2.399279                    0.041393\n",
       "4  0.717334                    0.012253"
      ]
     },
     "execution_count": 41,
     "metadata": {},
     "output_type": "execute_result"
    }
   ],
   "source": [
    "df.head()"
   ]
  },
  {
   "cell_type": "code",
   "execution_count": 42,
   "id": "121c6a3b",
   "metadata": {},
   "outputs": [
    {
     "data": {
      "text/html": [
       "<div>\n",
       "<style scoped>\n",
       "    .dataframe tbody tr th:only-of-type {\n",
       "        vertical-align: middle;\n",
       "    }\n",
       "\n",
       "    .dataframe tbody tr th {\n",
       "        vertical-align: top;\n",
       "    }\n",
       "\n",
       "    .dataframe thead th {\n",
       "        text-align: right;\n",
       "    }\n",
       "</style>\n",
       "<table border=\"1\" class=\"dataframe\">\n",
       "  <thead>\n",
       "    <tr style=\"text-align: right;\">\n",
       "      <th></th>\n",
       "      <th>Değerler</th>\n",
       "      <th>Normalize Edilmiş Değerler</th>\n",
       "    </tr>\n",
       "  </thead>\n",
       "  <tbody>\n",
       "    <tr>\n",
       "      <th>99995</th>\n",
       "      <td>0.074918</td>\n",
       "      <td>0.001123</td>\n",
       "    </tr>\n",
       "    <tr>\n",
       "      <th>99996</th>\n",
       "      <td>1.215049</td>\n",
       "      <td>0.020876</td>\n",
       "    </tr>\n",
       "    <tr>\n",
       "      <th>99997</th>\n",
       "      <td>1.227839</td>\n",
       "      <td>0.021097</td>\n",
       "    </tr>\n",
       "    <tr>\n",
       "      <th>99998</th>\n",
       "      <td>0.477488</td>\n",
       "      <td>0.008097</td>\n",
       "    </tr>\n",
       "    <tr>\n",
       "      <th>99999</th>\n",
       "      <td>0.120542</td>\n",
       "      <td>0.001913</td>\n",
       "    </tr>\n",
       "  </tbody>\n",
       "</table>\n",
       "</div>"
      ],
      "text/plain": [
       "       Değerler  Normalize Edilmiş Değerler\n",
       "99995  0.074918                    0.001123\n",
       "99996  1.215049                    0.020876\n",
       "99997  1.227839                    0.021097\n",
       "99998  0.477488                    0.008097\n",
       "99999  0.120542                    0.001913"
      ]
     },
     "execution_count": 42,
     "metadata": {},
     "output_type": "execute_result"
    }
   ],
   "source": [
    "df.tail()"
   ]
  },
  {
   "cell_type": "code",
   "execution_count": 43,
   "id": "418b8f5e",
   "metadata": {},
   "outputs": [
    {
     "data": {
      "text/plain": [
       "count    100000.000000\n",
       "mean          1.645588\n",
       "std           2.156277\n",
       "min           0.010105\n",
       "25%           0.508841\n",
       "50%           0.999367\n",
       "75%           1.962229\n",
       "max          57.729590\n",
       "Name: Değerler, dtype: float64"
      ]
     },
     "execution_count": 43,
     "metadata": {},
     "output_type": "execute_result"
    }
   ],
   "source": [
    "df['Değerler'].describe()"
   ]
  },
  {
   "cell_type": "code",
   "execution_count": 44,
   "id": "594c5338",
   "metadata": {},
   "outputs": [
    {
     "data": {
      "text/plain": [
       "count    100000.000000\n",
       "mean          0.028335\n",
       "std           0.037358\n",
       "min           0.000000\n",
       "25%           0.008641\n",
       "50%           0.017139\n",
       "75%           0.033821\n",
       "max           1.000000\n",
       "Name: Normalize Edilmiş Değerler, dtype: float64"
      ]
     },
     "execution_count": 44,
     "metadata": {},
     "output_type": "execute_result"
    }
   ],
   "source": [
    "df['Normalize Edilmiş Değerler'].describe()"
   ]
  },
  {
   "cell_type": "markdown",
   "id": "948dc931",
   "metadata": {},
   "source": [
    "<h4 style=\"color:green;\"> Aykırı Değer Tespiti</h4>\n"
   ]
  },
  {
   "cell_type": "code",
   "execution_count": 45,
   "id": "d834adfe",
   "metadata": {},
   "outputs": [
    {
     "data": {
      "text/plain": [
       "7686"
      ]
     },
     "execution_count": 45,
     "metadata": {},
     "output_type": "execute_result"
    }
   ],
   "source": [
    "Q1 = df['Değerler'].quantile(0.25)\n",
    "Q3 = df['Değerler'].quantile(0.75)\n",
    "IQR = Q3 - Q1\n",
    "lower_bound = Q1 - 1.5 * IQR\n",
    "upper_bound = Q3 + 1.5 * IQR\n",
    "outliers = df[(df['Değerler'] < lower_bound) | (df['Değerler'] > upper_bound)]\n",
    "len(outliers)"
   ]
  },
  {
   "cell_type": "code",
   "execution_count": 46,
   "id": "4a1b2a5d",
   "metadata": {},
   "outputs": [
    {
     "data": {
      "text/plain": [
       "7686"
      ]
     },
     "execution_count": 46,
     "metadata": {},
     "output_type": "execute_result"
    }
   ],
   "source": [
    "Q1 = df[\"Normalize Edilmiş Değerler\"].quantile(0.25)\n",
    "Q3 = df[\"Normalize Edilmiş Değerler\"].quantile(0.75)\n",
    "IQR = Q3 - Q1\n",
    "lower_bound = Q1 - 1.5 * IQR\n",
    "upper_bound = Q3 + 1.5 * IQR\n",
    "outliers = df[(df[\"Normalize Edilmiş Değerler\"] < lower_bound) | (df[\"Normalize Edilmiş Değerler\"] > upper_bound)]\n",
    "len(outliers)"
   ]
  },
  {
   "cell_type": "markdown",
   "id": "93bc1c03",
   "metadata": {},
   "source": [
    "<h1 style=\"color:red;\">__________________________________________________</h1>\n",
    "<h1 style=\"color:red;\">__________________________________________________</h1>\n",
    "<h1 style=\"color:red;\">__________________________________________________</h1>"
   ]
  },
  {
   "cell_type": "markdown",
   "id": "7fad938b",
   "metadata": {},
   "source": [
    "<h1 style=\"color:purple;\">Python İle Beta Dağılımlı Veri Üzerinde Min-Max Normalizasyonu</h1>"
   ]
  },
  {
   "cell_type": "code",
   "execution_count": 47,
   "id": "cfcc2c26",
   "metadata": {},
   "outputs": [],
   "source": [
    "data = np.random.beta(a=2, b=5, size=100000)\n",
    "df = pd.DataFrame(data, columns=['Değerler'])\n"
   ]
  },
  {
   "cell_type": "code",
   "execution_count": 48,
   "id": "99198ee1",
   "metadata": {},
   "outputs": [
    {
     "data": {
      "image/png": "[encoded data removed]",
      "text/plain": [
       "<Figure size 1000x600 with 1 Axes>"
      ]
     },
     "metadata": {},
     "output_type": "display_data"
    }
   ],
   "source": [
    "# Veriyi görselleştir\n",
    "plt.figure(figsize=(10, 6))\n",
    "plt.hist(df, bins=50, color='green', alpha=0.7)\n",
    "plt.title('Beta Dağılımı', fontsize=16)\n",
    "plt.xlabel('Değerler', fontsize=14)\n",
    "plt.ylabel('Frekans', fontsize=14)\n",
    "plt.show()"
   ]
  },
  {
   "cell_type": "markdown",
   "id": "c2dbcac9",
   "metadata": {},
   "source": [
    "<h4 style=\"color:green;\">Adım - 1 )  Minimum ve Maksimum Değerlerin Bulunması:</h4>"
   ]
  },
  {
   "cell_type": "code",
   "execution_count": 49,
   "id": "3362b69d",
   "metadata": {},
   "outputs": [],
   "source": [
    "min_val = df['Değerler'].min()\n",
    "max_val = df['Değerler'].max()"
   ]
  },
  {
   "cell_type": "markdown",
   "id": "0332c3c4",
   "metadata": {},
   "source": [
    "<h4 style=\"color:green;\">Adım - 2 ) Yeni Değerlerin Hesaplanması:</h4>"
   ]
  },
  {
   "cell_type": "code",
   "execution_count": 50,
   "id": "92fcea55",
   "metadata": {},
   "outputs": [],
   "source": [
    "df['Normalize Edilmiş Değerler'] = (df['Değerler'] - min_val) / (max_val - min_val)\n"
   ]
  },
  {
   "cell_type": "code",
   "execution_count": 51,
   "id": "d870ea00",
   "metadata": {},
   "outputs": [
    {
     "data": {
      "image/png": "[encoded data removed]",
      "text/plain": [
       "<Figure size 1000x600 with 1 Axes>"
      ]
     },
     "metadata": {},
     "output_type": "display_data"
    }
   ],
   "source": [
    "# Veriyi görselleştir\n",
    "plt.figure(figsize=(10, 6))\n",
    "plt.hist(df['Normalize Edilmiş Değerler'], bins=50, color='green', alpha=0.7)\n",
    "plt.title('Beta Normalize Edilmiş Değerler', fontsize=16)\n",
    "plt.xlabel('Değerler', fontsize=14)\n",
    "plt.ylabel('Frekans', fontsize=14)\n",
    "plt.show()"
   ]
  },
  {
   "cell_type": "code",
   "execution_count": 52,
   "id": "a3a81201",
   "metadata": {},
   "outputs": [
    {
     "data": {
      "text/html": [
       "<div>\n",
       "<style scoped>\n",
       "    .dataframe tbody tr th:only-of-type {\n",
       "        vertical-align: middle;\n",
       "    }\n",
       "\n",
       "    .dataframe tbody tr th {\n",
       "        vertical-align: top;\n",
       "    }\n",
       "\n",
       "    .dataframe thead th {\n",
       "        text-align: right;\n",
       "    }\n",
       "</style>\n",
       "<table border=\"1\" class=\"dataframe\">\n",
       "  <thead>\n",
       "    <tr style=\"text-align: right;\">\n",
       "      <th></th>\n",
       "      <th>Değerler</th>\n",
       "      <th>Normalize Edilmiş Değerler</th>\n",
       "    </tr>\n",
       "  </thead>\n",
       "  <tbody>\n",
       "    <tr>\n",
       "      <th>0</th>\n",
       "      <td>0.374309</td>\n",
       "      <td>0.394119</td>\n",
       "    </tr>\n",
       "    <tr>\n",
       "      <th>1</th>\n",
       "      <td>0.516261</td>\n",
       "      <td>0.543649</td>\n",
       "    </tr>\n",
       "    <tr>\n",
       "      <th>2</th>\n",
       "      <td>0.361305</td>\n",
       "      <td>0.380420</td>\n",
       "    </tr>\n",
       "    <tr>\n",
       "      <th>3</th>\n",
       "      <td>0.636638</td>\n",
       "      <td>0.670451</td>\n",
       "    </tr>\n",
       "    <tr>\n",
       "      <th>4</th>\n",
       "      <td>0.584813</td>\n",
       "      <td>0.615860</td>\n",
       "    </tr>\n",
       "  </tbody>\n",
       "</table>\n",
       "</div>"
      ],
      "text/plain": [
       "   Değerler  Normalize Edilmiş Değerler\n",
       "0  0.374309                    0.394119\n",
       "1  0.516261                    0.543649\n",
       "2  0.361305                    0.380420\n",
       "3  0.636638                    0.670451\n",
       "4  0.584813                    0.615860"
      ]
     },
     "execution_count": 52,
     "metadata": {},
     "output_type": "execute_result"
    }
   ],
   "source": [
    "df.head()"
   ]
  },
  {
   "cell_type": "code",
   "execution_count": 53,
   "id": "1e45f5b8",
   "metadata": {},
   "outputs": [
    {
     "data": {
      "text/html": [
       "<div>\n",
       "<style scoped>\n",
       "    .dataframe tbody tr th:only-of-type {\n",
       "        vertical-align: middle;\n",
       "    }\n",
       "\n",
       "    .dataframe tbody tr th {\n",
       "        vertical-align: top;\n",
       "    }\n",
       "\n",
       "    .dataframe thead th {\n",
       "        text-align: right;\n",
       "    }\n",
       "</style>\n",
       "<table border=\"1\" class=\"dataframe\">\n",
       "  <thead>\n",
       "    <tr style=\"text-align: right;\">\n",
       "      <th></th>\n",
       "      <th>Değerler</th>\n",
       "      <th>Normalize Edilmiş Değerler</th>\n",
       "    </tr>\n",
       "  </thead>\n",
       "  <tbody>\n",
       "    <tr>\n",
       "      <th>99995</th>\n",
       "      <td>0.196135</td>\n",
       "      <td>0.206433</td>\n",
       "    </tr>\n",
       "    <tr>\n",
       "      <th>99996</th>\n",
       "      <td>0.393826</td>\n",
       "      <td>0.414678</td>\n",
       "    </tr>\n",
       "    <tr>\n",
       "      <th>99997</th>\n",
       "      <td>0.143679</td>\n",
       "      <td>0.151177</td>\n",
       "    </tr>\n",
       "    <tr>\n",
       "      <th>99998</th>\n",
       "      <td>0.205284</td>\n",
       "      <td>0.216071</td>\n",
       "    </tr>\n",
       "    <tr>\n",
       "      <th>99999</th>\n",
       "      <td>0.484401</td>\n",
       "      <td>0.510088</td>\n",
       "    </tr>\n",
       "  </tbody>\n",
       "</table>\n",
       "</div>"
      ],
      "text/plain": [
       "       Değerler  Normalize Edilmiş Değerler\n",
       "99995  0.196135                    0.206433\n",
       "99996  0.393826                    0.414678\n",
       "99997  0.143679                    0.151177\n",
       "99998  0.205284                    0.216071\n",
       "99999  0.484401                    0.510088"
      ]
     },
     "execution_count": 53,
     "metadata": {},
     "output_type": "execute_result"
    }
   ],
   "source": [
    "df.tail()"
   ]
  },
  {
   "cell_type": "code",
   "execution_count": 54,
   "id": "b0f6d370",
   "metadata": {},
   "outputs": [
    {
     "data": {
      "text/plain": [
       "count    100000.000000\n",
       "mean          0.285919\n",
       "std           0.160126\n",
       "min           0.000163\n",
       "25%           0.161207\n",
       "50%           0.264448\n",
       "75%           0.389515\n",
       "max           0.949486\n",
       "Name: Değerler, dtype: float64"
      ]
     },
     "execution_count": 54,
     "metadata": {},
     "output_type": "execute_result"
    }
   ],
   "source": [
    "df['Değerler'].describe()"
   ]
  },
  {
   "cell_type": "code",
   "execution_count": 55,
   "id": "2a90fe26",
   "metadata": {},
   "outputs": [
    {
     "data": {
      "text/plain": [
       "count    100000.000000\n",
       "mean          0.301010\n",
       "std           0.168674\n",
       "min           0.000000\n",
       "25%           0.169641\n",
       "50%           0.278393\n",
       "75%           0.410136\n",
       "max           1.000000\n",
       "Name: Normalize Edilmiş Değerler, dtype: float64"
      ]
     },
     "execution_count": 55,
     "metadata": {},
     "output_type": "execute_result"
    }
   ],
   "source": [
    "df['Normalize Edilmiş Değerler'].describe()"
   ]
  },
  {
   "cell_type": "markdown",
   "id": "3b8c8c66",
   "metadata": {},
   "source": [
    "<h4 style=\"color:green;\"> Aykırı Değer Tespiti</h4>\n"
   ]
  },
  {
   "cell_type": "code",
   "execution_count": 56,
   "id": "6265635f",
   "metadata": {},
   "outputs": [
    {
     "data": {
      "text/plain": [
       "679"
      ]
     },
     "execution_count": 56,
     "metadata": {},
     "output_type": "execute_result"
    }
   ],
   "source": [
    "Q1 = df['Değerler'].quantile(0.25)\n",
    "Q3 = df['Değerler'].quantile(0.75)\n",
    "IQR = Q3 - Q1\n",
    "lower_bound = Q1 - 1.5 * IQR\n",
    "upper_bound = Q3 + 1.5 * IQR\n",
    "outliers = df[(df['Değerler'] < lower_bound) | (df['Değerler'] > upper_bound)]\n",
    "len(outliers)\n"
   ]
  },
  {
   "cell_type": "code",
   "execution_count": 57,
   "id": "1dda8c7f",
   "metadata": {},
   "outputs": [
    {
     "data": {
      "text/plain": [
       "679"
      ]
     },
     "execution_count": 57,
     "metadata": {},
     "output_type": "execute_result"
    }
   ],
   "source": [
    "Q1 = df[\"Normalize Edilmiş Değerler\"].quantile(0.25)\n",
    "Q3 = df[\"Normalize Edilmiş Değerler\"].quantile(0.75)\n",
    "IQR = Q3 - Q1\n",
    "lower_bound = Q1 - 1.5 * IQR\n",
    "upper_bound = Q3 + 1.5 * IQR\n",
    "outliers = df[(df[\"Normalize Edilmiş Değerler\"] < lower_bound) | (df[\"Normalize Edilmiş Değerler\"] > upper_bound)]\n",
    "len(outliers)"
   ]
  },
  {
   "cell_type": "markdown",
   "id": "3ef1ffad",
   "metadata": {},
   "source": [
    "<h1 style=\"color:red;\">__________________________________________________</h1>\n",
    "<h1 style=\"color:red;\">__________________________________________________</h1>\n",
    "<h1 style=\"color:red;\">__________________________________________________</h1>"
   ]
  },
  {
   "cell_type": "markdown",
   "id": "97c10999",
   "metadata": {},
   "source": [
    "<h1 style=\"color:purple;\">Python İle Uniform Dağılımlı Veri Üzerinde Min-Max Normalizasyonu</h1>"
   ]
  },
  {
   "cell_type": "code",
   "execution_count": 58,
   "id": "3aeb42e8",
   "metadata": {},
   "outputs": [],
   "source": [
    "data = np.random.uniform(low=0, high=10, size=100000)\n",
    "df = pd.DataFrame(data, columns=['Değerler'])\n"
   ]
  },
  {
   "cell_type": "code",
   "execution_count": 59,
   "id": "2f10e210",
   "metadata": {},
   "outputs": [
    {
     "data": {
      "image/png": "[encoded data removed]",
      "text/plain": [
       "<Figure size 1000x600 with 1 Axes>"
      ]
     },
     "metadata": {},
     "output_type": "display_data"
    }
   ],
   "source": [
    "# Veriyi görselleştir\n",
    "plt.figure(figsize=(10, 6))\n",
    "plt.hist(df, bins=50, color='green', alpha=0.7)\n",
    "plt.title('Uniform Dağılımı', fontsize=16)\n",
    "plt.xlabel('Değerler', fontsize=14)\n",
    "plt.ylabel('Frekans', fontsize=14)\n",
    "plt.show()"
   ]
  },
  {
   "cell_type": "markdown",
   "id": "5467182f",
   "metadata": {},
   "source": [
    "<h4 style=\"color:green;\">Adım - 1 )  Minimum ve Maksimum Değerlerin Bulunması:</h4>"
   ]
  },
  {
   "cell_type": "code",
   "execution_count": 60,
   "id": "fd2f1257",
   "metadata": {},
   "outputs": [],
   "source": [
    "min_val = df['Değerler'].min()\n",
    "max_val = df['Değerler'].max()"
   ]
  },
  {
   "cell_type": "markdown",
   "id": "1b890aeb",
   "metadata": {},
   "source": [
    "<h4 style=\"color:green;\">Adım - 2 ) Yeni Değerlerin Hesaplanması:</h4>"
   ]
  },
  {
   "cell_type": "code",
   "execution_count": 61,
   "id": "df715365",
   "metadata": {},
   "outputs": [],
   "source": [
    "df['Normalize Edilmiş Değerler'] = (df['Değerler'] - min_val) / (max_val - min_val)"
   ]
  },
  {
   "cell_type": "code",
   "execution_count": 62,
   "id": "c4857dcb",
   "metadata": {},
   "outputs": [
    {
     "data": {
      "image/png": "[encoded data removed]",
      "text/plain": [
       "<Figure size 1000x600 with 1 Axes>"
      ]
     },
     "metadata": {},
     "output_type": "display_data"
    }
   ],
   "source": [
    "plt.figure(figsize=(10, 6))\n",
    "plt.hist(df['Normalize Edilmiş Değerler'], bins=50, color='green', alpha=0.7)\n",
    "plt.title('Uniform Normalize Edilmiş Değerler', fontsize=16)\n",
    "plt.xlabel('Değerler', fontsize=14)\n",
    "plt.ylabel('Frekans', fontsize=14)\n",
    "plt.show()"
   ]
  },
  {
   "cell_type": "code",
   "execution_count": 63,
   "id": "bf139e97",
   "metadata": {},
   "outputs": [
    {
     "data": {
      "text/html": [
       "<div>\n",
       "<style scoped>\n",
       "    .dataframe tbody tr th:only-of-type {\n",
       "        vertical-align: middle;\n",
       "    }\n",
       "\n",
       "    .dataframe tbody tr th {\n",
       "        vertical-align: top;\n",
       "    }\n",
       "\n",
       "    .dataframe thead th {\n",
       "        text-align: right;\n",
       "    }\n",
       "</style>\n",
       "<table border=\"1\" class=\"dataframe\">\n",
       "  <thead>\n",
       "    <tr style=\"text-align: right;\">\n",
       "      <th></th>\n",
       "      <th>Değerler</th>\n",
       "      <th>Normalize Edilmiş Değerler</th>\n",
       "    </tr>\n",
       "  </thead>\n",
       "  <tbody>\n",
       "    <tr>\n",
       "      <th>0</th>\n",
       "      <td>8.987185</td>\n",
       "      <td>0.898724</td>\n",
       "    </tr>\n",
       "    <tr>\n",
       "      <th>1</th>\n",
       "      <td>5.586348</td>\n",
       "      <td>0.558631</td>\n",
       "    </tr>\n",
       "    <tr>\n",
       "      <th>2</th>\n",
       "      <td>6.660821</td>\n",
       "      <td>0.666082</td>\n",
       "    </tr>\n",
       "    <tr>\n",
       "      <th>3</th>\n",
       "      <td>2.728758</td>\n",
       "      <td>0.272865</td>\n",
       "    </tr>\n",
       "    <tr>\n",
       "      <th>4</th>\n",
       "      <td>8.430108</td>\n",
       "      <td>0.843015</td>\n",
       "    </tr>\n",
       "  </tbody>\n",
       "</table>\n",
       "</div>"
      ],
      "text/plain": [
       "   Değerler  Normalize Edilmiş Değerler\n",
       "0  8.987185                    0.898724\n",
       "1  5.586348                    0.558631\n",
       "2  6.660821                    0.666082\n",
       "3  2.728758                    0.272865\n",
       "4  8.430108                    0.843015"
      ]
     },
     "execution_count": 63,
     "metadata": {},
     "output_type": "execute_result"
    }
   ],
   "source": [
    "df.head()"
   ]
  },
  {
   "cell_type": "code",
   "execution_count": 64,
   "id": "1ed04119",
   "metadata": {},
   "outputs": [
    {
     "data": {
      "text/html": [
       "<div>\n",
       "<style scoped>\n",
       "    .dataframe tbody tr th:only-of-type {\n",
       "        vertical-align: middle;\n",
       "    }\n",
       "\n",
       "    .dataframe tbody tr th {\n",
       "        vertical-align: top;\n",
       "    }\n",
       "\n",
       "    .dataframe thead th {\n",
       "        text-align: right;\n",
       "    }\n",
       "</style>\n",
       "<table border=\"1\" class=\"dataframe\">\n",
       "  <thead>\n",
       "    <tr style=\"text-align: right;\">\n",
       "      <th></th>\n",
       "      <th>Değerler</th>\n",
       "      <th>Normalize Edilmiş Değerler</th>\n",
       "    </tr>\n",
       "  </thead>\n",
       "  <tbody>\n",
       "    <tr>\n",
       "      <th>99995</th>\n",
       "      <td>6.600241</td>\n",
       "      <td>0.660024</td>\n",
       "    </tr>\n",
       "    <tr>\n",
       "      <th>99996</th>\n",
       "      <td>5.375191</td>\n",
       "      <td>0.537515</td>\n",
       "    </tr>\n",
       "    <tr>\n",
       "      <th>99997</th>\n",
       "      <td>4.871949</td>\n",
       "      <td>0.487190</td>\n",
       "    </tr>\n",
       "    <tr>\n",
       "      <th>99998</th>\n",
       "      <td>0.647227</td>\n",
       "      <td>0.064706</td>\n",
       "    </tr>\n",
       "    <tr>\n",
       "      <th>99999</th>\n",
       "      <td>9.975046</td>\n",
       "      <td>0.997513</td>\n",
       "    </tr>\n",
       "  </tbody>\n",
       "</table>\n",
       "</div>"
      ],
      "text/plain": [
       "       Değerler  Normalize Edilmiş Değerler\n",
       "99995  6.600241                    0.660024\n",
       "99996  5.375191                    0.537515\n",
       "99997  4.871949                    0.487190\n",
       "99998  0.647227                    0.064706\n",
       "99999  9.975046                    0.997513"
      ]
     },
     "execution_count": 64,
     "metadata": {},
     "output_type": "execute_result"
    }
   ],
   "source": [
    "df.tail()"
   ]
  },
  {
   "cell_type": "code",
   "execution_count": 65,
   "id": "c8ea978a",
   "metadata": {},
   "outputs": [
    {
     "data": {
      "text/plain": [
       "count    100000.000000\n",
       "mean          5.017581\n",
       "std           2.880792\n",
       "min           0.000184\n",
       "25%           2.521361\n",
       "50%           5.025983\n",
       "75%           7.515414\n",
       "max           9.999914\n",
       "Name: Değerler, dtype: float64"
      ]
     },
     "execution_count": 65,
     "metadata": {},
     "output_type": "execute_result"
    }
   ],
   "source": [
    "df['Değerler'].describe()"
   ]
  },
  {
   "cell_type": "code",
   "execution_count": 66,
   "id": "7f5510e8",
   "metadata": {},
   "outputs": [
    {
     "data": {
      "text/plain": [
       "count    100000.000000\n",
       "mean          0.501753\n",
       "std           0.288087\n",
       "min           0.000000\n",
       "25%           0.252125\n",
       "50%           0.502593\n",
       "75%           0.751543\n",
       "max           1.000000\n",
       "Name: Normalize Edilmiş Değerler, dtype: float64"
      ]
     },
     "execution_count": 66,
     "metadata": {},
     "output_type": "execute_result"
    }
   ],
   "source": [
    "df['Normalize Edilmiş Değerler'].describe()"
   ]
  },
  {
   "cell_type": "markdown",
   "id": "7c432196",
   "metadata": {},
   "source": [
    "<h4 style=\"color:green;\"> Aykırı Değer Tespiti</h4>\n"
   ]
  },
  {
   "cell_type": "code",
   "execution_count": 67,
   "id": "f5d043b5",
   "metadata": {},
   "outputs": [
    {
     "data": {
      "text/plain": [
       "0"
      ]
     },
     "execution_count": 67,
     "metadata": {},
     "output_type": "execute_result"
    }
   ],
   "source": [
    "Q1 = df['Değerler'].quantile(0.25)\n",
    "Q3 = df['Değerler'].quantile(0.75)\n",
    "IQR = Q3 - Q1\n",
    "lower_bound = Q1 - 1.5 * IQR\n",
    "upper_bound = Q3 + 1.5 * IQR\n",
    "outliers = df[(df['Değerler'] < lower_bound) | (df['Değerler'] > upper_bound)]\n",
    "len(outliers)"
   ]
  },
  {
   "cell_type": "code",
   "execution_count": 68,
   "id": "a44c503d",
   "metadata": {},
   "outputs": [
    {
     "data": {
      "text/plain": [
       "0"
      ]
     },
     "execution_count": 68,
     "metadata": {},
     "output_type": "execute_result"
    }
   ],
   "source": [
    "Q1 = df[\"Normalize Edilmiş Değerler\"].quantile(0.25)\n",
    "Q3 = df[\"Normalize Edilmiş Değerler\"].quantile(0.75)\n",
    "IQR = Q3 - Q1\n",
    "lower_bound = Q1 - 1.5 * IQR\n",
    "upper_bound = Q3 + 1.5 * IQR\n",
    "outliers = df[(df[\"Normalize Edilmiş Değerler\"] < lower_bound) | (df[\"Normalize Edilmiş Değerler\"] > upper_bound)]\n",
    "len(outliers)"
   ]
  },
  {
   "cell_type": "markdown",
   "id": "08a71a06",
   "metadata": {},
   "source": [
    "<h1 style=\"color:red;\">__________________________________________________</h1>\n",
    "<h1 style=\"color:red;\">__________________________________________________</h1>\n",
    "<h1 style=\"color:red;\">__________________________________________________</h1>"
   ]
  },
  {
   "cell_type": "markdown",
   "id": "fc50c873",
   "metadata": {},
   "source": [
    "<h1 style=\"color:purple;\">Python İle T Student Dağılımlı Veri Üzerinde Min-Max Normalizasyonu</h1>"
   ]
  },
  {
   "cell_type": "code",
   "execution_count": 69,
   "id": "fb8ee9e5",
   "metadata": {},
   "outputs": [],
   "source": [
    "data = np.random.standard_t(df=5, size=100000)\n",
    "df = pd.DataFrame(data, columns=['Değerler'])"
   ]
  },
  {
   "cell_type": "code",
   "execution_count": 70,
   "id": "75c4d3c6",
   "metadata": {},
   "outputs": [
    {
     "data": {
      "image/png": "[encoded data removed]",
      "text/plain": [
       "<Figure size 1000x600 with 1 Axes>"
      ]
     },
     "metadata": {},
     "output_type": "display_data"
    }
   ],
   "source": [
    "# Veriyi görselleştir\n",
    "plt.figure(figsize=(10, 6))\n",
    "plt.hist(df,bins=50, color='green', alpha=0.7)\n",
    "plt.title('T Student Dağılımı', fontsize=16)\n",
    "plt.xlabel('Değerler', fontsize=14)\n",
    "plt.ylabel('Frekans', fontsize=14)\n",
    "plt.show()"
   ]
  },
  {
   "cell_type": "markdown",
   "id": "564bcd49",
   "metadata": {},
   "source": [
    "<h4 style=\"color:green;\">Adım - 1 )  Minimum ve Maksimum Değerlerin Bulunması:</h4>"
   ]
  },
  {
   "cell_type": "code",
   "execution_count": 71,
   "id": "8403df42",
   "metadata": {},
   "outputs": [],
   "source": [
    "min_val = df['Değerler'].min()\n",
    "max_val = df['Değerler'].max()"
   ]
  },
  {
   "cell_type": "markdown",
   "id": "1810b4da",
   "metadata": {},
   "source": [
    "<h4 style=\"color:green;\">Adım - 2 ) Yeni Değerlerin Hesaplanması:</h4>"
   ]
  },
  {
   "cell_type": "code",
   "execution_count": 72,
   "id": "22915b4a",
   "metadata": {},
   "outputs": [],
   "source": [
    "df['Normalize Edilmiş Değerler'] = (df['Değerler'] - min_val) / (max_val - min_val)\n"
   ]
  },
  {
   "cell_type": "code",
   "execution_count": 73,
   "id": "b8b3c3dd",
   "metadata": {
    "scrolled": false
   },
   "outputs": [
    {
     "data": {
      "image/png": "[encoded data removed]",
      "text/plain": [
       "<Figure size 1000x600 with 1 Axes>"
      ]
     },
     "metadata": {},
     "output_type": "display_data"
    }
   ],
   "source": [
    "# Veriyi görselleştir\n",
    "plt.figure(figsize=(10, 6))\n",
    "plt.hist(df['Normalize Edilmiş Değerler'], bins=50, color='green', alpha=0.7)\n",
    "plt.title('T Student Normalize Edilmiş Değerler', fontsize=16)\n",
    "plt.xlabel('Değerler', fontsize=14)\n",
    "plt.ylabel('Frekans', fontsize=14)\n",
    "plt.show()"
   ]
  },
  {
   "cell_type": "markdown",
   "id": "5e9cd467",
   "metadata": {},
   "source": [
    "<h4 style=\"color:green;\"> Aykırı Değer Tespiti</h4>\n"
   ]
  },
  {
   "cell_type": "code",
   "execution_count": 74,
   "id": "27885a21",
   "metadata": {},
   "outputs": [
    {
     "data": {
      "text/plain": [
       "3398"
      ]
     },
     "execution_count": 74,
     "metadata": {},
     "output_type": "execute_result"
    }
   ],
   "source": [
    "Q1 = df['Değerler'].quantile(0.25)\n",
    "Q3 = df['Değerler'].quantile(0.75)\n",
    "IQR = Q3 - Q1\n",
    "lower_bound = Q1 - 1.5 * IQR\n",
    "upper_bound = Q3 + 1.5 * IQR\n",
    "outliers = df[(df['Değerler'] < lower_bound) | (df['Değerler'] > upper_bound)]\n",
    "len(outliers)"
   ]
  },
  {
   "cell_type": "code",
   "execution_count": 75,
   "id": "8351da62",
   "metadata": {},
   "outputs": [
    {
     "data": {
      "text/plain": [
       "3398"
      ]
     },
     "execution_count": 75,
     "metadata": {},
     "output_type": "execute_result"
    }
   ],
   "source": [
    "Q1 = df[\"Normalize Edilmiş Değerler\"].quantile(0.25)\n",
    "Q3 = df[\"Normalize Edilmiş Değerler\"].quantile(0.75)\n",
    "IQR = Q3 - Q1\n",
    "lower_bound = Q1 - 1.5 * IQR\n",
    "upper_bound = Q3 + 1.5 * IQR\n",
    "outliers = df[(df[\"Normalize Edilmiş Değerler\"] < lower_bound) | (df[\"Normalize Edilmiş Değerler\"] > upper_bound)]\n",
    "len(outliers)"
   ]
  }
 ],
 "metadata": {
  "kernelspec": {
   "display_name": "Python 3 (ipykernel)",
   "language": "python",
   "name": "python3"
  },
  "language_info": {
   "codemirror_mode": {
    "name": "ipython",
    "version": 3
   },
   "file_extension": ".py",
   "mimetype": "text/x-python",
   "name": "python",
   "nbconvert_exporter": "python",
   "pygments_lexer": "ipython3",
   "version": "3.11.5"
  }
 },
 "nbformat": 4,
 "nbformat_minor": 5
}
